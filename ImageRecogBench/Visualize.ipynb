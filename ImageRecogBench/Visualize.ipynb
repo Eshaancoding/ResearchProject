{
 "cells": [
  {
   "cell_type": "markdown",
   "metadata": {},
   "source": [
    "## Get Dataset"
   ]
  },
  {
   "cell_type": "code",
   "execution_count": 1,
   "metadata": {},
   "outputs": [],
   "source": [
    "import torch\n",
    "import torchvision.transforms as transforms\n",
    "from train import MNISTDatasetSize, Policy, device\n"
   ]
  },
  {
   "cell_type": "markdown",
   "metadata": {},
   "source": [
    "## Load Model"
   ]
  },
  {
   "cell_type": "code",
   "execution_count": 2,
   "metadata": {},
   "outputs": [],
   "source": [
    "model = torch.load('..\\models\\MNISTBenchmarkModel.pt').to(device) "
   ]
  },
  {
   "cell_type": "markdown",
   "metadata": {},
   "source": [
    "### Testing function"
   ]
  },
  {
   "cell_type": "code",
   "execution_count": 3,
   "metadata": {},
   "outputs": [],
   "source": [
    "from PIL import Image\n",
    "def test (validation_size, mag):\n",
    "    dataset = MNISTDatasetSize(size=validation_size, mag=mag)\n",
    "    correct = 0\n",
    "    for x, y in dataset:\n",
    "        y = y.item()\n",
    "        trans = transforms.ToPILImage()\n",
    "        display(trans(x).convert('RGB'))\n",
    "        output = torch.softmax(model(x.unsqueeze(0).to(device)),1)\n",
    "        argmax = torch.argmax(output).item()\n",
    "        print(\"Output:\", output)\n",
    "        print(\"Argmax:\", argmax)\n",
    "        print(\"Ground Truth:\", y)\n",
    "        if argmax == y: correct += 1\n",
    "    print(f\"Validation Accuracy: {(correct/validation_size)*100:.1f}%\")\n"
   ]
  },
  {
   "cell_type": "markdown",
   "metadata": {},
   "source": [
    "## Test at different scale"
   ]
  },
  {
   "cell_type": "code",
   "execution_count": 4,
   "metadata": {},
   "outputs": [
    {
     "data": {
      "image/png": "[encoded data removed]",
      "text/plain": [
       "<PIL.Image.Image image mode=RGB size=28x28 at 0x2108DF6BF40>"
      ]
     },
     "metadata": {},
     "output_type": "display_data"
    },
    {
     "name": "stdout",
     "output_type": "stream",
     "text": [
      "Output: tensor([[3.8856e-23, 6.4269e-08, 1.0000e+00, 2.5298e-07, 4.2936e-10, 1.1288e-11,\n",
      "         1.8282e-15, 5.6125e-13, 1.9591e-09, 4.0607e-14]], device='cuda:0',\n",
      "       grad_fn=<SoftmaxBackward0>)\n",
      "Argmax: 2\n",
      "Ground Truth: 2\n"
     ]
    },
    {
     "data": {
      "image/png": "[encoded data removed]",
      "text/plain": [
       "<PIL.Image.Image image mode=RGB size=28x28 at 0x210E925ED10>"
      ]
     },
     "metadata": {},
     "output_type": "display_data"
    },
    {
     "name": "stdout",
     "output_type": "stream",
     "text": [
      "Output: tensor([[8.7004e-18, 2.5044e-21, 6.7872e-15, 1.9627e-02, 9.6928e-01, 1.9786e-10,\n",
      "         1.3931e-11, 5.0857e-12, 3.5816e-09, 1.1097e-02]], device='cuda:0',\n",
      "       grad_fn=<SoftmaxBackward0>)\n",
      "Argmax: 4\n",
      "Ground Truth: 4\n"
     ]
    },
    {
     "data": {
      "image/png": "[encoded data removed]",
      "text/plain": [
       "<PIL.Image.Image image mode=RGB size=28x28 at 0x2108DF6B820>"
      ]
     },
     "metadata": {},
     "output_type": "display_data"
    },
    {
     "name": "stdout",
     "output_type": "stream",
     "text": [
      "Output: tensor([[4.5596e-20, 4.2684e-23, 2.8359e-16, 4.1929e-06, 3.1833e-05, 1.7688e-13,\n",
      "         1.7735e-14, 1.9977e-12, 2.3474e-06, 9.9996e-01]], device='cuda:0',\n",
      "       grad_fn=<SoftmaxBackward0>)\n",
      "Argmax: 9\n",
      "Ground Truth: 9\n"
     ]
    },
    {
     "data": {
      "image/png": "[encoded data removed]",
      "text/plain": [
       "<PIL.Image.Image image mode=RGB size=28x28 at 0x210E925FE50>"
      ]
     },
     "metadata": {},
     "output_type": "display_data"
    },
    {
     "name": "stdout",
     "output_type": "stream",
     "text": [
      "Output: tensor([[1.2525e-11, 1.0000e+00, 8.5473e-14, 1.0199e-30, 9.4707e-30, 1.1049e-30,\n",
      "         2.9745e-18, 5.1959e-12, 5.1636e-26, 3.3430e-37]], device='cuda:0',\n",
      "       grad_fn=<SoftmaxBackward0>)\n",
      "Argmax: 1\n",
      "Ground Truth: 1\n"
     ]
    },
    {
     "data": {
      "image/png": "[encoded data removed]",
      "text/plain": [
       "<PIL.Image.Image image mode=RGB size=28x28 at 0x2108E0127A0>"
      ]
     },
     "metadata": {},
     "output_type": "display_data"
    },
    {
     "name": "stdout",
     "output_type": "stream",
     "text": [
      "Output: tensor([[3.2006e-07, 9.9750e-01, 1.2528e-05, 1.6611e-14, 1.3039e-11, 1.6947e-14,\n",
      "         1.2148e-07, 2.4853e-03, 5.7394e-10, 1.0950e-15]], device='cuda:0',\n",
      "       grad_fn=<SoftmaxBackward0>)\n",
      "Argmax: 1\n",
      "Ground Truth: 1\n"
     ]
    },
    {
     "data": {
      "image/png": "[encoded data removed]",
      "text/plain": [
       "<PIL.Image.Image image mode=RGB size=28x28 at 0x2108E012800>"
      ]
     },
     "metadata": {},
     "output_type": "display_data"
    },
    {
     "name": "stdout",
     "output_type": "stream",
     "text": [
      "Output: tensor([[1.9925e-15, 2.9985e-18, 7.2365e-12, 6.2824e-09, 2.2745e-05, 9.9998e-01,\n",
      "         4.5902e-08, 2.1579e-14, 1.0040e-09, 2.0526e-09]], device='cuda:0',\n",
      "       grad_fn=<SoftmaxBackward0>)\n",
      "Argmax: 5\n",
      "Ground Truth: 5\n"
     ]
    },
    {
     "data": {
      "image/png": "[encoded data removed]",
      "text/plain": [
       "<PIL.Image.Image image mode=RGB size=28x28 at 0x2108E0127D0>"
      ]
     },
     "metadata": {},
     "output_type": "display_data"
    },
    {
     "name": "stdout",
     "output_type": "stream",
     "text": [
      "Output: tensor([[1.9848e-15, 1.0000e+00, 3.1947e-14, 1.0055e-37, 5.0903e-35, 6.8357e-39,\n",
      "         7.5700e-26, 2.3086e-15, 9.2383e-28, 2.4118e-41]], device='cuda:0',\n",
      "       grad_fn=<SoftmaxBackward0>)\n",
      "Argmax: 1\n",
      "Ground Truth: 1\n"
     ]
    },
    {
     "data": {
      "image/png": "[encoded data removed]",
      "text/plain": [
       "<PIL.Image.Image image mode=RGB size=28x28 at 0x2108E0114E0>"
      ]
     },
     "metadata": {},
     "output_type": "display_data"
    },
    {
     "name": "stdout",
     "output_type": "stream",
     "text": [
      "Output: tensor([[2.5285e-13, 6.9832e-06, 2.1358e-01, 2.6912e-03, 2.0810e-05, 3.6058e-06,\n",
      "         2.8938e-06, 4.1070e-03, 7.7743e-01, 2.1635e-03]], device='cuda:0',\n",
      "       grad_fn=<SoftmaxBackward0>)\n",
      "Argmax: 8\n",
      "Ground Truth: 8\n"
     ]
    },
    {
     "data": {
      "image/png": "[encoded data removed]",
      "text/plain": [
       "<PIL.Image.Image image mode=RGB size=28x28 at 0x2108E0114E0>"
      ]
     },
     "metadata": {},
     "output_type": "display_data"
    },
    {
     "name": "stdout",
     "output_type": "stream",
     "text": [
      "Output: tensor([[8.3598e-14, 2.4188e-12, 1.7319e-05, 9.9997e-01, 1.0433e-05, 4.6758e-09,\n",
      "         6.8124e-11, 8.0155e-14, 2.2699e-11, 8.2494e-09]], device='cuda:0',\n",
      "       grad_fn=<SoftmaxBackward0>)\n",
      "Argmax: 3\n",
      "Ground Truth: 3\n"
     ]
    },
    {
     "data": {
      "image/png": "[encoded data removed]",
      "text/plain": [
       "<PIL.Image.Image image mode=RGB size=28x28 at 0x2108E012830>"
      ]
     },
     "metadata": {},
     "output_type": "display_data"
    },
    {
     "name": "stdout",
     "output_type": "stream",
     "text": [
      "Output: tensor([[3.1048e-35, 3.9021e-07, 1.0000e+00, 5.2618e-20, 1.0910e-26, 1.7373e-28,\n",
      "         4.4700e-29, 1.4476e-20, 4.0239e-21, 9.7215e-34]], device='cuda:0',\n",
      "       grad_fn=<SoftmaxBackward0>)\n",
      "Argmax: 2\n",
      "Ground Truth: 2\n"
     ]
    },
    {
     "data": {
      "image/png": "[encoded data removed]",
      "text/plain": [
       "<PIL.Image.Image image mode=RGB size=28x28 at 0x2108E0127A0>"
      ]
     },
     "metadata": {},
     "output_type": "display_data"
    },
    {
     "name": "stdout",
     "output_type": "stream",
     "text": [
      "Output: tensor([[5.2598e-25, 4.1729e-22, 6.6704e-10, 1.0000e+00, 9.8092e-09, 4.1307e-18,\n",
      "         4.2815e-24, 4.9076e-28, 2.0091e-20, 8.5615e-16]], device='cuda:0',\n",
      "       grad_fn=<SoftmaxBackward0>)\n",
      "Argmax: 3\n",
      "Ground Truth: 3\n"
     ]
    },
    {
     "data": {
      "image/png": "[encoded data removed]",
      "text/plain": [
       "<PIL.Image.Image image mode=RGB size=28x28 at 0x2108E012830>"
      ]
     },
     "metadata": {},
     "output_type": "display_data"
    },
    {
     "name": "stdout",
     "output_type": "stream",
     "text": [
      "Output: tensor([[1.0000e+00, 5.1303e-08, 1.9537e-17, 2.5008e-18, 1.6252e-20, 2.0015e-17,\n",
      "         7.9094e-07, 3.6769e-11, 4.2975e-17, 2.9339e-16]], device='cuda:0',\n",
      "       grad_fn=<SoftmaxBackward0>)\n",
      "Argmax: 0\n",
      "Ground Truth: 0\n"
     ]
    },
    {
     "data": {
      "image/png": "[encoded data removed]",
      "text/plain": [
       "<PIL.Image.Image image mode=RGB size=28x28 at 0x2108E012800>"
      ]
     },
     "metadata": {},
     "output_type": "display_data"
    },
    {
     "name": "stdout",
     "output_type": "stream",
     "text": [
      "Output: tensor([[9.9480e-01, 6.8188e-10, 2.1245e-19, 6.4098e-22, 2.0047e-22, 4.5146e-15,\n",
      "         5.2018e-03, 2.5346e-11, 2.2667e-20, 5.4662e-20]], device='cuda:0',\n",
      "       grad_fn=<SoftmaxBackward0>)\n",
      "Argmax: 0\n",
      "Ground Truth: 0\n"
     ]
    },
    {
     "data": {
      "image/png": "[encoded data removed]",
      "text/plain": [
       "<PIL.Image.Image image mode=RGB size=28x28 at 0x2108E012830>"
      ]
     },
     "metadata": {},
     "output_type": "display_data"
    },
    {
     "name": "stdout",
     "output_type": "stream",
     "text": [
      "Output: tensor([[1.3131e-12, 1.7224e-05, 9.9514e-01, 4.8467e-03, 8.4576e-07, 5.2838e-10,\n",
      "         1.5395e-11, 1.0579e-09, 2.0991e-07, 6.4970e-09]], device='cuda:0',\n",
      "       grad_fn=<SoftmaxBackward0>)\n",
      "Argmax: 2\n",
      "Ground Truth: 2\n"
     ]
    },
    {
     "data": {
      "image/png": "[encoded data removed]",
      "text/plain": [
       "<PIL.Image.Image image mode=RGB size=28x28 at 0x2108E012830>"
      ]
     },
     "metadata": {},
     "output_type": "display_data"
    },
    {
     "name": "stdout",
     "output_type": "stream",
     "text": [
      "Output: tensor([[2.1021e-21, 1.0000e+00, 1.1474e-16, 2.9539e-42, 1.4013e-45, 0.0000e+00,\n",
      "         1.6211e-33, 4.0398e-20, 4.2804e-38, 0.0000e+00]], device='cuda:0',\n",
      "       grad_fn=<SoftmaxBackward0>)\n",
      "Argmax: 1\n",
      "Ground Truth: 1\n"
     ]
    },
    {
     "data": {
      "image/png": "[encoded data removed]",
      "text/plain": [
       "<PIL.Image.Image image mode=RGB size=28x28 at 0x2108E0128F0>"
      ]
     },
     "metadata": {},
     "output_type": "display_data"
    },
    {
     "name": "stdout",
     "output_type": "stream",
     "text": [
      "Output: tensor([[9.2803e-14, 1.0000e+00, 1.4678e-10, 6.8309e-29, 8.6892e-28, 2.5911e-25,\n",
      "         1.6669e-18, 2.8327e-15, 1.7862e-23, 5.8855e-44]], device='cuda:0',\n",
      "       grad_fn=<SoftmaxBackward0>)\n",
      "Argmax: 1\n",
      "Ground Truth: 1\n",
      "Validation Accuracy: 100.0%\n"
     ]
    }
   ],
   "source": [
    "test(validation_size=16, mag=1)"
   ]
  },
  {
   "cell_type": "code",
   "execution_count": 5,
   "metadata": {},
   "outputs": [
    {
     "data": {
      "image/png": "[encoded data removed]",
      "text/plain": [
       "<PIL.Image.Image image mode=RGB size=35x35 at 0x2108E0127A0>"
      ]
     },
     "metadata": {},
     "output_type": "display_data"
    },
    {
     "name": "stdout",
     "output_type": "stream",
     "text": [
      "Output: tensor([[9.9777e-01, 5.6729e-04, 7.6908e-08, 4.2388e-10, 1.0153e-09, 7.0225e-07,\n",
      "         1.5825e-03, 8.0360e-05, 2.0826e-08, 2.1748e-09]], device='cuda:0',\n",
      "       grad_fn=<SoftmaxBackward0>)\n",
      "Argmax: 0\n",
      "Ground Truth: 0\n"
     ]
    },
    {
     "data": {
      "image/png": "[encoded data removed]",
      "text/plain": [
       "<PIL.Image.Image image mode=RGB size=35x35 at 0x2108E0128F0>"
      ]
     },
     "metadata": {},
     "output_type": "display_data"
    },
    {
     "name": "stdout",
     "output_type": "stream",
     "text": [
      "Output: tensor([[9.4591e-01, 4.7693e-04, 2.8496e-04, 2.9328e-05, 2.9336e-04, 6.5278e-03,\n",
      "         3.4976e-02, 4.8650e-05, 1.3514e-03, 1.0106e-02]], device='cuda:0',\n",
      "       grad_fn=<SoftmaxBackward0>)\n",
      "Argmax: 0\n",
      "Ground Truth: 0\n"
     ]
    },
    {
     "data": {
      "image/png": "[encoded data removed]",
      "text/plain": [
       "<PIL.Image.Image image mode=RGB size=35x35 at 0x2108E0129B0>"
      ]
     },
     "metadata": {},
     "output_type": "display_data"
    },
    {
     "name": "stdout",
     "output_type": "stream",
     "text": [
      "Output: tensor([[3.3034e-08, 2.4564e-12, 2.7584e-12, 7.2509e-11, 1.9905e-11, 7.2287e-07,\n",
      "         9.9986e-01, 1.4020e-04, 1.1509e-06, 5.7590e-07]], device='cuda:0',\n",
      "       grad_fn=<SoftmaxBackward0>)\n",
      "Argmax: 6\n",
      "Ground Truth: 6\n"
     ]
    },
    {
     "data": {
      "image/png": "[encoded data removed]",
      "text/plain": [
       "<PIL.Image.Image image mode=RGB size=35x35 at 0x2108E0128F0>"
      ]
     },
     "metadata": {},
     "output_type": "display_data"
    },
    {
     "name": "stdout",
     "output_type": "stream",
     "text": [
      "Output: tensor([[1.3650e-04, 2.6543e-09, 6.9333e-11, 1.3560e-09, 1.8889e-08, 3.7614e-06,\n",
      "         9.9829e-01, 1.5721e-03, 5.4765e-08, 6.1313e-07]], device='cuda:0',\n",
      "       grad_fn=<SoftmaxBackward0>)\n",
      "Argmax: 6\n",
      "Ground Truth: 6\n"
     ]
    },
    {
     "data": {
      "image/png": "[encoded data removed]",
      "text/plain": [
       "<PIL.Image.Image image mode=RGB size=35x35 at 0x2108E012AA0>"
      ]
     },
     "metadata": {},
     "output_type": "display_data"
    },
    {
     "name": "stdout",
     "output_type": "stream",
     "text": [
      "Output: tensor([[6.0774e-07, 8.0835e-08, 5.7229e-04, 9.9824e-01, 1.1787e-03, 2.0749e-06,\n",
      "         2.3225e-07, 6.1810e-09, 2.0941e-08, 2.4982e-06]], device='cuda:0',\n",
      "       grad_fn=<SoftmaxBackward0>)\n",
      "Argmax: 3\n",
      "Ground Truth: 3\n"
     ]
    },
    {
     "data": {
      "image/png": "[encoded data removed]",
      "text/plain": [
       "<PIL.Image.Image image mode=RGB size=35x35 at 0x2108E0129B0>"
      ]
     },
     "metadata": {},
     "output_type": "display_data"
    },
    {
     "name": "stdout",
     "output_type": "stream",
     "text": [
      "Output: tensor([[2.2294e-04, 4.0424e-03, 1.2774e-01, 1.7673e-02, 7.1205e-04, 4.6559e-05,\n",
      "         1.1868e-04, 1.1140e-01, 7.2997e-01, 8.0757e-03]], device='cuda:0',\n",
      "       grad_fn=<SoftmaxBackward0>)\n",
      "Argmax: 8\n",
      "Ground Truth: 8\n"
     ]
    },
    {
     "data": {
      "image/png": "[encoded data removed]",
      "text/plain": [
       "<PIL.Image.Image image mode=RGB size=35x35 at 0x2108E0127A0>"
      ]
     },
     "metadata": {},
     "output_type": "display_data"
    },
    {
     "name": "stdout",
     "output_type": "stream",
     "text": [
      "Output: tensor([[9.9918e-01, 2.5144e-08, 5.6716e-10, 2.0916e-10, 7.0001e-10, 6.8227e-07,\n",
      "         8.2414e-04, 4.1134e-08, 4.7970e-10, 3.2966e-09]], device='cuda:0',\n",
      "       grad_fn=<SoftmaxBackward0>)\n",
      "Argmax: 0\n",
      "Ground Truth: 0\n"
     ]
    },
    {
     "data": {
      "image/png": "[encoded data removed]",
      "text/plain": [
       "<PIL.Image.Image image mode=RGB size=35x35 at 0x2108E012980>"
      ]
     },
     "metadata": {},
     "output_type": "display_data"
    },
    {
     "name": "stdout",
     "output_type": "stream",
     "text": [
      "Output: tensor([[3.0352e-04, 1.1190e-06, 1.0182e-07, 4.7473e-07, 2.1873e-07, 4.9896e-04,\n",
      "         9.9906e-01, 1.3621e-04, 1.1247e-08, 2.7625e-10]], device='cuda:0',\n",
      "       grad_fn=<SoftmaxBackward0>)\n",
      "Argmax: 6\n",
      "Ground Truth: 6\n"
     ]
    },
    {
     "data": {
      "image/png": "[encoded data removed]",
      "text/plain": [
       "<PIL.Image.Image image mode=RGB size=35x35 at 0x2108E012AA0>"
      ]
     },
     "metadata": {},
     "output_type": "display_data"
    },
    {
     "name": "stdout",
     "output_type": "stream",
     "text": [
      "Output: tensor([[2.2031e-11, 2.8813e-08, 3.0644e-05, 1.5606e-05, 1.2123e-07, 4.6830e-09,\n",
      "         2.9050e-08, 2.9796e-04, 9.8472e-01, 1.4934e-02]], device='cuda:0',\n",
      "       grad_fn=<SoftmaxBackward0>)\n",
      "Argmax: 8\n",
      "Ground Truth: 8\n"
     ]
    },
    {
     "data": {
      "image/png": "[encoded data removed]",
      "text/plain": [
       "<PIL.Image.Image image mode=RGB size=35x35 at 0x2108E012860>"
      ]
     },
     "metadata": {},
     "output_type": "display_data"
    },
    {
     "name": "stdout",
     "output_type": "stream",
     "text": [
      "Output: tensor([[1.6871e-12, 7.7767e-07, 9.9215e-01, 7.8424e-03, 1.4128e-10, 1.1058e-13,\n",
      "         1.4251e-11, 7.2070e-08, 9.4878e-06, 2.4221e-07]], device='cuda:0',\n",
      "       grad_fn=<SoftmaxBackward0>)\n",
      "Argmax: 2\n",
      "Ground Truth: 2\n"
     ]
    },
    {
     "data": {
      "image/png": "[encoded data removed]",
      "text/plain": [
       "<PIL.Image.Image image mode=RGB size=35x35 at 0x2108E012800>"
      ]
     },
     "metadata": {},
     "output_type": "display_data"
    },
    {
     "name": "stdout",
     "output_type": "stream",
     "text": [
      "Output: tensor([[5.3881e-07, 1.2029e-05, 1.6273e-07, 3.7893e-10, 1.9449e-10, 4.5701e-11,\n",
      "         3.4477e-05, 9.9994e-01, 1.3651e-05, 1.6147e-07]], device='cuda:0',\n",
      "       grad_fn=<SoftmaxBackward0>)\n",
      "Argmax: 7\n",
      "Ground Truth: 7\n"
     ]
    },
    {
     "data": {
      "image/png": "[encoded data removed]",
      "text/plain": [
       "<PIL.Image.Image image mode=RGB size=35x35 at 0x2108E0127A0>"
      ]
     },
     "metadata": {},
     "output_type": "display_data"
    },
    {
     "name": "stdout",
     "output_type": "stream",
     "text": [
      "Output: tensor([[2.8470e-04, 6.6155e-04, 1.6474e-02, 5.7193e-02, 1.5066e-03, 3.8196e-07,\n",
      "         1.2227e-04, 8.2075e-02, 3.0080e-02, 8.1160e-01]], device='cuda:0',\n",
      "       grad_fn=<SoftmaxBackward0>)\n",
      "Argmax: 9\n",
      "Ground Truth: 9\n"
     ]
    },
    {
     "data": {
      "image/png": "[encoded data removed]",
      "text/plain": [
       "<PIL.Image.Image image mode=RGB size=35x35 at 0x2108E012950>"
      ]
     },
     "metadata": {},
     "output_type": "display_data"
    },
    {
     "name": "stdout",
     "output_type": "stream",
     "text": [
      "Output: tensor([[4.7755e-09, 6.4962e-10, 2.9026e-08, 3.4540e-04, 9.9953e-01, 1.1557e-04,\n",
      "         4.9660e-07, 9.6092e-09, 1.1136e-09, 3.9739e-06]], device='cuda:0',\n",
      "       grad_fn=<SoftmaxBackward0>)\n",
      "Argmax: 4\n",
      "Ground Truth: 4\n"
     ]
    },
    {
     "data": {
      "image/png": "[encoded data removed]",
      "text/plain": [
       "<PIL.Image.Image image mode=RGB size=35x35 at 0x2108E0114E0>"
      ]
     },
     "metadata": {},
     "output_type": "display_data"
    },
    {
     "name": "stdout",
     "output_type": "stream",
     "text": [
      "Output: tensor([[4.0729e-03, 9.9150e-01, 4.1827e-03, 3.7952e-05, 1.0085e-04, 1.7782e-07,\n",
      "         3.2009e-06, 1.0038e-04, 3.5848e-06, 3.7411e-08]], device='cuda:0',\n",
      "       grad_fn=<SoftmaxBackward0>)\n",
      "Argmax: 1\n",
      "Ground Truth: 1\n"
     ]
    },
    {
     "data": {
      "image/png": "[encoded data removed]",
      "text/plain": [
       "<PIL.Image.Image image mode=RGB size=35x35 at 0x2108E012AA0>"
      ]
     },
     "metadata": {},
     "output_type": "display_data"
    },
    {
     "name": "stdout",
     "output_type": "stream",
     "text": [
      "Output: tensor([[4.3624e-10, 1.8974e-08, 1.4054e-03, 9.9244e-01, 1.7550e-03, 1.6727e-07,\n",
      "         1.4096e-08, 2.1295e-07, 5.2009e-05, 4.3502e-03]], device='cuda:0',\n",
      "       grad_fn=<SoftmaxBackward0>)\n",
      "Argmax: 3\n",
      "Ground Truth: 3\n"
     ]
    },
    {
     "data": {
      "image/png": "[encoded data removed]",
      "text/plain": [
       "<PIL.Image.Image image mode=RGB size=35x35 at 0x2108E0129B0>"
      ]
     },
     "metadata": {},
     "output_type": "display_data"
    },
    {
     "name": "stdout",
     "output_type": "stream",
     "text": [
      "Output: tensor([[5.0375e-05, 3.3231e-05, 1.2922e-05, 2.2446e-07, 6.8706e-08, 5.0996e-08,\n",
      "         2.7743e-04, 9.9950e-01, 1.2870e-04, 8.7697e-07]], device='cuda:0',\n",
      "       grad_fn=<SoftmaxBackward0>)\n",
      "Argmax: 7\n",
      "Ground Truth: 7\n",
      "Validation Accuracy: 100.0%\n"
     ]
    }
   ],
   "source": [
    "test(validation_size=16, mag=2)"
   ]
  },
  {
   "cell_type": "code",
   "execution_count": 6,
   "metadata": {},
   "outputs": [
    {
     "data": {
      "image/png": "[encoded data removed]",
      "text/plain": [
       "<PIL.Image.Image image mode=RGB size=45x45 at 0x210E925FAC0>"
      ]
     },
     "metadata": {},
     "output_type": "display_data"
    },
    {
     "name": "stdout",
     "output_type": "stream",
     "text": [
      "Output: tensor([[1.4605e-02, 8.4632e-01, 2.7254e-08, 6.5573e-11, 2.3222e-06, 9.8649e-08,\n",
      "         9.6813e-03, 1.2938e-01, 1.2293e-05, 1.2746e-08]], device='cuda:0',\n",
      "       grad_fn=<SoftmaxBackward0>)\n",
      "Argmax: 1\n",
      "Ground Truth: 1\n"
     ]
    },
    {
     "data": {
      "image/png": "[encoded data removed]",
      "text/plain": [
       "<PIL.Image.Image image mode=RGB size=45x45 at 0x210E925F400>"
      ]
     },
     "metadata": {},
     "output_type": "display_data"
    },
    {
     "name": "stdout",
     "output_type": "stream",
     "text": [
      "Output: tensor([[4.7552e-12, 1.0198e-06, 2.3109e-05, 1.0892e-08, 4.8611e-10, 1.0533e-12,\n",
      "         1.3813e-11, 7.7954e-06, 9.9974e-01, 2.2450e-04]], device='cuda:0',\n",
      "       grad_fn=<SoftmaxBackward0>)\n",
      "Argmax: 8\n",
      "Ground Truth: 8\n"
     ]
    },
    {
     "data": {
      "image/png": "[encoded data removed]",
      "text/plain": [
       "<PIL.Image.Image image mode=RGB size=45x45 at 0x210E925FAC0>"
      ]
     },
     "metadata": {},
     "output_type": "display_data"
    },
    {
     "name": "stdout",
     "output_type": "stream",
     "text": [
      "Output: tensor([[9.9995e-01, 3.3916e-07, 1.0380e-08, 1.1538e-08, 9.3031e-07, 5.5254e-07,\n",
      "         5.1694e-05, 8.6224e-09, 4.5187e-10, 1.8511e-09]], device='cuda:0',\n",
      "       grad_fn=<SoftmaxBackward0>)\n",
      "Argmax: 0\n",
      "Ground Truth: 0\n"
     ]
    },
    {
     "data": {
      "image/png": "[encoded data removed]",
      "text/plain": [
       "<PIL.Image.Image image mode=RGB size=45x45 at 0x210E925F400>"
      ]
     },
     "metadata": {},
     "output_type": "display_data"
    },
    {
     "name": "stdout",
     "output_type": "stream",
     "text": [
      "Output: tensor([[1.5805e-10, 1.1377e-11, 2.8153e-12, 1.0965e-09, 3.8384e-06, 2.2461e-09,\n",
      "         2.3494e-07, 8.6259e-05, 1.8679e-03, 9.9804e-01]], device='cuda:0',\n",
      "       grad_fn=<SoftmaxBackward0>)\n",
      "Argmax: 9\n",
      "Ground Truth: 9\n"
     ]
    },
    {
     "data": {
      "image/png": "[encoded data removed]",
      "text/plain": [
       "<PIL.Image.Image image mode=RGB size=45x45 at 0x210E925FEE0>"
      ]
     },
     "metadata": {},
     "output_type": "display_data"
    },
    {
     "name": "stdout",
     "output_type": "stream",
     "text": [
      "Output: tensor([[7.0410e-03, 9.7522e-01, 1.6693e-04, 2.1616e-08, 2.9354e-04, 9.5025e-03,\n",
      "         6.0742e-03, 1.7045e-03, 7.8005e-07, 1.3614e-09]], device='cuda:0',\n",
      "       grad_fn=<SoftmaxBackward0>)\n",
      "Argmax: 1\n",
      "Ground Truth: 1\n"
     ]
    },
    {
     "data": {
      "image/png": "[encoded data removed]",
      "text/plain": [
       "<PIL.Image.Image image mode=RGB size=45x45 at 0x210E925E3E0>"
      ]
     },
     "metadata": {},
     "output_type": "display_data"
    },
    {
     "name": "stdout",
     "output_type": "stream",
     "text": [
      "Output: tensor([[2.6099e-09, 2.7381e-10, 8.2647e-10, 9.7306e-07, 9.9983e-01, 1.3737e-04,\n",
      "         7.3662e-09, 5.6764e-08, 1.6649e-08, 2.6721e-05]], device='cuda:0',\n",
      "       grad_fn=<SoftmaxBackward0>)\n",
      "Argmax: 4\n",
      "Ground Truth: 4\n"
     ]
    },
    {
     "data": {
      "image/png": "[encoded data removed]",
      "text/plain": [
       "<PIL.Image.Image image mode=RGB size=45x45 at 0x210E925F400>"
      ]
     },
     "metadata": {},
     "output_type": "display_data"
    },
    {
     "name": "stdout",
     "output_type": "stream",
     "text": [
      "Output: tensor([[2.6644e-03, 9.9510e-01, 3.3140e-07, 5.3714e-10, 1.3143e-07, 2.1553e-09,\n",
      "         6.9005e-05, 2.1310e-03, 3.5521e-05, 2.1727e-09]], device='cuda:0',\n",
      "       grad_fn=<SoftmaxBackward0>)\n",
      "Argmax: 1\n",
      "Ground Truth: 1\n"
     ]
    },
    {
     "data": {
      "image/png": "[encoded data removed]",
      "text/plain": [
       "<PIL.Image.Image image mode=RGB size=45x45 at 0x210E925E3E0>"
      ]
     },
     "metadata": {},
     "output_type": "display_data"
    },
    {
     "name": "stdout",
     "output_type": "stream",
     "text": [
      "Output: tensor([[9.9504e-06, 2.3536e-06, 3.2444e-04, 8.9153e-01, 4.3688e-02, 5.7163e-05,\n",
      "         5.9773e-06, 2.5316e-05, 2.2288e-03, 6.2131e-02]], device='cuda:0',\n",
      "       grad_fn=<SoftmaxBackward0>)\n",
      "Argmax: 3\n",
      "Ground Truth: 3\n"
     ]
    },
    {
     "data": {
      "image/png": "[encoded data removed]",
      "text/plain": [
       "<PIL.Image.Image image mode=RGB size=45x45 at 0x210E925FEE0>"
      ]
     },
     "metadata": {},
     "output_type": "display_data"
    },
    {
     "name": "stdout",
     "output_type": "stream",
     "text": [
      "Output: tensor([[3.1357e-11, 8.5745e-17, 7.2208e-15, 1.7776e-09, 6.6686e-05, 9.9947e-01,\n",
      "         4.6120e-04, 6.0690e-13, 2.1019e-10, 9.1063e-08]], device='cuda:0',\n",
      "       grad_fn=<SoftmaxBackward0>)\n",
      "Argmax: 5\n",
      "Ground Truth: 5\n"
     ]
    },
    {
     "data": {
      "image/png": "[encoded data removed]",
      "text/plain": [
       "<PIL.Image.Image image mode=RGB size=45x45 at 0x210E925F400>"
      ]
     },
     "metadata": {},
     "output_type": "display_data"
    },
    {
     "name": "stdout",
     "output_type": "stream",
     "text": [
      "Output: tensor([[1.6780e-11, 2.4813e-17, 2.9880e-16, 8.4879e-13, 2.5279e-07, 9.7465e-01,\n",
      "         2.5350e-02, 3.0932e-10, 6.2210e-10, 1.6966e-06]], device='cuda:0',\n",
      "       grad_fn=<SoftmaxBackward0>)\n",
      "Argmax: 5\n",
      "Ground Truth: 5\n"
     ]
    },
    {
     "data": {
      "image/png": "[encoded data removed]",
      "text/plain": [
       "<PIL.Image.Image image mode=RGB size=45x45 at 0x210E925F340>"
      ]
     },
     "metadata": {},
     "output_type": "display_data"
    },
    {
     "name": "stdout",
     "output_type": "stream",
     "text": [
      "Output: tensor([[8.2609e-11, 2.9406e-10, 4.3967e-09, 3.1591e-04, 9.9904e-01, 3.5819e-05,\n",
      "         1.2677e-09, 1.9968e-09, 7.9733e-08, 6.0679e-04]], device='cuda:0',\n",
      "       grad_fn=<SoftmaxBackward0>)\n",
      "Argmax: 4\n",
      "Ground Truth: 4\n"
     ]
    },
    {
     "data": {
      "image/png": "[encoded data removed]",
      "text/plain": [
       "<PIL.Image.Image image mode=RGB size=45x45 at 0x210E925FAC0>"
      ]
     },
     "metadata": {},
     "output_type": "display_data"
    },
    {
     "name": "stdout",
     "output_type": "stream",
     "text": [
      "Output: tensor([[1.2887e-07, 1.0442e-09, 3.3737e-05, 9.9897e-01, 3.8865e-04, 7.6232e-09,\n",
      "         4.4159e-08, 1.3058e-07, 2.4181e-06, 6.0166e-04]], device='cuda:0',\n",
      "       grad_fn=<SoftmaxBackward0>)\n",
      "Argmax: 3\n",
      "Ground Truth: 3\n"
     ]
    },
    {
     "data": {
      "image/png": "[encoded data removed]",
      "text/plain": [
       "<PIL.Image.Image image mode=RGB size=45x45 at 0x210E925E290>"
      ]
     },
     "metadata": {},
     "output_type": "display_data"
    },
    {
     "name": "stdout",
     "output_type": "stream",
     "text": [
      "Output: tensor([[2.7098e-09, 9.1158e-14, 5.6365e-11, 8.8053e-09, 1.3087e-06, 9.2977e-01,\n",
      "         7.0224e-02, 3.1519e-09, 6.5894e-08, 9.9612e-07]], device='cuda:0',\n",
      "       grad_fn=<SoftmaxBackward0>)\n",
      "Argmax: 5\n",
      "Ground Truth: 5\n"
     ]
    },
    {
     "data": {
      "image/png": "[encoded data removed]",
      "text/plain": [
       "<PIL.Image.Image image mode=RGB size=45x45 at 0x210E925FEE0>"
      ]
     },
     "metadata": {},
     "output_type": "display_data"
    },
    {
     "name": "stdout",
     "output_type": "stream",
     "text": [
      "Output: tensor([[6.5586e-08, 4.8787e-08, 5.1139e-05, 1.9040e-03, 1.9042e-04, 1.8085e-06,\n",
      "         2.9242e-04, 3.6820e-01, 1.7690e-02, 6.1167e-01]], device='cuda:0',\n",
      "       grad_fn=<SoftmaxBackward0>)\n",
      "Argmax: 9\n",
      "Ground Truth: 9\n"
     ]
    },
    {
     "data": {
      "image/png": "[encoded data removed]",
      "text/plain": [
       "<PIL.Image.Image image mode=RGB size=45x45 at 0x210E925FAC0>"
      ]
     },
     "metadata": {},
     "output_type": "display_data"
    },
    {
     "name": "stdout",
     "output_type": "stream",
     "text": [
      "Output: tensor([[8.2121e-12, 2.1753e-14, 2.4248e-13, 3.1903e-10, 6.9282e-06, 9.4953e-01,\n",
      "         5.0459e-02, 4.2623e-09, 1.0280e-08, 2.4080e-07]], device='cuda:0',\n",
      "       grad_fn=<SoftmaxBackward0>)\n",
      "Argmax: 5\n",
      "Ground Truth: 5\n"
     ]
    },
    {
     "data": {
      "image/png": "[encoded data removed]",
      "text/plain": [
       "<PIL.Image.Image image mode=RGB size=45x45 at 0x210E925FEE0>"
      ]
     },
     "metadata": {},
     "output_type": "display_data"
    },
    {
     "name": "stdout",
     "output_type": "stream",
     "text": [
      "Output: tensor([[1.5671e-11, 3.1729e-08, 4.9448e-05, 2.8926e-07, 1.8675e-09, 1.8819e-10,\n",
      "         7.1571e-09, 3.4169e-04, 9.9935e-01, 2.5852e-04]], device='cuda:0',\n",
      "       grad_fn=<SoftmaxBackward0>)\n",
      "Argmax: 8\n",
      "Ground Truth: 8\n",
      "Validation Accuracy: 100.0%\n"
     ]
    }
   ],
   "source": [
    "test(validation_size=16, mag=3)"
   ]
  }
 ],
 "metadata": {
  "kernelspec": {
   "display_name": "Python 3.10.5 64-bit",
   "language": "python",
   "name": "python3"
  },
  "language_info": {
   "codemirror_mode": {
    "name": "ipython",
    "version": 3
   },
   "file_extension": ".py",
   "mimetype": "text/x-python",
   "name": "python",
   "nbconvert_exporter": "python",
   "pygments_lexer": "ipython3",
   "version": "3.10.5"
  },
  "orig_nbformat": 4,
  "vscode": {
   "interpreter": {
    "hash": "369f2c481f4da34e4445cda3fffd2e751bd1c4d706f27375911949ba6bb62e1c"
   }
  }
 },
 "nbformat": 4,
 "nbformat_minor": 2
}
