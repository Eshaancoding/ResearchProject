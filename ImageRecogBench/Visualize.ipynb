{
 "cells": [
  {
   "cell_type": "markdown",
   "metadata": {},
   "source": [
    "## Get Dataset"
   ]
  },
  {
   "cell_type": "code",
   "execution_count": 1,
   "metadata": {},
   "outputs": [],
   "source": [
    "import torch\n",
    "import torchvision.transforms as transforms\n",
    "from train import MNISTDatasetSize, Policy, device\n"
   ]
  },
  {
   "cell_type": "markdown",
   "metadata": {},
   "source": [
    "## Load Model"
   ]
  },
  {
   "cell_type": "code",
   "execution_count": 2,
   "metadata": {},
   "outputs": [],
   "source": [
    "model = torch.load('..\\models\\MNISTBenchmarkModel.pt').to(device) "
   ]
  },
  {
   "cell_type": "markdown",
   "metadata": {},
   "source": [
    "### Testing function"
   ]
  },
  {
   "cell_type": "code",
   "execution_count": 3,
   "metadata": {},
   "outputs": [],
   "source": [
    "from PIL import Image\n",
    "def test (validation_size, mag):\n",
    "    dataset = MNISTDatasetSize(size=validation_size, mag=mag, use_test=True)\n",
    "    correct = 0\n",
    "    for x, y in dataset:\n",
    "        y = y.item()\n",
    "        trans = transforms.ToPILImage()\n",
    "        display(trans(x).convert('RGB'))\n",
    "        output = torch.softmax(model(x.unsqueeze(0).to(device)),1)\n",
    "        argmax = torch.argmax(output).item()\n",
    "        print(\"Output:\", output)\n",
    "        print(\"Argmax:\", argmax)\n",
    "        print(\"Ground Truth:\", y)\n",
    "        if argmax == y: correct += 1\n",
    "    print(f\"Validation Accuracy: {(correct/validation_size)*100:.1f}%\")\n"
   ]
  },
  {
   "cell_type": "markdown",
   "metadata": {},
   "source": [
    "## Test at different scale"
   ]
  },
  {
   "cell_type": "code",
   "execution_count": 4,
   "metadata": {},
   "outputs": [
    {
     "data": {
      "image/png": "[encoded data removed]",
      "text/plain": [
       "<PIL.Image.Image image mode=RGB size=28x28 at 0x1FAF8ABAAA0>"
      ]
     },
     "metadata": {},
     "output_type": "display_data"
    },
    {
     "name": "stdout",
     "output_type": "stream",
     "text": [
      "Output: tensor([[1.4239e-07, 1.0901e-14, 7.7674e-12, 2.2071e-10, 6.3067e-06, 1.7248e-01,\n",
      "         8.2608e-01, 3.2135e-08, 1.4203e-03, 1.5989e-05]], device='cuda:0',\n",
      "       grad_fn=<SoftmaxBackward0>)\n",
      "Argmax: 6\n",
      "Ground Truth: 5\n"
     ]
    },
    {
     "data": {
      "image/png": "[encoded data removed]",
      "text/plain": [
       "<PIL.Image.Image image mode=RGB size=28x28 at 0x1FAD3E9FA90>"
      ]
     },
     "metadata": {},
     "output_type": "display_data"
    },
    {
     "name": "stdout",
     "output_type": "stream",
     "text": [
      "Output: tensor([[1.5285e-05, 4.9928e-13, 1.5538e-12, 3.2404e-11, 1.2944e-08, 2.6358e-05,\n",
      "         9.9996e-01, 6.3039e-08, 1.8350e-07, 4.2549e-09]], device='cuda:0',\n",
      "       grad_fn=<SoftmaxBackward0>)\n",
      "Argmax: 6\n",
      "Ground Truth: 6\n"
     ]
    },
    {
     "data": {
      "image/png": "[encoded data removed]",
      "text/plain": [
       "<PIL.Image.Image image mode=RGB size=28x28 at 0x1FAF8ABAB90>"
      ]
     },
     "metadata": {},
     "output_type": "display_data"
    },
    {
     "name": "stdout",
     "output_type": "stream",
     "text": [
      "Output: tensor([[5.1985e-13, 1.3295e-18, 1.8075e-13, 1.6028e-07, 6.1386e-05, 9.9967e-01,\n",
      "         2.4697e-04, 8.6305e-14, 1.9445e-08, 1.9539e-05]], device='cuda:0',\n",
      "       grad_fn=<SoftmaxBackward0>)\n",
      "Argmax: 5\n",
      "Ground Truth: 5\n"
     ]
    },
    {
     "data": {
      "image/png": "[encoded data removed]",
      "text/plain": [
       "<PIL.Image.Image image mode=RGB size=28x28 at 0x1FAD3E9F9D0>"
      ]
     },
     "metadata": {},
     "output_type": "display_data"
    },
    {
     "name": "stdout",
     "output_type": "stream",
     "text": [
      "Output: tensor([[4.7267e-13, 2.0587e-12, 1.6462e-10, 5.8935e-07, 1.9544e-02, 1.8939e-05,\n",
      "         8.0688e-09, 5.1386e-06, 1.9347e-03, 9.7850e-01]], device='cuda:0',\n",
      "       grad_fn=<SoftmaxBackward0>)\n",
      "Argmax: 9\n",
      "Ground Truth: 9\n"
     ]
    },
    {
     "data": {
      "image/png": "[encoded data removed]",
      "text/plain": [
       "<PIL.Image.Image image mode=RGB size=28x28 at 0x1FAF8B61780>"
      ]
     },
     "metadata": {},
     "output_type": "display_data"
    },
    {
     "name": "stdout",
     "output_type": "stream",
     "text": [
      "Output: tensor([[9.0479e-14, 1.7783e-12, 1.9177e-10, 3.7530e-08, 1.0793e-04, 1.1145e-05,\n",
      "         1.9740e-09, 1.7040e-05, 3.0032e-03, 9.9686e-01]], device='cuda:0',\n",
      "       grad_fn=<SoftmaxBackward0>)\n",
      "Argmax: 9\n",
      "Ground Truth: 9\n"
     ]
    },
    {
     "data": {
      "image/png": "[encoded data removed]",
      "text/plain": [
       "<PIL.Image.Image image mode=RGB size=28x28 at 0x1FAF8B627A0>"
      ]
     },
     "metadata": {},
     "output_type": "display_data"
    },
    {
     "name": "stdout",
     "output_type": "stream",
     "text": [
      "Output: tensor([[4.9685e-04, 3.2882e-02, 2.0108e-01, 6.9428e-04, 2.9743e-05, 9.6851e-04,\n",
      "         3.6056e-02, 2.7788e-01, 4.4874e-01, 1.1773e-03]], device='cuda:0',\n",
      "       grad_fn=<SoftmaxBackward0>)\n",
      "Argmax: 8\n",
      "Ground Truth: 7\n"
     ]
    },
    {
     "data": {
      "image/png": "[encoded data removed]",
      "text/plain": [
       "<PIL.Image.Image image mode=RGB size=28x28 at 0x1FAF8B61780>"
      ]
     },
     "metadata": {},
     "output_type": "display_data"
    },
    {
     "name": "stdout",
     "output_type": "stream",
     "text": [
      "Output: tensor([[2.5795e-04, 7.6898e-01, 2.2877e-01, 7.9333e-06, 1.7339e-04, 1.4651e-04,\n",
      "         2.2250e-05, 2.3238e-05, 1.6166e-03, 7.3360e-07]], device='cuda:0',\n",
      "       grad_fn=<SoftmaxBackward0>)\n",
      "Argmax: 1\n",
      "Ground Truth: 1\n"
     ]
    },
    {
     "data": {
      "image/png": "[encoded data removed]",
      "text/plain": [
       "<PIL.Image.Image image mode=RGB size=28x28 at 0x1FAF8B627A0>"
      ]
     },
     "metadata": {},
     "output_type": "display_data"
    },
    {
     "name": "stdout",
     "output_type": "stream",
     "text": [
      "Output: tensor([[5.6206e-06, 6.8450e-04, 5.0790e-02, 6.5879e-02, 1.2623e-01, 7.5625e-01,\n",
      "         1.3336e-04, 1.6307e-06, 1.4281e-05, 7.7446e-06]], device='cuda:0',\n",
      "       grad_fn=<SoftmaxBackward0>)\n",
      "Argmax: 5\n",
      "Ground Truth: 1\n"
     ]
    },
    {
     "data": {
      "image/png": "[encoded data removed]",
      "text/plain": [
       "<PIL.Image.Image image mode=RGB size=28x28 at 0x1FAF8B62830>"
      ]
     },
     "metadata": {},
     "output_type": "display_data"
    },
    {
     "name": "stdout",
     "output_type": "stream",
     "text": [
      "Output: tensor([[9.5914e-09, 1.0000e+00, 1.0316e-06, 6.2358e-14, 1.4409e-12, 3.2194e-13,\n",
      "         8.9760e-10, 2.4165e-09, 3.8049e-09, 2.8107e-18]], device='cuda:0',\n",
      "       grad_fn=<SoftmaxBackward0>)\n",
      "Argmax: 1\n",
      "Ground Truth: 1\n"
     ]
    },
    {
     "data": {
      "image/png": "[encoded data removed]",
      "text/plain": [
       "<PIL.Image.Image image mode=RGB size=28x28 at 0x1FAF8B62950>"
      ]
     },
     "metadata": {},
     "output_type": "display_data"
    },
    {
     "name": "stdout",
     "output_type": "stream",
     "text": [
      "Output: tensor([[6.6178e-09, 1.0000e+00, 3.4276e-07, 2.2004e-11, 3.9571e-13, 9.3576e-14,\n",
      "         7.9752e-12, 1.6346e-12, 7.6696e-12, 5.4996e-19]], device='cuda:0',\n",
      "       grad_fn=<SoftmaxBackward0>)\n",
      "Argmax: 1\n",
      "Ground Truth: 1\n"
     ]
    },
    {
     "data": {
      "image/png": "[encoded data removed]",
      "text/plain": [
       "<PIL.Image.Image image mode=RGB size=28x28 at 0x1FAF8B62980>"
      ]
     },
     "metadata": {},
     "output_type": "display_data"
    },
    {
     "name": "stdout",
     "output_type": "stream",
     "text": [
      "Output: tensor([[1.9856e-02, 8.4231e-02, 2.6700e-05, 1.3938e-03, 8.8838e-01, 1.0241e-03,\n",
      "         5.0986e-04, 3.9223e-03, 3.3975e-06, 6.5054e-04]], device='cuda:0',\n",
      "       grad_fn=<SoftmaxBackward0>)\n",
      "Argmax: 4\n",
      "Ground Truth: 4\n"
     ]
    },
    {
     "data": {
      "image/png": "[encoded data removed]",
      "text/plain": [
       "<PIL.Image.Image image mode=RGB size=28x28 at 0x1FAF8B62A40>"
      ]
     },
     "metadata": {},
     "output_type": "display_data"
    },
    {
     "name": "stdout",
     "output_type": "stream",
     "text": [
      "Output: tensor([[1.1346e-07, 8.7478e-09, 6.5219e-07, 6.5968e-09, 3.6484e-09, 6.9351e-06,\n",
      "         1.3415e-06, 3.3815e-06, 9.9998e-01, 2.9072e-06]], device='cuda:0',\n",
      "       grad_fn=<SoftmaxBackward0>)\n",
      "Argmax: 8\n",
      "Ground Truth: 8\n"
     ]
    },
    {
     "data": {
      "image/png": "[encoded data removed]",
      "text/plain": [
       "<PIL.Image.Image image mode=RGB size=28x28 at 0x1FAF8B627A0>"
      ]
     },
     "metadata": {},
     "output_type": "display_data"
    },
    {
     "name": "stdout",
     "output_type": "stream",
     "text": [
      "Output: tensor([[4.4290e-06, 1.3785e-12, 4.1346e-12, 1.3639e-10, 8.8356e-08, 1.8631e-04,\n",
      "         9.9980e-01, 4.4674e-07, 4.3401e-06, 6.7745e-08]], device='cuda:0',\n",
      "       grad_fn=<SoftmaxBackward0>)\n",
      "Argmax: 6\n",
      "Ground Truth: 6\n"
     ]
    },
    {
     "data": {
      "image/png": "[encoded data removed]",
      "text/plain": [
       "<PIL.Image.Image image mode=RGB size=28x28 at 0x1FAF8B62830>"
      ]
     },
     "metadata": {},
     "output_type": "display_data"
    },
    {
     "name": "stdout",
     "output_type": "stream",
     "text": [
      "Output: tensor([[1.0000e+00, 1.1461e-07, 7.9776e-10, 1.6832e-10, 6.7066e-13, 5.8303e-09,\n",
      "         5.2265e-07, 7.7665e-13, 2.1896e-13, 1.0920e-17]], device='cuda:0',\n",
      "       grad_fn=<SoftmaxBackward0>)\n",
      "Argmax: 0\n",
      "Ground Truth: 0\n"
     ]
    },
    {
     "data": {
      "image/png": "[encoded data removed]",
      "text/plain": [
       "<PIL.Image.Image image mode=RGB size=28x28 at 0x1FAF8B628C0>"
      ]
     },
     "metadata": {},
     "output_type": "display_data"
    },
    {
     "name": "stdout",
     "output_type": "stream",
     "text": [
      "Output: tensor([[9.9999e-01, 6.1720e-06, 5.2071e-09, 9.0667e-08, 3.6536e-11, 5.3861e-09,\n",
      "         1.2381e-07, 9.4851e-10, 1.3452e-11, 1.9161e-13]], device='cuda:0',\n",
      "       grad_fn=<SoftmaxBackward0>)\n",
      "Argmax: 0\n",
      "Ground Truth: 0\n"
     ]
    },
    {
     "data": {
      "image/png": "[encoded data removed]",
      "text/plain": [
       "<PIL.Image.Image image mode=RGB size=28x28 at 0x1FAF8B62950>"
      ]
     },
     "metadata": {},
     "output_type": "display_data"
    },
    {
     "name": "stdout",
     "output_type": "stream",
     "text": [
      "Output: tensor([[1.4846e-09, 1.0000e+00, 3.4710e-11, 3.6405e-22, 5.5677e-20, 1.0499e-19,\n",
      "         2.6569e-14, 6.6628e-16, 1.7646e-16, 9.6378e-29]], device='cuda:0',\n",
      "       grad_fn=<SoftmaxBackward0>)\n",
      "Argmax: 1\n",
      "Ground Truth: 1\n",
      "Validation Accuracy: 81.2%\n"
     ]
    }
   ],
   "source": [
    "test(validation_size=16, mag=1)"
   ]
  },
  {
   "cell_type": "code",
   "execution_count": 5,
   "metadata": {},
   "outputs": [
    {
     "data": {
      "image/png": "[encoded data removed]",
      "text/plain": [
       "<PIL.Image.Image image mode=RGB size=35x35 at 0x1FAF8B62A40>"
      ]
     },
     "metadata": {},
     "output_type": "display_data"
    },
    {
     "name": "stdout",
     "output_type": "stream",
     "text": [
      "Output: tensor([[1.2601e-05, 2.4891e-03, 9.7613e-01, 2.1345e-02, 3.5093e-08, 2.4523e-08,\n",
      "         9.6187e-08, 5.5740e-06, 1.7827e-05, 3.6009e-07]], device='cuda:0',\n",
      "       grad_fn=<SoftmaxBackward0>)\n",
      "Argmax: 2\n",
      "Ground Truth: 2\n"
     ]
    },
    {
     "data": {
      "image/png": "[encoded data removed]",
      "text/plain": [
       "<PIL.Image.Image image mode=RGB size=35x35 at 0x1FAF8B629E0>"
      ]
     },
     "metadata": {},
     "output_type": "display_data"
    },
    {
     "name": "stdout",
     "output_type": "stream",
     "text": [
      "Output: tensor([[1.1053e-08, 4.6916e-08, 1.9616e-06, 3.9627e-05, 3.8564e-04, 2.0737e-05,\n",
      "         1.9447e-06, 1.6239e-04, 2.0914e-03, 9.9730e-01]], device='cuda:0',\n",
      "       grad_fn=<SoftmaxBackward0>)\n",
      "Argmax: 9\n",
      "Ground Truth: 9\n"
     ]
    },
    {
     "data": {
      "image/png": "[encoded data removed]",
      "text/plain": [
       "<PIL.Image.Image image mode=RGB size=35x35 at 0x1FAF8B629B0>"
      ]
     },
     "metadata": {},
     "output_type": "display_data"
    },
    {
     "name": "stdout",
     "output_type": "stream",
     "text": [
      "Output: tensor([[7.6446e-10, 1.0932e-09, 2.0348e-06, 3.2588e-05, 2.3666e-03, 2.2959e-05,\n",
      "         4.0927e-07, 2.7145e-05, 4.9979e-03, 9.9255e-01]], device='cuda:0',\n",
      "       grad_fn=<SoftmaxBackward0>)\n",
      "Argmax: 9\n",
      "Ground Truth: 9\n"
     ]
    },
    {
     "data": {
      "image/png": "[encoded data removed]",
      "text/plain": [
       "<PIL.Image.Image image mode=RGB size=35x35 at 0x1FAF8B628C0>"
      ]
     },
     "metadata": {},
     "output_type": "display_data"
    },
    {
     "name": "stdout",
     "output_type": "stream",
     "text": [
      "Output: tensor([[3.8346e-05, 3.3042e-03, 9.5056e-01, 4.3620e-02, 2.4658e-06, 7.9494e-08,\n",
      "         3.5160e-07, 2.6835e-05, 2.3992e-03, 4.9309e-05]], device='cuda:0',\n",
      "       grad_fn=<SoftmaxBackward0>)\n",
      "Argmax: 2\n",
      "Ground Truth: 2\n"
     ]
    },
    {
     "data": {
      "image/png": "[encoded data removed]",
      "text/plain": [
       "<PIL.Image.Image image mode=RGB size=35x35 at 0x1FAF8B629E0>"
      ]
     },
     "metadata": {},
     "output_type": "display_data"
    },
    {
     "name": "stdout",
     "output_type": "stream",
     "text": [
      "Output: tensor([[5.7678e-08, 4.0272e-07, 1.5306e-06, 2.2711e-05, 9.9958e-01, 1.4862e-04,\n",
      "         4.1333e-07, 2.8376e-07, 5.0205e-07, 2.4782e-04]], device='cuda:0',\n",
      "       grad_fn=<SoftmaxBackward0>)\n",
      "Argmax: 4\n",
      "Ground Truth: 4\n"
     ]
    },
    {
     "data": {
      "image/png": "[encoded data removed]",
      "text/plain": [
       "<PIL.Image.Image image mode=RGB size=35x35 at 0x1FAF8B629B0>"
      ]
     },
     "metadata": {},
     "output_type": "display_data"
    },
    {
     "name": "stdout",
     "output_type": "stream",
     "text": [
      "Output: tensor([[1.6092e-04, 6.8766e-05, 9.1862e-04, 7.5566e-03, 2.5871e-02, 4.4198e-01,\n",
      "         6.6662e-03, 4.1306e-03, 4.9276e-01, 1.9882e-02]], device='cuda:0',\n",
      "       grad_fn=<SoftmaxBackward0>)\n",
      "Argmax: 8\n",
      "Ground Truth: 8\n"
     ]
    },
    {
     "data": {
      "image/png": "[encoded data removed]",
      "text/plain": [
       "<PIL.Image.Image image mode=RGB size=35x35 at 0x1FAF8B629E0>"
      ]
     },
     "metadata": {},
     "output_type": "display_data"
    },
    {
     "name": "stdout",
     "output_type": "stream",
     "text": [
      "Output: tensor([[7.1652e-06, 9.4259e-04, 9.9845e-01, 5.9101e-04, 1.3955e-06, 4.1707e-07,\n",
      "         1.1588e-08, 8.8517e-08, 2.7416e-06, 5.7529e-08]], device='cuda:0',\n",
      "       grad_fn=<SoftmaxBackward0>)\n",
      "Argmax: 2\n",
      "Ground Truth: 2\n"
     ]
    },
    {
     "data": {
      "image/png": "[encoded data removed]",
      "text/plain": [
       "<PIL.Image.Image image mode=RGB size=35x35 at 0x1FAF8B614E0>"
      ]
     },
     "metadata": {},
     "output_type": "display_data"
    },
    {
     "name": "stdout",
     "output_type": "stream",
     "text": [
      "Output: tensor([[1.1095e-09, 1.7687e-09, 5.1785e-07, 2.6808e-05, 2.3276e-03, 4.0362e-05,\n",
      "         3.0712e-07, 8.4562e-06, 1.0257e-04, 9.9749e-01]], device='cuda:0',\n",
      "       grad_fn=<SoftmaxBackward0>)\n",
      "Argmax: 9\n",
      "Ground Truth: 9\n"
     ]
    },
    {
     "data": {
      "image/png": "[encoded data removed]",
      "text/plain": [
       "<PIL.Image.Image image mode=RGB size=35x35 at 0x1FAF8B614E0>"
      ]
     },
     "metadata": {},
     "output_type": "display_data"
    },
    {
     "name": "stdout",
     "output_type": "stream",
     "text": [
      "Output: tensor([[2.3136e-08, 1.2214e-07, 4.3307e-08, 4.3643e-07, 9.9989e-01, 8.7779e-05,\n",
      "         2.9845e-08, 5.7261e-08, 4.5077e-08, 1.8689e-05]], device='cuda:0',\n",
      "       grad_fn=<SoftmaxBackward0>)\n",
      "Argmax: 4\n",
      "Ground Truth: 4\n"
     ]
    },
    {
     "data": {
      "image/png": "[encoded data removed]",
      "text/plain": [
       "<PIL.Image.Image image mode=RGB size=35x35 at 0x1FAF8B62B00>"
      ]
     },
     "metadata": {},
     "output_type": "display_data"
    },
    {
     "name": "stdout",
     "output_type": "stream",
     "text": [
      "Output: tensor([[1.5901e-07, 1.1784e-06, 6.4601e-07, 4.8978e-07, 9.9998e-01, 5.3342e-06,\n",
      "         3.1479e-08, 8.4820e-08, 9.4315e-07, 6.6239e-06]], device='cuda:0',\n",
      "       grad_fn=<SoftmaxBackward0>)\n",
      "Argmax: 4\n",
      "Ground Truth: 4\n"
     ]
    },
    {
     "data": {
      "image/png": "[encoded data removed]",
      "text/plain": [
       "<PIL.Image.Image image mode=RGB size=35x35 at 0x1FAF8B629E0>"
      ]
     },
     "metadata": {},
     "output_type": "display_data"
    },
    {
     "name": "stdout",
     "output_type": "stream",
     "text": [
      "Output: tensor([[9.9984e-01, 3.5607e-05, 8.0162e-06, 1.7979e-05, 2.9350e-06, 5.3354e-06,\n",
      "         6.6216e-05, 1.9691e-05, 1.4697e-06, 6.6107e-07]], device='cuda:0',\n",
      "       grad_fn=<SoftmaxBackward0>)\n",
      "Argmax: 0\n",
      "Ground Truth: 0\n"
     ]
    },
    {
     "data": {
      "image/png": "[encoded data removed]",
      "text/plain": [
       "<PIL.Image.Image image mode=RGB size=35x35 at 0x1FAF8B629E0>"
      ]
     },
     "metadata": {},
     "output_type": "display_data"
    },
    {
     "name": "stdout",
     "output_type": "stream",
     "text": [
      "Output: tensor([[9.8540e-04, 9.9588e-01, 2.7224e-03, 2.5193e-04, 1.9191e-05, 1.0194e-08,\n",
      "         1.0072e-07, 1.0610e-04, 3.2403e-05, 1.4687e-06]], device='cuda:0',\n",
      "       grad_fn=<SoftmaxBackward0>)\n",
      "Argmax: 1\n",
      "Ground Truth: 1\n"
     ]
    },
    {
     "data": {
      "image/png": "[encoded data removed]",
      "text/plain": [
       "<PIL.Image.Image image mode=RGB size=35x35 at 0x1FAF8B62920>"
      ]
     },
     "metadata": {},
     "output_type": "display_data"
    },
    {
     "name": "stdout",
     "output_type": "stream",
     "text": [
      "Output: tensor([[7.1070e-04, 2.1207e-03, 9.9647e-01, 6.6325e-04, 1.9573e-07, 5.0477e-08,\n",
      "         2.3644e-07, 1.3505e-06, 3.0836e-05, 1.3181e-07]], device='cuda:0',\n",
      "       grad_fn=<SoftmaxBackward0>)\n",
      "Argmax: 2\n",
      "Ground Truth: 2\n"
     ]
    },
    {
     "data": {
      "image/png": "[encoded data removed]",
      "text/plain": [
       "<PIL.Image.Image image mode=RGB size=35x35 at 0x1FAF8B629B0>"
      ]
     },
     "metadata": {},
     "output_type": "display_data"
    },
    {
     "name": "stdout",
     "output_type": "stream",
     "text": [
      "Output: tensor([[6.6913e-10, 6.8617e-10, 1.1387e-06, 2.6124e-05, 2.9269e-04, 4.9828e-06,\n",
      "         4.7422e-08, 1.2634e-05, 1.2941e-03, 9.9837e-01]], device='cuda:0',\n",
      "       grad_fn=<SoftmaxBackward0>)\n",
      "Argmax: 9\n",
      "Ground Truth: 9\n"
     ]
    },
    {
     "data": {
      "image/png": "[encoded data removed]",
      "text/plain": [
       "<PIL.Image.Image image mode=RGB size=35x35 at 0x1FAF8B614E0>"
      ]
     },
     "metadata": {},
     "output_type": "display_data"
    },
    {
     "name": "stdout",
     "output_type": "stream",
     "text": [
      "Output: tensor([[5.4539e-08, 8.3553e-06, 3.6112e-06, 2.7821e-05, 3.6062e-07, 6.3415e-07,\n",
      "         7.9176e-05, 9.9928e-01, 4.4118e-04, 1.5566e-04]], device='cuda:0',\n",
      "       grad_fn=<SoftmaxBackward0>)\n",
      "Argmax: 7\n",
      "Ground Truth: 7\n"
     ]
    },
    {
     "data": {
      "image/png": "[encoded data removed]",
      "text/plain": [
       "<PIL.Image.Image image mode=RGB size=35x35 at 0x1FAF8B62A40>"
      ]
     },
     "metadata": {},
     "output_type": "display_data"
    },
    {
     "name": "stdout",
     "output_type": "stream",
     "text": [
      "Output: tensor([[2.4159e-07, 2.8138e-06, 4.2635e-06, 1.0630e-05, 9.9907e-01, 5.7416e-04,\n",
      "         5.6501e-07, 1.0743e-06, 8.5496e-06, 3.2667e-04]], device='cuda:0',\n",
      "       grad_fn=<SoftmaxBackward0>)\n",
      "Argmax: 4\n",
      "Ground Truth: 4\n",
      "Validation Accuracy: 100.0%\n"
     ]
    }
   ],
   "source": [
    "test(validation_size=16, mag=2)"
   ]
  },
  {
   "cell_type": "code",
   "execution_count": 6,
   "metadata": {},
   "outputs": [
    {
     "data": {
      "image/png": "[encoded data removed]",
      "text/plain": [
       "<PIL.Image.Image image mode=RGB size=45x45 at 0x1FAF8B62A40>"
      ]
     },
     "metadata": {},
     "output_type": "display_data"
    },
    {
     "name": "stdout",
     "output_type": "stream",
     "text": [
      "Output: tensor([[2.8694e-07, 3.0301e-05, 9.5534e-06, 1.0965e-04, 2.0154e-04, 5.9021e-07,\n",
      "         4.9676e-07, 3.3690e-03, 7.9488e-03, 9.8833e-01]], device='cuda:0',\n",
      "       grad_fn=<SoftmaxBackward0>)\n",
      "Argmax: 9\n",
      "Ground Truth: 9\n"
     ]
    },
    {
     "data": {
      "image/png": "[encoded data removed]",
      "text/plain": [
       "<PIL.Image.Image image mode=RGB size=45x45 at 0x1FAF8B629B0>"
      ]
     },
     "metadata": {},
     "output_type": "display_data"
    },
    {
     "name": "stdout",
     "output_type": "stream",
     "text": [
      "Output: tensor([[9.6827e-01, 3.6865e-04, 3.6709e-03, 2.6750e-02, 2.6440e-04, 2.4855e-05,\n",
      "         4.6739e-04, 5.1042e-06, 2.5318e-05, 1.5265e-04]], device='cuda:0',\n",
      "       grad_fn=<SoftmaxBackward0>)\n",
      "Argmax: 0\n",
      "Ground Truth: 0\n"
     ]
    },
    {
     "data": {
      "image/png": "[encoded data removed]",
      "text/plain": [
       "<PIL.Image.Image image mode=RGB size=45x45 at 0x1FAF8B614E0>"
      ]
     },
     "metadata": {},
     "output_type": "display_data"
    },
    {
     "name": "stdout",
     "output_type": "stream",
     "text": [
      "Output: tensor([[9.9562e-01, 1.4135e-04, 9.7805e-05, 6.8148e-04, 2.3132e-05, 3.3379e-04,\n",
      "         2.0442e-03, 1.4598e-04, 2.8947e-04, 6.1822e-04]], device='cuda:0',\n",
      "       grad_fn=<SoftmaxBackward0>)\n",
      "Argmax: 0\n",
      "Ground Truth: 0\n"
     ]
    },
    {
     "data": {
      "image/png": "[encoded data removed]",
      "text/plain": [
       "<PIL.Image.Image image mode=RGB size=45x45 at 0x1FAF8B62920>"
      ]
     },
     "metadata": {},
     "output_type": "display_data"
    },
    {
     "name": "stdout",
     "output_type": "stream",
     "text": [
      "Output: tensor([[1.9064e-09, 8.5897e-09, 2.4544e-09, 6.9315e-05, 9.9956e-01, 1.1981e-05,\n",
      "         8.1385e-09, 7.4440e-08, 4.1479e-07, 3.5408e-04]], device='cuda:0',\n",
      "       grad_fn=<SoftmaxBackward0>)\n",
      "Argmax: 4\n",
      "Ground Truth: 4\n"
     ]
    },
    {
     "data": {
      "image/png": "[encoded data removed]",
      "text/plain": [
       "<PIL.Image.Image image mode=RGB size=45x45 at 0x1FAF8B62950>"
      ]
     },
     "metadata": {},
     "output_type": "display_data"
    },
    {
     "name": "stdout",
     "output_type": "stream",
     "text": [
      "Output: tensor([[1.0550e-03, 9.8101e-01, 1.2087e-02, 1.5258e-04, 8.2873e-05, 5.3846e-06,\n",
      "         4.0605e-06, 4.5926e-03, 1.0118e-03, 2.8829e-06]], device='cuda:0',\n",
      "       grad_fn=<SoftmaxBackward0>)\n",
      "Argmax: 1\n",
      "Ground Truth: 1\n"
     ]
    },
    {
     "data": {
      "image/png": "[encoded data removed]",
      "text/plain": [
       "<PIL.Image.Image image mode=RGB size=45x45 at 0x1FAF8B62A70>"
      ]
     },
     "metadata": {},
     "output_type": "display_data"
    },
    {
     "name": "stdout",
     "output_type": "stream",
     "text": [
      "Output: tensor([[5.8325e-02, 5.3368e-05, 1.3476e-04, 1.8095e-05, 2.2408e-04, 1.6254e-01,\n",
      "         7.7848e-01, 7.6055e-05, 1.4735e-04, 1.0525e-06]], device='cuda:0',\n",
      "       grad_fn=<SoftmaxBackward0>)\n",
      "Argmax: 6\n",
      "Ground Truth: 6\n"
     ]
    },
    {
     "data": {
      "image/png": "[encoded data removed]",
      "text/plain": [
       "<PIL.Image.Image image mode=RGB size=45x45 at 0x1FAF8B62020>"
      ]
     },
     "metadata": {},
     "output_type": "display_data"
    },
    {
     "name": "stdout",
     "output_type": "stream",
     "text": [
      "Output: tensor([[9.9975e-01, 1.6071e-06, 5.0135e-06, 7.2336e-05, 1.2852e-05, 1.3348e-05,\n",
      "         1.4393e-04, 1.0153e-08, 4.4144e-08, 4.4233e-06]], device='cuda:0',\n",
      "       grad_fn=<SoftmaxBackward0>)\n",
      "Argmax: 0\n",
      "Ground Truth: 0\n"
     ]
    },
    {
     "data": {
      "image/png": "[encoded data removed]",
      "text/plain": [
       "<PIL.Image.Image image mode=RGB size=45x45 at 0x1FAF8B614E0>"
      ]
     },
     "metadata": {},
     "output_type": "display_data"
    },
    {
     "name": "stdout",
     "output_type": "stream",
     "text": [
      "Output: tensor([[2.7604e-03, 7.3000e-04, 2.0960e-01, 7.8467e-01, 2.1698e-03, 2.0008e-05,\n",
      "         2.1009e-05, 2.4222e-05, 9.3304e-07, 2.2299e-08]], device='cuda:0',\n",
      "       grad_fn=<SoftmaxBackward0>)\n",
      "Argmax: 3\n",
      "Ground Truth: 3\n"
     ]
    },
    {
     "data": {
      "image/png": "[encoded data removed]",
      "text/plain": [
       "<PIL.Image.Image image mode=RGB size=45x45 at 0x1FAF8B628C0>"
      ]
     },
     "metadata": {},
     "output_type": "display_data"
    },
    {
     "name": "stdout",
     "output_type": "stream",
     "text": [
      "Output: tensor([[5.4943e-02, 4.3521e-03, 1.6985e-03, 2.3087e-01, 4.2608e-01, 3.2694e-04,\n",
      "         8.0635e-03, 1.2593e-02, 8.2568e-03, 2.5282e-01]], device='cuda:0',\n",
      "       grad_fn=<SoftmaxBackward0>)\n",
      "Argmax: 4\n",
      "Ground Truth: 9\n"
     ]
    },
    {
     "data": {
      "image/png": "[encoded data removed]",
      "text/plain": [
       "<PIL.Image.Image image mode=RGB size=45x45 at 0x1FAF8B62920>"
      ]
     },
     "metadata": {},
     "output_type": "display_data"
    },
    {
     "name": "stdout",
     "output_type": "stream",
     "text": [
      "Output: tensor([[3.7741e-11, 3.3599e-13, 2.8065e-10, 2.4309e-06, 2.1192e-06, 9.9973e-01,\n",
      "         3.1484e-07, 1.0000e-11, 1.0824e-06, 2.5985e-04]], device='cuda:0',\n",
      "       grad_fn=<SoftmaxBackward0>)\n",
      "Argmax: 5\n",
      "Ground Truth: 5\n"
     ]
    },
    {
     "data": {
      "image/png": "[encoded data removed]",
      "text/plain": [
       "<PIL.Image.Image image mode=RGB size=45x45 at 0x1FAF8B62A70>"
      ]
     },
     "metadata": {},
     "output_type": "display_data"
    },
    {
     "name": "stdout",
     "output_type": "stream",
     "text": [
      "Output: tensor([[8.5078e-04, 8.6776e-09, 2.5495e-09, 1.2957e-08, 3.2321e-03, 2.9877e-03,\n",
      "         9.9293e-01, 1.1249e-06, 5.8920e-07, 1.5599e-06]], device='cuda:0',\n",
      "       grad_fn=<SoftmaxBackward0>)\n",
      "Argmax: 6\n",
      "Ground Truth: 6\n"
     ]
    },
    {
     "data": {
      "image/png": "[encoded data removed]",
      "text/plain": [
       "<PIL.Image.Image image mode=RGB size=45x45 at 0x1FAF8B62890>"
      ]
     },
     "metadata": {},
     "output_type": "display_data"
    },
    {
     "name": "stdout",
     "output_type": "stream",
     "text": [
      "Output: tensor([[3.5698e-09, 3.9944e-10, 1.2654e-09, 3.1302e-06, 9.9894e-01, 1.0169e-03,\n",
      "         1.0255e-06, 1.5271e-09, 3.0868e-08, 3.6140e-05]], device='cuda:0',\n",
      "       grad_fn=<SoftmaxBackward0>)\n",
      "Argmax: 4\n",
      "Ground Truth: 4\n"
     ]
    },
    {
     "data": {
      "image/png": "[encoded data removed]",
      "text/plain": [
       "<PIL.Image.Image image mode=RGB size=45x45 at 0x1FAF8B62B00>"
      ]
     },
     "metadata": {},
     "output_type": "display_data"
    },
    {
     "name": "stdout",
     "output_type": "stream",
     "text": [
      "Output: tensor([[2.9907e-08, 3.7760e-08, 7.3833e-07, 4.1209e-03, 6.8834e-04, 1.8186e-07,\n",
      "         1.4064e-07, 5.1733e-07, 4.2869e-05, 9.9515e-01]], device='cuda:0',\n",
      "       grad_fn=<SoftmaxBackward0>)\n",
      "Argmax: 9\n",
      "Ground Truth: 9\n"
     ]
    },
    {
     "data": {
      "image/png": "[encoded data removed]",
      "text/plain": [
       "<PIL.Image.Image image mode=RGB size=45x45 at 0x1FAF8B62020>"
      ]
     },
     "metadata": {},
     "output_type": "display_data"
    },
    {
     "name": "stdout",
     "output_type": "stream",
     "text": [
      "Output: tensor([[7.1226e-05, 3.4046e-09, 9.3661e-09, 1.0692e-09, 1.8818e-05, 4.8722e-04,\n",
      "         9.9942e-01, 2.9280e-07, 6.5725e-07, 8.6453e-09]], device='cuda:0',\n",
      "       grad_fn=<SoftmaxBackward0>)\n",
      "Argmax: 6\n",
      "Ground Truth: 6\n"
     ]
    },
    {
     "data": {
      "image/png": "[encoded data removed]",
      "text/plain": [
       "<PIL.Image.Image image mode=RGB size=45x45 at 0x1FAF8B62A70>"
      ]
     },
     "metadata": {},
     "output_type": "display_data"
    },
    {
     "name": "stdout",
     "output_type": "stream",
     "text": [
      "Output: tensor([[6.6553e-10, 3.1622e-10, 4.4933e-10, 2.2287e-05, 9.9993e-01, 1.6591e-05,\n",
      "         7.2948e-07, 4.4896e-09, 1.0382e-07, 3.2144e-05]], device='cuda:0',\n",
      "       grad_fn=<SoftmaxBackward0>)\n",
      "Argmax: 4\n",
      "Ground Truth: 4\n"
     ]
    },
    {
     "data": {
      "image/png": "[encoded data removed]",
      "text/plain": [
       "<PIL.Image.Image image mode=RGB size=45x45 at 0x1FAF8B62890>"
      ]
     },
     "metadata": {},
     "output_type": "display_data"
    },
    {
     "name": "stdout",
     "output_type": "stream",
     "text": [
      "Output: tensor([[3.7515e-06, 1.0726e-05, 1.5759e-03, 9.9385e-01, 3.3329e-03, 9.8279e-04,\n",
      "         4.3069e-06, 1.8288e-05, 3.5381e-05, 1.8946e-04]], device='cuda:0',\n",
      "       grad_fn=<SoftmaxBackward0>)\n",
      "Argmax: 3\n",
      "Ground Truth: 3\n",
      "Validation Accuracy: 93.8%\n"
     ]
    }
   ],
   "source": [
    "test(validation_size=16, mag=3)"
   ]
  }
 ],
 "metadata": {
  "kernelspec": {
   "display_name": "Python 3.10.7 64-bit (microsoft store)",
   "language": "python",
   "name": "python3"
  },
  "language_info": {
   "codemirror_mode": {
    "name": "ipython",
    "version": 3
   },
   "file_extension": ".py",
   "mimetype": "text/x-python",
   "name": "python",
   "nbconvert_exporter": "python",
   "pygments_lexer": "ipython3",
   "version": "3.10.7"
  },
  "orig_nbformat": 4,
  "vscode": {
   "interpreter": {
    "hash": "639d95488edfdc55ddccb2f409d15bacc5e558fc037d9d032accd1031f2e88a9"
   }
  }
 },
 "nbformat": 4,
 "nbformat_minor": 2
}
