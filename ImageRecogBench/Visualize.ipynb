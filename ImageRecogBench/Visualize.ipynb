{
 "cells": [
  {
   "cell_type": "markdown",
   "metadata": {},
   "source": [
    "## Get Dataset"
   ]
  },
  {
   "cell_type": "code",
   "execution_count": 3,
   "metadata": {},
   "outputs": [],
   "source": [
    "import torch\n",
    "import torchvision.transforms as transforms\n",
    "from train import MNISTDatasetSize, Policy, device\n"
   ]
  },
  {
   "cell_type": "markdown",
   "metadata": {},
   "source": [
    "## Load Model"
   ]
  },
  {
   "cell_type": "code",
   "execution_count": 4,
   "metadata": {},
   "outputs": [],
   "source": [
    "model = torch.load('..\\models\\MNISTBenchmarkModel.pt').to(device) "
   ]
  },
  {
   "cell_type": "markdown",
   "metadata": {},
   "source": [
    "### Testing function"
   ]
  },
  {
   "cell_type": "code",
   "execution_count": 5,
   "metadata": {},
   "outputs": [],
   "source": [
    "from PIL import Image\n",
    "def test (validation_size, mag):\n",
    "    dataset = MNISTDatasetSize(size=validation_size, mag=mag)\n",
    "    correct = 0\n",
    "    for x, y in dataset:\n",
    "        y = y.item()\n",
    "        trans = transforms.ToPILImage()\n",
    "        display(trans(x).convert('RGB'))\n",
    "        output = torch.softmax(model(x.unsqueeze(0).to(device)),1)\n",
    "        argmax = torch.argmax(output).item()\n",
    "        print(\"Output:\", output)\n",
    "        print(\"Argmax:\", argmax)\n",
    "        print(\"Ground Truth:\", y)\n",
    "        if argmax == y: correct += 1\n",
    "    print(f\"Validation Accuracy: {(correct/validation_size)*100:.1f}%\")\n"
   ]
  },
  {
   "cell_type": "markdown",
   "metadata": {},
   "source": [
    "## Test at different scale"
   ]
  },
  {
   "cell_type": "code",
   "execution_count": 6,
   "metadata": {},
   "outputs": [
    {
     "data": {
      "image/png": "[encoded data removed]",
      "text/plain": [
       "<PIL.Image.Image image mode=RGB size=28x28 at 0x1E77CF6F970>"
      ]
     },
     "metadata": {},
     "output_type": "display_data"
    },
    {
     "name": "stdout",
     "output_type": "stream",
     "text": [
      "Output: tensor([[2.9838e-09, 1.4676e-05, 5.4130e-07, 5.8094e-12, 2.9649e-16, 5.7372e-15,\n",
      "         1.3770e-08, 1.6432e-02, 9.8094e-01, 2.6088e-03]], device='cuda:0',\n",
      "       grad_fn=<SoftmaxBackward0>)\n",
      "Argmax: 8\n",
      "Ground Truth: 8\n"
     ]
    },
    {
     "data": {
      "image/png": "[encoded data removed]",
      "text/plain": [
       "<PIL.Image.Image image mode=RGB size=28x28 at 0x1E77CF6F610>"
      ]
     },
     "metadata": {},
     "output_type": "display_data"
    },
    {
     "name": "stdout",
     "output_type": "stream",
     "text": [
      "Output: tensor([[2.3990e-30, 5.0122e-32, 3.6879e-22, 3.2878e-08, 9.9918e-01, 8.2456e-04,\n",
      "         3.8906e-15, 3.4356e-22, 4.0329e-20, 1.7356e-12]], device='cuda:0',\n",
      "       grad_fn=<SoftmaxBackward0>)\n",
      "Argmax: 4\n",
      "Ground Truth: 4\n"
     ]
    },
    {
     "data": {
      "image/png": "[encoded data removed]",
      "text/plain": [
       "<PIL.Image.Image image mode=RGB size=28x28 at 0x1E77CF6F970>"
      ]
     },
     "metadata": {},
     "output_type": "display_data"
    },
    {
     "name": "stdout",
     "output_type": "stream",
     "text": [
      "Output: tensor([[1.0000e+00, 3.7697e-16, 8.9618e-34, 2.8273e-39, 7.2880e-30, 1.9114e-16,\n",
      "         1.8911e-14, 1.7404e-27, 9.8091e-45, 0.0000e+00]], device='cuda:0',\n",
      "       grad_fn=<SoftmaxBackward0>)\n",
      "Argmax: 0\n",
      "Ground Truth: 0\n"
     ]
    },
    {
     "data": {
      "image/png": "[encoded data removed]",
      "text/plain": [
       "<PIL.Image.Image image mode=RGB size=28x28 at 0x1E77CF605B0>"
      ]
     },
     "metadata": {},
     "output_type": "display_data"
    },
    {
     "name": "stdout",
     "output_type": "stream",
     "text": [
      "Output: tensor([[4.3682e-26, 3.6642e-29, 3.8214e-24, 5.1307e-18, 1.7331e-15, 6.5318e-16,\n",
      "         9.0001e-19, 6.2539e-18, 2.7601e-10, 1.0000e+00]], device='cuda:0',\n",
      "       grad_fn=<SoftmaxBackward0>)\n",
      "Argmax: 9\n",
      "Ground Truth: 9\n"
     ]
    },
    {
     "data": {
      "image/png": "[encoded data removed]",
      "text/plain": [
       "<PIL.Image.Image image mode=RGB size=28x28 at 0x1E77CF63970>"
      ]
     },
     "metadata": {},
     "output_type": "display_data"
    },
    {
     "name": "stdout",
     "output_type": "stream",
     "text": [
      "Output: tensor([[5.5871e-21, 8.2855e-21, 9.7617e-17, 9.1578e-13, 1.4895e-11, 3.1041e-12,\n",
      "         1.2034e-12, 3.0493e-10, 3.7813e-05, 9.9996e-01]], device='cuda:0',\n",
      "       grad_fn=<SoftmaxBackward0>)\n",
      "Argmax: 9\n",
      "Ground Truth: 9\n"
     ]
    },
    {
     "data": {
      "image/png": "[encoded data removed]",
      "text/plain": [
       "<PIL.Image.Image image mode=RGB size=28x28 at 0x1E77CF61840>"
      ]
     },
     "metadata": {},
     "output_type": "display_data"
    },
    {
     "name": "stdout",
     "output_type": "stream",
     "text": [
      "Output: tensor([[5.2780e-13, 6.9934e-06, 6.5544e-01, 3.4455e-01, 3.4750e-07, 4.5122e-13,\n",
      "         4.8153e-15, 5.6706e-13, 1.1142e-08, 1.6663e-07]], device='cuda:0',\n",
      "       grad_fn=<SoftmaxBackward0>)\n",
      "Argmax: 2\n",
      "Ground Truth: 3\n"
     ]
    },
    {
     "data": {
      "image/png": "[encoded data removed]",
      "text/plain": [
       "<PIL.Image.Image image mode=RGB size=28x28 at 0x1E77CF60670>"
      ]
     },
     "metadata": {},
     "output_type": "display_data"
    },
    {
     "name": "stdout",
     "output_type": "stream",
     "text": [
      "Output: tensor([[4.3545e-01, 6.0013e-12, 1.2902e-20, 2.4022e-20, 1.2716e-11, 1.5630e-02,\n",
      "         5.4892e-01, 4.0662e-06, 2.5852e-11, 5.1986e-09]], device='cuda:0',\n",
      "       grad_fn=<SoftmaxBackward0>)\n",
      "Argmax: 6\n",
      "Ground Truth: 6\n"
     ]
    },
    {
     "data": {
      "image/png": "[encoded data removed]",
      "text/plain": [
       "<PIL.Image.Image image mode=RGB size=28x28 at 0x1E77CF63E20>"
      ]
     },
     "metadata": {},
     "output_type": "display_data"
    },
    {
     "name": "stdout",
     "output_type": "stream",
     "text": [
      "Output: tensor([[2.7460e-18, 4.2545e-13, 6.5052e-04, 9.9935e-01, 7.6798e-09, 2.3396e-18,\n",
      "         1.6246e-22, 1.6076e-20, 8.5740e-14, 1.4611e-09]], device='cuda:0',\n",
      "       grad_fn=<SoftmaxBackward0>)\n",
      "Argmax: 3\n",
      "Ground Truth: 3\n"
     ]
    },
    {
     "data": {
      "image/png": "[encoded data removed]",
      "text/plain": [
       "<PIL.Image.Image image mode=RGB size=28x28 at 0x1E77CF6F970>"
      ]
     },
     "metadata": {},
     "output_type": "display_data"
    },
    {
     "name": "stdout",
     "output_type": "stream",
     "text": [
      "Output: tensor([[8.2360e-26, 1.1108e-15, 2.1388e-17, 2.3219e-25, 7.2146e-29, 2.6868e-20,\n",
      "         2.5114e-06, 9.9999e-01, 2.5365e-06, 3.3504e-20]], device='cuda:0',\n",
      "       grad_fn=<SoftmaxBackward0>)\n",
      "Argmax: 7\n",
      "Ground Truth: 7\n"
     ]
    },
    {
     "data": {
      "image/png": "[encoded data removed]",
      "text/plain": [
       "<PIL.Image.Image image mode=RGB size=28x28 at 0x1E77CF60670>"
      ]
     },
     "metadata": {},
     "output_type": "display_data"
    },
    {
     "name": "stdout",
     "output_type": "stream",
     "text": [
      "Output: tensor([[7.3683e-23, 1.2890e-28, 2.3152e-26, 7.4014e-17, 2.1856e-05, 9.9996e-01,\n",
      "         1.4370e-05, 1.2585e-16, 1.5017e-22, 2.3815e-20]], device='cuda:0',\n",
      "       grad_fn=<SoftmaxBackward0>)\n",
      "Argmax: 5\n",
      "Ground Truth: 5\n"
     ]
    },
    {
     "data": {
      "image/png": "[encoded data removed]",
      "text/plain": [
       "<PIL.Image.Image image mode=RGB size=28x28 at 0x1E77CF63E20>"
      ]
     },
     "metadata": {},
     "output_type": "display_data"
    },
    {
     "name": "stdout",
     "output_type": "stream",
     "text": [
      "Output: tensor([[1.1691e-18, 1.5008e-13, 3.3297e-14, 1.2853e-18, 1.0867e-19, 4.8189e-13,\n",
      "         3.4574e-04, 9.9913e-01, 5.2854e-04, 5.3335e-13]], device='cuda:0',\n",
      "       grad_fn=<SoftmaxBackward0>)\n",
      "Argmax: 7\n",
      "Ground Truth: 7\n"
     ]
    },
    {
     "data": {
      "image/png": "[encoded data removed]",
      "text/plain": [
       "<PIL.Image.Image image mode=RGB size=28x28 at 0x1E77CF6F610>"
      ]
     },
     "metadata": {},
     "output_type": "display_data"
    },
    {
     "name": "stdout",
     "output_type": "stream",
     "text": [
      "Output: tensor([[9.7669e-09, 1.0851e-12, 3.5701e-17, 3.7544e-17, 6.3212e-12, 1.4466e-04,\n",
      "         9.9855e-01, 1.3054e-03, 8.8860e-09, 1.6110e-10]], device='cuda:0',\n",
      "       grad_fn=<SoftmaxBackward0>)\n",
      "Argmax: 6\n",
      "Ground Truth: 6\n"
     ]
    },
    {
     "data": {
      "image/png": "[encoded data removed]",
      "text/plain": [
       "<PIL.Image.Image image mode=RGB size=28x28 at 0x1E77CF6F5B0>"
      ]
     },
     "metadata": {},
     "output_type": "display_data"
    },
    {
     "name": "stdout",
     "output_type": "stream",
     "text": [
      "Output: tensor([[8.4727e-07, 3.2904e-22, 1.2206e-35, 1.3524e-35, 1.0166e-22, 2.3672e-05,\n",
      "         9.9998e-01, 7.7257e-09, 1.6270e-20, 1.4872e-20]], device='cuda:0',\n",
      "       grad_fn=<SoftmaxBackward0>)\n",
      "Argmax: 6\n",
      "Ground Truth: 6\n"
     ]
    },
    {
     "data": {
      "image/png": "[encoded data removed]",
      "text/plain": [
       "<PIL.Image.Image image mode=RGB size=28x28 at 0x1E77CF6F7F0>"
      ]
     },
     "metadata": {},
     "output_type": "display_data"
    },
    {
     "name": "stdout",
     "output_type": "stream",
     "text": [
      "Output: tensor([[6.2446e-10, 9.9972e-01, 2.4438e-04, 2.2019e-16, 4.2804e-24, 7.3131e-20,\n",
      "         7.9301e-10, 3.2470e-05, 2.8791e-14, 9.7519e-25]], device='cuda:0',\n",
      "       grad_fn=<SoftmaxBackward0>)\n",
      "Argmax: 1\n",
      "Ground Truth: 1\n"
     ]
    },
    {
     "data": {
      "image/png": "[encoded data removed]",
      "text/plain": [
       "<PIL.Image.Image image mode=RGB size=28x28 at 0x1E77CF6F970>"
      ]
     },
     "metadata": {},
     "output_type": "display_data"
    },
    {
     "name": "stdout",
     "output_type": "stream",
     "text": [
      "Output: tensor([[7.7590e-19, 2.2022e-11, 5.4239e-08, 6.9023e-12, 2.5495e-18, 1.0608e-18,\n",
      "         1.0455e-12, 5.5684e-05, 9.9991e-01, 3.7937e-05]], device='cuda:0',\n",
      "       grad_fn=<SoftmaxBackward0>)\n",
      "Argmax: 8\n",
      "Ground Truth: 8\n"
     ]
    },
    {
     "data": {
      "image/png": "[encoded data removed]",
      "text/plain": [
       "<PIL.Image.Image image mode=RGB size=28x28 at 0x1E77CF63E20>"
      ]
     },
     "metadata": {},
     "output_type": "display_data"
    },
    {
     "name": "stdout",
     "output_type": "stream",
     "text": [
      "Output: tensor([[9.4269e-04, 7.7220e-14, 2.7376e-20, 2.4140e-18, 5.0574e-09, 5.2444e-01,\n",
      "         4.7462e-01, 8.2382e-07, 2.5836e-11, 1.7498e-08]], device='cuda:0',\n",
      "       grad_fn=<SoftmaxBackward0>)\n",
      "Argmax: 5\n",
      "Ground Truth: 6\n",
      "Validation Accuracy: 87.5%\n"
     ]
    }
   ],
   "source": [
    "test(validation_size=16, mag=1)"
   ]
  },
  {
   "cell_type": "code",
   "execution_count": 7,
   "metadata": {},
   "outputs": [
    {
     "data": {
      "image/png": "[encoded data removed]",
      "text/plain": [
       "<PIL.Image.Image image mode=RGB size=30x30 at 0x1E77CF63E80>"
      ]
     },
     "metadata": {},
     "output_type": "display_data"
    },
    {
     "name": "stdout",
     "output_type": "stream",
     "text": [
      "Output: tensor([[1.5883e-05, 1.3874e-06, 1.7454e-05, 5.9307e-03, 4.7037e-01, 5.0008e-01,\n",
      "         1.0058e-02, 2.3464e-04, 2.8974e-04, 1.3009e-02]], device='cuda:0',\n",
      "       grad_fn=<SoftmaxBackward0>)\n",
      "Argmax: 5\n",
      "Ground Truth: 5\n"
     ]
    },
    {
     "data": {
      "image/png": "[encoded data removed]",
      "text/plain": [
       "<PIL.Image.Image image mode=RGB size=30x30 at 0x1E77CF61090>"
      ]
     },
     "metadata": {},
     "output_type": "display_data"
    },
    {
     "name": "stdout",
     "output_type": "stream",
     "text": [
      "Output: tensor([[8.8363e-07, 1.0610e-03, 3.6469e-01, 4.5639e-01, 4.0269e-03, 6.1051e-05,\n",
      "         1.2117e-04, 1.1531e-02, 1.5893e-01, 3.1916e-03]], device='cuda:0',\n",
      "       grad_fn=<SoftmaxBackward0>)\n",
      "Argmax: 3\n",
      "Ground Truth: 8\n"
     ]
    },
    {
     "data": {
      "image/png": "[encoded data removed]",
      "text/plain": [
       "<PIL.Image.Image image mode=RGB size=30x30 at 0x1E77CF60DC0>"
      ]
     },
     "metadata": {},
     "output_type": "display_data"
    },
    {
     "name": "stdout",
     "output_type": "stream",
     "text": [
      "Output: tensor([[1.7259e-05, 6.1758e-03, 3.0314e-02, 1.5396e-03, 7.1723e-05, 1.2340e-04,\n",
      "         7.5508e-03, 6.4468e-01, 3.0873e-01, 7.9915e-04]], device='cuda:0',\n",
      "       grad_fn=<SoftmaxBackward0>)\n",
      "Argmax: 7\n",
      "Ground Truth: 7\n"
     ]
    },
    {
     "data": {
      "image/png": "[encoded data removed]",
      "text/plain": [
       "<PIL.Image.Image image mode=RGB size=30x30 at 0x1E77CF60DC0>"
      ]
     },
     "metadata": {},
     "output_type": "display_data"
    },
    {
     "name": "stdout",
     "output_type": "stream",
     "text": [
      "Output: tensor([[0.0020, 0.0026, 0.0117, 0.0898, 0.3848, 0.3486, 0.1007, 0.0364, 0.0161,\n",
      "         0.0073]], device='cuda:0', grad_fn=<SoftmaxBackward0>)\n",
      "Argmax: 4\n",
      "Ground Truth: 5\n"
     ]
    },
    {
     "data": {
      "image/png": "[encoded data removed]",
      "text/plain": [
       "<PIL.Image.Image image mode=RGB size=30x30 at 0x1E77CF61090>"
      ]
     },
     "metadata": {},
     "output_type": "display_data"
    },
    {
     "name": "stdout",
     "output_type": "stream",
     "text": [
      "Output: tensor([[8.0766e-05, 1.4646e-03, 2.6167e-02, 4.4633e-02, 1.2630e-02, 4.5676e-03,\n",
      "         1.2603e-02, 1.3305e-01, 6.6499e-01, 9.9810e-02]], device='cuda:0',\n",
      "       grad_fn=<SoftmaxBackward0>)\n",
      "Argmax: 8\n",
      "Ground Truth: 8\n"
     ]
    },
    {
     "data": {
      "image/png": "[encoded data removed]",
      "text/plain": [
       "<PIL.Image.Image image mode=RGB size=30x30 at 0x1E77CF606D0>"
      ]
     },
     "metadata": {},
     "output_type": "display_data"
    },
    {
     "name": "stdout",
     "output_type": "stream",
     "text": [
      "Output: tensor([[1.8800e-06, 3.2529e-05, 1.9560e-03, 1.8464e-02, 9.2420e-03, 1.3541e-03,\n",
      "         1.2712e-03, 1.9681e-02, 4.6904e-01, 4.7896e-01]], device='cuda:0',\n",
      "       grad_fn=<SoftmaxBackward0>)\n",
      "Argmax: 9\n",
      "Ground Truth: 8\n"
     ]
    },
    {
     "data": {
      "image/png": "[encoded data removed]",
      "text/plain": [
       "<PIL.Image.Image image mode=RGB size=30x30 at 0x1E77CF63670>"
      ]
     },
     "metadata": {},
     "output_type": "display_data"
    },
    {
     "name": "stdout",
     "output_type": "stream",
     "text": [
      "Output: tensor([[0.0829, 0.1586, 0.3547, 0.2452, 0.0509, 0.0168, 0.0186, 0.0344, 0.0340,\n",
      "         0.0040]], device='cuda:0', grad_fn=<SoftmaxBackward0>)\n",
      "Argmax: 2\n",
      "Ground Truth: 8\n"
     ]
    },
    {
     "data": {
      "image/png": "[encoded data removed]",
      "text/plain": [
       "<PIL.Image.Image image mode=RGB size=30x30 at 0x1E77CF61090>"
      ]
     },
     "metadata": {},
     "output_type": "display_data"
    },
    {
     "name": "stdout",
     "output_type": "stream",
     "text": [
      "Output: tensor([[3.2200e-03, 2.4307e-04, 2.0244e-04, 2.4661e-03, 9.0423e-02, 6.5006e-01,\n",
      "         2.2958e-01, 1.5626e-02, 2.9420e-03, 5.2422e-03]], device='cuda:0',\n",
      "       grad_fn=<SoftmaxBackward0>)\n",
      "Argmax: 5\n",
      "Ground Truth: 5\n"
     ]
    },
    {
     "data": {
      "image/png": "[encoded data removed]",
      "text/plain": [
       "<PIL.Image.Image image mode=RGB size=30x30 at 0x1E77CF61090>"
      ]
     },
     "metadata": {},
     "output_type": "display_data"
    },
    {
     "name": "stdout",
     "output_type": "stream",
     "text": [
      "Output: tensor([[1.1616e-05, 3.3193e-04, 2.4422e-03, 3.3078e-03, 2.5960e-03, 5.6999e-03,\n",
      "         4.9077e-02, 5.1644e-01, 3.9954e-01, 2.0554e-02]], device='cuda:0',\n",
      "       grad_fn=<SoftmaxBackward0>)\n",
      "Argmax: 7\n",
      "Ground Truth: 7\n"
     ]
    },
    {
     "data": {
      "image/png": "[encoded data removed]",
      "text/plain": [
       "<PIL.Image.Image image mode=RGB size=30x30 at 0x1E77CF61090>"
      ]
     },
     "metadata": {},
     "output_type": "display_data"
    },
    {
     "name": "stdout",
     "output_type": "stream",
     "text": [
      "Output: tensor([[2.0118e-07, 3.9057e-07, 5.0625e-05, 1.2258e-02, 1.1114e-01, 1.4991e-02,\n",
      "         9.8928e-04, 1.3837e-03, 3.6860e-02, 8.2233e-01]], device='cuda:0',\n",
      "       grad_fn=<SoftmaxBackward0>)\n",
      "Argmax: 9\n",
      "Ground Truth: 4\n"
     ]
    },
    {
     "data": {
      "image/png": "[encoded data removed]",
      "text/plain": [
       "<PIL.Image.Image image mode=RGB size=30x30 at 0x1E77CF61090>"
      ]
     },
     "metadata": {},
     "output_type": "display_data"
    },
    {
     "name": "stdout",
     "output_type": "stream",
     "text": [
      "Output: tensor([[1.4754e-07, 1.0613e-07, 2.4166e-05, 3.4626e-02, 8.6778e-01, 4.9570e-02,\n",
      "         3.2590e-04, 4.2543e-05, 5.3657e-04, 4.7091e-02]], device='cuda:0',\n",
      "       grad_fn=<SoftmaxBackward0>)\n",
      "Argmax: 4\n",
      "Ground Truth: 4\n"
     ]
    },
    {
     "data": {
      "image/png": "[encoded data removed]",
      "text/plain": [
       "<PIL.Image.Image image mode=RGB size=30x30 at 0x1E77CF605B0>"
      ]
     },
     "metadata": {},
     "output_type": "display_data"
    },
    {
     "name": "stdout",
     "output_type": "stream",
     "text": [
      "Output: tensor([[0.0024, 0.0113, 0.1784, 0.5713, 0.1917, 0.0221, 0.0039, 0.0034, 0.0080,\n",
      "         0.0075]], device='cuda:0', grad_fn=<SoftmaxBackward0>)\n",
      "Argmax: 3\n",
      "Ground Truth: 3\n"
     ]
    },
    {
     "data": {
      "image/png": "[encoded data removed]",
      "text/plain": [
       "<PIL.Image.Image image mode=RGB size=30x30 at 0x1E77CF605B0>"
      ]
     },
     "metadata": {},
     "output_type": "display_data"
    },
    {
     "name": "stdout",
     "output_type": "stream",
     "text": [
      "Output: tensor([[1.3310e-05, 4.9789e-06, 7.4461e-05, 3.6979e-03, 2.6454e-02, 1.0117e-02,\n",
      "         1.2673e-03, 1.2771e-03, 2.2762e-02, 9.3433e-01]], device='cuda:0',\n",
      "       grad_fn=<SoftmaxBackward0>)\n",
      "Argmax: 9\n",
      "Ground Truth: 9\n"
     ]
    },
    {
     "data": {
      "image/png": "[encoded data removed]",
      "text/plain": [
       "<PIL.Image.Image image mode=RGB size=30x30 at 0x1E77CF606D0>"
      ]
     },
     "metadata": {},
     "output_type": "display_data"
    },
    {
     "name": "stdout",
     "output_type": "stream",
     "text": [
      "Output: tensor([[2.5154e-07, 1.7971e-07, 3.9009e-05, 3.6439e-02, 6.6251e-01, 3.3406e-02,\n",
      "         3.1315e-04, 6.6366e-05, 1.5345e-03, 2.6569e-01]], device='cuda:0',\n",
      "       grad_fn=<SoftmaxBackward0>)\n",
      "Argmax: 4\n",
      "Ground Truth: 4\n"
     ]
    },
    {
     "data": {
      "image/png": "[encoded data removed]",
      "text/plain": [
       "<PIL.Image.Image image mode=RGB size=30x30 at 0x1E77CF607C0>"
      ]
     },
     "metadata": {},
     "output_type": "display_data"
    },
    {
     "name": "stdout",
     "output_type": "stream",
     "text": [
      "Output: tensor([[0.0008, 0.0025, 0.0290, 0.1370, 0.2065, 0.1598, 0.1070, 0.1135, 0.1427,\n",
      "         0.1013]], device='cuda:0', grad_fn=<SoftmaxBackward0>)\n",
      "Argmax: 4\n",
      "Ground Truth: 4\n"
     ]
    },
    {
     "data": {
      "image/png": "[encoded data removed]",
      "text/plain": [
       "<PIL.Image.Image image mode=RGB size=30x30 at 0x1E77CF63E80>"
      ]
     },
     "metadata": {},
     "output_type": "display_data"
    },
    {
     "name": "stdout",
     "output_type": "stream",
     "text": [
      "Output: tensor([[6.5479e-02, 9.0850e-01, 1.9500e-02, 2.5829e-05, 1.0459e-06, 1.0353e-05,\n",
      "         1.3070e-03, 5.1654e-03, 1.4557e-05, 1.7148e-09]], device='cuda:0',\n",
      "       grad_fn=<SoftmaxBackward0>)\n",
      "Argmax: 1\n",
      "Ground Truth: 1\n",
      "Validation Accuracy: 68.8%\n"
     ]
    }
   ],
   "source": [
    "test(validation_size=16, mag=2)"
   ]
  },
  {
   "cell_type": "code",
   "execution_count": 8,
   "metadata": {},
   "outputs": [
    {
     "data": {
      "image/png": "[encoded data removed]",
      "text/plain": [
       "<PIL.Image.Image image mode=RGB size=45x45 at 0x1E77CF63790>"
      ]
     },
     "metadata": {},
     "output_type": "display_data"
    },
    {
     "name": "stdout",
     "output_type": "stream",
     "text": [
      "Output: tensor([[1.2171e-01, 5.0487e-01, 3.2691e-02, 2.2389e-03, 8.9775e-03, 1.3906e-01,\n",
      "         1.5549e-01, 3.1001e-02, 3.9089e-03, 4.8295e-05]], device='cuda:0',\n",
      "       grad_fn=<SoftmaxBackward0>)\n",
      "Argmax: 1\n",
      "Ground Truth: 1\n"
     ]
    },
    {
     "data": {
      "image/png": "[encoded data removed]",
      "text/plain": [
       "<PIL.Image.Image image mode=RGB size=45x45 at 0x1E77CF63790>"
      ]
     },
     "metadata": {},
     "output_type": "display_data"
    },
    {
     "name": "stdout",
     "output_type": "stream",
     "text": [
      "Output: tensor([[1.8392e-05, 6.1376e-07, 1.0451e-06, 1.6503e-04, 4.3317e-02, 9.3972e-01,\n",
      "         1.6694e-02, 6.6675e-05, 2.5415e-06, 1.3071e-05]], device='cuda:0',\n",
      "       grad_fn=<SoftmaxBackward0>)\n",
      "Argmax: 5\n",
      "Ground Truth: 5\n"
     ]
    },
    {
     "data": {
      "image/png": "[encoded data removed]",
      "text/plain": [
       "<PIL.Image.Image image mode=RGB size=45x45 at 0x1E77CF63F70>"
      ]
     },
     "metadata": {},
     "output_type": "display_data"
    },
    {
     "name": "stdout",
     "output_type": "stream",
     "text": [
      "Output: tensor([[1.5762e-03, 8.0747e-06, 1.3863e-06, 2.6248e-05, 5.3758e-03, 8.1158e-01,\n",
      "         1.8104e-01, 3.8072e-04, 8.0057e-06, 8.2050e-06]], device='cuda:0',\n",
      "       grad_fn=<SoftmaxBackward0>)\n",
      "Argmax: 5\n",
      "Ground Truth: 5\n"
     ]
    },
    {
     "data": {
      "image/png": "[encoded data removed]",
      "text/plain": [
       "<PIL.Image.Image image mode=RGB size=45x45 at 0x1E77CF62C80>"
      ]
     },
     "metadata": {},
     "output_type": "display_data"
    },
    {
     "name": "stdout",
     "output_type": "stream",
     "text": [
      "Output: tensor([[5.8702e-02, 1.7156e-03, 2.3002e-07, 4.4353e-09, 2.6258e-07, 2.9445e-03,\n",
      "         8.6657e-01, 7.0036e-02, 3.1503e-05, 2.2565e-08]], device='cuda:0',\n",
      "       grad_fn=<SoftmaxBackward0>)\n",
      "Argmax: 6\n",
      "Ground Truth: 6\n"
     ]
    },
    {
     "data": {
      "image/png": "[encoded data removed]",
      "text/plain": [
       "<PIL.Image.Image image mode=RGB size=45x45 at 0x1E77CF63790>"
      ]
     },
     "metadata": {},
     "output_type": "display_data"
    },
    {
     "name": "stdout",
     "output_type": "stream",
     "text": [
      "Output: tensor([[1.3722e-03, 9.7122e-02, 7.7112e-02, 1.1142e-02, 1.9884e-04, 1.4640e-03,\n",
      "         3.9750e-02, 5.0701e-01, 2.6239e-01, 2.4346e-03]], device='cuda:0',\n",
      "       grad_fn=<SoftmaxBackward0>)\n",
      "Argmax: 7\n",
      "Ground Truth: 8\n"
     ]
    },
    {
     "data": {
      "image/png": "[encoded data removed]",
      "text/plain": [
       "<PIL.Image.Image image mode=RGB size=45x45 at 0x1E77CF60520>"
      ]
     },
     "metadata": {},
     "output_type": "display_data"
    },
    {
     "name": "stdout",
     "output_type": "stream",
     "text": [
      "Output: tensor([[0.0308, 0.0063, 0.0017, 0.0028, 0.0158, 0.2535, 0.4501, 0.1624, 0.0548,\n",
      "         0.0216]], device='cuda:0', grad_fn=<SoftmaxBackward0>)\n",
      "Argmax: 6\n",
      "Ground Truth: 9\n"
     ]
    },
    {
     "data": {
      "image/png": "[encoded data removed]",
      "text/plain": [
       "<PIL.Image.Image image mode=RGB size=45x45 at 0x1E77CF63F70>"
      ]
     },
     "metadata": {},
     "output_type": "display_data"
    },
    {
     "name": "stdout",
     "output_type": "stream",
     "text": [
      "Output: tensor([[2.8615e-03, 2.0529e-04, 5.2199e-07, 3.2813e-07, 5.6037e-05, 8.6023e-02,\n",
      "         9.0576e-01, 5.0864e-03, 1.9529e-06, 7.1470e-09]], device='cuda:0',\n",
      "       grad_fn=<SoftmaxBackward0>)\n",
      "Argmax: 6\n",
      "Ground Truth: 6\n"
     ]
    },
    {
     "data": {
      "image/png": "[encoded data removed]",
      "text/plain": [
       "<PIL.Image.Image image mode=RGB size=45x45 at 0x1E77CF60520>"
      ]
     },
     "metadata": {},
     "output_type": "display_data"
    },
    {
     "name": "stdout",
     "output_type": "stream",
     "text": [
      "Output: tensor([[4.5707e-07, 1.0196e-08, 1.0027e-07, 1.3272e-04, 9.5736e-02, 9.0161e-01,\n",
      "         2.5101e-03, 3.6934e-06, 3.9084e-07, 1.1085e-05]], device='cuda:0',\n",
      "       grad_fn=<SoftmaxBackward0>)\n",
      "Argmax: 5\n",
      "Ground Truth: 5\n"
     ]
    },
    {
     "data": {
      "image/png": "[encoded data removed]",
      "text/plain": [
       "<PIL.Image.Image image mode=RGB size=45x45 at 0x1E77CF60520>"
      ]
     },
     "metadata": {},
     "output_type": "display_data"
    },
    {
     "name": "stdout",
     "output_type": "stream",
     "text": [
      "Output: tensor([[2.9441e-01, 5.6261e-02, 1.8716e-03, 3.4754e-04, 5.3167e-03, 9.7405e-02,\n",
      "         4.1875e-01, 1.1827e-01, 5.3488e-03, 2.0222e-03]], device='cuda:0',\n",
      "       grad_fn=<SoftmaxBackward0>)\n",
      "Argmax: 6\n",
      "Ground Truth: 9\n"
     ]
    },
    {
     "data": {
      "image/png": "[encoded data removed]",
      "text/plain": [
       "<PIL.Image.Image image mode=RGB size=45x45 at 0x1E77CF63790>"
      ]
     },
     "metadata": {},
     "output_type": "display_data"
    },
    {
     "name": "stdout",
     "output_type": "stream",
     "text": [
      "Output: tensor([[8.4087e-04, 2.2254e-03, 1.7126e-02, 2.1395e-01, 3.9597e-01, 3.5198e-01,\n",
      "         1.6426e-02, 1.1132e-03, 2.6330e-04, 1.0041e-04]], device='cuda:0',\n",
      "       grad_fn=<SoftmaxBackward0>)\n",
      "Argmax: 4\n",
      "Ground Truth: 3\n"
     ]
    },
    {
     "data": {
      "image/png": "[encoded data removed]",
      "text/plain": [
       "<PIL.Image.Image image mode=RGB size=45x45 at 0x1E77CF604F0>"
      ]
     },
     "metadata": {},
     "output_type": "display_data"
    },
    {
     "name": "stdout",
     "output_type": "stream",
     "text": [
      "Output: tensor([[9.8122e-03, 9.9998e-02, 7.1572e-01, 1.5968e-01, 1.0906e-03, 4.1816e-05,\n",
      "         2.5596e-05, 3.1213e-04, 7.0047e-03, 6.3201e-03]], device='cuda:0',\n",
      "       grad_fn=<SoftmaxBackward0>)\n",
      "Argmax: 2\n",
      "Ground Truth: 2\n"
     ]
    },
    {
     "data": {
      "image/png": "[encoded data removed]",
      "text/plain": [
       "<PIL.Image.Image image mode=RGB size=45x45 at 0x1E77CF60160>"
      ]
     },
     "metadata": {},
     "output_type": "display_data"
    },
    {
     "name": "stdout",
     "output_type": "stream",
     "text": [
      "Output: tensor([[4.2699e-02, 4.9541e-04, 6.1659e-06, 8.1809e-06, 6.8103e-04, 2.9128e-01,\n",
      "         6.6204e-01, 2.7842e-03, 8.7569e-06, 6.3929e-07]], device='cuda:0',\n",
      "       grad_fn=<SoftmaxBackward0>)\n",
      "Argmax: 6\n",
      "Ground Truth: 6\n"
     ]
    },
    {
     "data": {
      "image/png": "[encoded data removed]",
      "text/plain": [
       "<PIL.Image.Image image mode=RGB size=45x45 at 0x1E77CF62C80>"
      ]
     },
     "metadata": {},
     "output_type": "display_data"
    },
    {
     "name": "stdout",
     "output_type": "stream",
     "text": [
      "Output: tensor([[1.3068e-04, 1.1644e-04, 3.2053e-04, 1.5677e-03, 1.6683e-02, 9.8001e-03,\n",
      "         1.8250e-03, 4.5055e-03, 5.4750e-02, 9.1030e-01]], device='cuda:0',\n",
      "       grad_fn=<SoftmaxBackward0>)\n",
      "Argmax: 9\n",
      "Ground Truth: 9\n"
     ]
    },
    {
     "data": {
      "image/png": "[encoded data removed]",
      "text/plain": [
       "<PIL.Image.Image image mode=RGB size=45x45 at 0x1E77CF63F70>"
      ]
     },
     "metadata": {},
     "output_type": "display_data"
    },
    {
     "name": "stdout",
     "output_type": "stream",
     "text": [
      "Output: tensor([[6.5344e-05, 6.4969e-07, 3.4618e-09, 3.5065e-08, 7.5017e-05, 2.8394e-01,\n",
      "         7.1510e-01, 8.2374e-04, 8.2181e-07, 2.3780e-08]], device='cuda:0',\n",
      "       grad_fn=<SoftmaxBackward0>)\n",
      "Argmax: 6\n",
      "Ground Truth: 6\n"
     ]
    },
    {
     "data": {
      "image/png": "[encoded data removed]",
      "text/plain": [
       "<PIL.Image.Image image mode=RGB size=45x45 at 0x1E77CF60520>"
      ]
     },
     "metadata": {},
     "output_type": "display_data"
    },
    {
     "name": "stdout",
     "output_type": "stream",
     "text": [
      "Output: tensor([[0.0007, 0.0020, 0.0030, 0.0076, 0.0061, 0.0514, 0.2427, 0.3775, 0.2631,\n",
      "         0.0459]], device='cuda:0', grad_fn=<SoftmaxBackward0>)\n",
      "Argmax: 7\n",
      "Ground Truth: 8\n"
     ]
    },
    {
     "data": {
      "image/png": "[encoded data removed]",
      "text/plain": [
       "<PIL.Image.Image image mode=RGB size=45x45 at 0x1E77CF60160>"
      ]
     },
     "metadata": {},
     "output_type": "display_data"
    },
    {
     "name": "stdout",
     "output_type": "stream",
     "text": [
      "Output: tensor([[2.3705e-04, 3.6329e-06, 3.9525e-08, 3.1469e-07, 1.3039e-04, 2.2072e-01,\n",
      "         7.7589e-01, 3.0033e-03, 1.4934e-05, 6.4326e-07]], device='cuda:0',\n",
      "       grad_fn=<SoftmaxBackward0>)\n",
      "Argmax: 6\n",
      "Ground Truth: 6\n",
      "Validation Accuracy: 68.8%\n"
     ]
    }
   ],
   "source": [
    "test(validation_size=16, mag=3)"
   ]
  }
 ],
 "metadata": {
  "kernelspec": {
   "display_name": "Python 3.10.5 64-bit",
   "language": "python",
   "name": "python3"
  },
  "language_info": {
   "codemirror_mode": {
    "name": "ipython",
    "version": 3
   },
   "file_extension": ".py",
   "mimetype": "text/x-python",
   "name": "python",
   "nbconvert_exporter": "python",
   "pygments_lexer": "ipython3",
   "version": "3.10.5"
  },
  "orig_nbformat": 4,
  "vscode": {
   "interpreter": {
    "hash": "369f2c481f4da34e4445cda3fffd2e751bd1c4d706f27375911949ba6bb62e1c"
   }
  }
 },
 "nbformat": 4,
 "nbformat_minor": 2
}
