{
 "cells": [
  {
   "cell_type": "code",
   "execution_count": 1,
   "id": "ceaa4203",
   "metadata": {
    "_cell_guid": "b1076dfc-b9ad-4769-8c92-a6c4dae69d19",
    "_uuid": "8f2839f25d086af736a60e9eeb907d3b93b6e0e5",
    "execution": {
     "iopub.execute_input": "2022-10-13T12:11:18.826880Z",
     "iopub.status.busy": "2022-10-13T12:11:18.825755Z",
     "iopub.status.idle": "2022-10-13T12:11:31.932391Z",
     "shell.execute_reply": "2022-10-13T12:11:31.931377Z"
    },
    "papermill": {
     "duration": 13.114173,
     "end_time": "2022-10-13T12:11:31.935090",
     "exception": false,
     "start_time": "2022-10-13T12:11:18.820917",
     "status": "completed"
    },
    "tags": []
   },
   "outputs": [
    {
     "name": "stdout",
     "output_type": "stream",
     "text": [
      "Collecting chess\r\n",
      "  Downloading chess-1.9.3-py3-none-any.whl (148 kB)\r\n",
      "\u001b[2K     \u001b[90m━━━━━━━━━━━━━━━━━━━━━━━━━━━━━━━━━━━━━\u001b[0m \u001b[32m148.5/148.5 kB\u001b[0m \u001b[31m703.2 kB/s\u001b[0m eta \u001b[36m0:00:00\u001b[0m\r\n",
      "\u001b[?25hInstalling collected packages: chess\r\n",
      "Successfully installed chess-1.9.3\r\n",
      "\u001b[33mWARNING: Running pip as the 'root' user can result in broken permissions and conflicting behaviour with the system package manager. It is recommended to use a virtual environment instead: https://pip.pypa.io/warnings/venv\u001b[0m\u001b[33m\r\n",
      "\u001b[0m"
     ]
    }
   ],
   "source": [
    "!pip3 install chess\n",
    "from copy import deepcopy\n",
    "import torch\n",
    "import torch.nn.functional as F\n",
    "from torch import nn, Tensor\n",
    "import math\n",
    "import chess\n",
    "from tqdm import trange\n",
    "import linecache\n",
    "from random import randint\n",
    "\n",
    "device = \"cuda\" if torch.cuda.is_available() else \"cpu\""
   ]
  },
  {
   "cell_type": "markdown",
   "id": "c44c8d52",
   "metadata": {
    "papermill": {
     "duration": 0.002234,
     "end_time": "2022-10-13T12:11:31.940126",
     "exception": false,
     "start_time": "2022-10-13T12:11:31.937892",
     "status": "completed"
    },
    "tags": []
   },
   "source": [
    "# VNN DECLARATION"
   ]
  },
  {
   "cell_type": "code",
   "execution_count": 2,
   "id": "e6ee867e",
   "metadata": {
    "execution": {
     "iopub.execute_input": "2022-10-13T12:11:31.946594Z",
     "iopub.status.busy": "2022-10-13T12:11:31.946084Z",
     "iopub.status.idle": "2022-10-13T12:11:35.720134Z",
     "shell.execute_reply": "2022-10-13T12:11:35.718555Z"
    },
    "papermill": {
     "duration": 3.780764,
     "end_time": "2022-10-13T12:11:35.723208",
     "exception": false,
     "start_time": "2022-10-13T12:11:31.942444",
     "status": "completed"
    },
    "tags": []
   },
   "outputs": [
    {
     "name": "stdout",
     "output_type": "stream",
     "text": [
      "torch.Size([1, 10])\n"
     ]
    }
   ],
   "source": [
    "class PosEncIndex(nn.Module):\n",
    "    def __init__(self, d_model: int):\n",
    "        super().__init__()\n",
    "        self.d_model = d_model\n",
    "        \n",
    "    def forward(self, x: Tensor) -> Tensor:\n",
    "        length = torch.max(x).item()+1\n",
    "        \n",
    "        pe = torch.zeros((length, self.d_model)).to(device)\n",
    "        position = torch.arange(0, length).unsqueeze(1)\n",
    "        div_term = torch.exp((torch.arange(0, self.d_model, 2, dtype=torch.float) *\n",
    "                            -(math.log(10000.0) / self.d_model)))\n",
    "        pe[:, 0::2] = torch.sin(position.float() * div_term)\n",
    "        pe[:, 1::2] = torch.cos(position.float() * div_term)\n",
    "\n",
    "        return pe[x]\n",
    "\n",
    "class VNNBlock (nn.Module):\n",
    "    def __init__(self, d_model, weight_nn, bias_nn) -> None:\n",
    "        super().__init__()\n",
    "        self.weight_nn = weight_nn \n",
    "        self.bias_nn = bias_nn \n",
    "        self.pos_enc = PosEncIndex(d_model)\n",
    "\n",
    "    def weight_propagation (self, x, output_size, extra_out):\n",
    "        input_size = x.size(1)\n",
    "        batch_size = x.size(0)\n",
    "        \n",
    "        #* Weight Generation\n",
    "        # Generate the weight vector\n",
    "        argument_one = torch.arange(input_size)\n",
    "        argument_two = torch.arange(output_size)\n",
    "\n",
    "        # Generate the repeat\n",
    "        argument_one = argument_one.repeat(batch_size, output_size)\n",
    "        argument_two = argument_two.repeat(batch_size, input_size)\n",
    "\n",
    "        x_concat = x.repeat(1, output_size).unsqueeze(2).to(device)\n",
    "\n",
    "        # Positional Encoding + Concat\n",
    "        argument_one = self.pos_enc(argument_one.detach())\n",
    "        argument_two = self.pos_enc(argument_two.detach())\n",
    "\n",
    "        if extra_out != None:  \n",
    "            argument = torch.concat((argument_one, argument_two, x_concat, extra_out.repeat(1, input_size, 1)), dim=2)\n",
    "        else:\n",
    "            argument = torch.concat((argument_one, argument_two, x_concat), dim=2)\n",
    "        \n",
    "        weights = self.weight_nn(argument.detach()).view(batch_size, input_size, output_size)\n",
    "        x = x.view(batch_size, 1, input_size)\n",
    "        out = torch.bmm(x, weights).squeeze(1)\n",
    "\n",
    "        #* Bias Generation\n",
    "\n",
    "        # Create Bias Argument\n",
    "        argument_one = torch.arange(output_size)\n",
    "        argument_one = self.pos_enc(argument_one.detach()).squeeze(1)\n",
    "        argument_one = argument_one.repeat(batch_size, 1, 1)\n",
    "        argument_two = out.unsqueeze(2)\n",
    "        if extra_out != None:\n",
    "            bias_argument = torch.concat((argument_one, argument_two, extra_out), dim=2)\n",
    "        else:\n",
    "            bias_argument = torch.concat((argument_one, argument_two), dim=2)\n",
    "\n",
    "        # Add bias\n",
    "        bias = self.bias_nn(bias_argument.detach()).squeeze(2)\n",
    "        out += bias\n",
    "\n",
    "        return out\n",
    "\n",
    "    def return_gpu_desc (self):\n",
    "        t = torch.cuda.get_device_properties(0).total_memory\n",
    "        r = torch.cuda.memory_reserved(0)\n",
    "        a = torch.cuda.memory_allocated(0)\n",
    "        f = r-a  # free inside reserved\n",
    "        return f\"Free: {f/1024**2} MB; Allocated: {a/1024**2} MB\"\n",
    "\n",
    "    def forward (self, x, output_size, extra_out=None, chunks=None):\n",
    "        # Extra Out size: \n",
    "        # first dim is the batch size, second dim is the output space, third dim is the vector added during weight \n",
    "        if chunks != None:\n",
    "            if extra_out != None:\n",
    "                assert x.size(0) == extra_out.size(0), f\"Batch size of x ({x.size(0)}) is the same as the batch size of extra_out ({extra_out.size(0)})\"\n",
    "\n",
    "            arr = [output_size // chunks for _ in range(chunks)]        \n",
    "            if output_size % chunks > 0: \n",
    "                arr.append(output_size % chunks) \n",
    "\n",
    "            out = torch.tensor([])\n",
    "            output_size = 5\n",
    "\n",
    "            index = 0\n",
    "            for i in range(len(arr)):\n",
    "                indx_arr = torch.arange(start=index, end=index+arr[i]).to(device)\n",
    "                partial_extra_out = torch.index_select(extra_out, dim=1, index=indx_arr)\n",
    "                output = self.weight_propagation(x, arr[i], partial_extra_out)\n",
    "                if out.size(0) == 0: \n",
    "                    out = output \n",
    "                else:\n",
    "                    out = torch.concat((out, output), dim=1)\n",
    "                index += arr[i]\n",
    "            return out\n",
    "        else:\n",
    "            return self.weight_propagation(x, output_size, extra_out)\n",
    "    \n",
    "    \n",
    "d_model = 16\n",
    "\n",
    "weight_model = nn.Sequential(\n",
    "    nn.Linear(65, 16),\n",
    "    nn.Tanh(),\n",
    "    nn.Linear(16, 1),\n",
    ") \n",
    "\n",
    "bias_model = nn.Sequential(\n",
    "    nn.Linear(49, 12),\n",
    "    nn.Tanh(),\n",
    "    nn.Linear(12, 1),\n",
    ")\n",
    "\n",
    "model = VNNBlock(d_model, weight_model, bias_model).to(\"cuda\")\n",
    "out = model(torch.randn(1, 60).to(\"cuda\"), 10, extra_out=torch.randn(1, 10, 32).to(\"cuda\"), chunks=7)\n",
    "print(out.shape)"
   ]
  },
  {
   "cell_type": "markdown",
   "id": "900b3645",
   "metadata": {
    "papermill": {
     "duration": 0.002346,
     "end_time": "2022-10-13T12:11:35.728538",
     "exception": false,
     "start_time": "2022-10-13T12:11:35.726192",
     "status": "completed"
    },
    "tags": []
   },
   "source": [
    "# TRAINING CHESS"
   ]
  },
  {
   "cell_type": "code",
   "execution_count": 3,
   "id": "72b98eb2",
   "metadata": {
    "execution": {
     "iopub.execute_input": "2022-10-13T12:11:35.735377Z",
     "iopub.status.busy": "2022-10-13T12:11:35.734655Z",
     "iopub.status.idle": "2022-10-13T14:43:54.550400Z",
     "shell.execute_reply": "2022-10-13T14:43:54.549274Z"
    },
    "papermill": {
     "duration": 9138.821816,
     "end_time": "2022-10-13T14:43:54.552717",
     "exception": false,
     "start_time": "2022-10-13T12:11:35.730901",
     "status": "completed"
    },
    "tags": []
   },
   "outputs": [
    {
     "name": "stderr",
     "output_type": "stream",
     "text": [
      "/opt/conda/lib/python3.7/site-packages/torch/nn/modules/lazy.py:178: UserWarning: Lazy modules are a new feature under heavy development so changes to the API or functionality can happen at any moment.\n",
      "  warnings.warn('Lazy modules are a new feature under heavy development '\n",
      "Loss: 0.9315:   1%|          | 101/10000 [01:39<2:21:01,  1.17it/s]"
     ]
    },
    {
     "name": "stdout",
     "output_type": "stream",
     "text": [
      "\n",
      "Saved Model\n"
     ]
    },
    {
     "name": "stderr",
     "output_type": "stream",
     "text": [
      "Loss: 0.7540:   2%|▏         | 201/10000 [03:11<2:26:21,  1.12it/s]"
     ]
    },
    {
     "name": "stdout",
     "output_type": "stream",
     "text": [
      "\n",
      "Saved Model\n"
     ]
    },
    {
     "name": "stderr",
     "output_type": "stream",
     "text": [
      "Loss: 3.3411:   3%|▎         | 301/10000 [04:40<2:18:10,  1.17it/s]"
     ]
    },
    {
     "name": "stdout",
     "output_type": "stream",
     "text": [
      "\n",
      "Saved Model\n"
     ]
    },
    {
     "name": "stderr",
     "output_type": "stream",
     "text": [
      "Loss: 0.3665:   4%|▍         | 401/10000 [06:12<2:29:35,  1.07it/s]"
     ]
    },
    {
     "name": "stdout",
     "output_type": "stream",
     "text": [
      "\n",
      "Saved Model\n"
     ]
    },
    {
     "name": "stderr",
     "output_type": "stream",
     "text": [
      "Loss: 4.0071:   5%|▌         | 501/10000 [07:41<2:08:39,  1.23it/s]"
     ]
    },
    {
     "name": "stdout",
     "output_type": "stream",
     "text": [
      "\n",
      "Saved Model\n"
     ]
    },
    {
     "name": "stderr",
     "output_type": "stream",
     "text": [
      "Loss: 2.9564:   6%|▌         | 601/10000 [09:12<2:46:38,  1.06s/it]"
     ]
    },
    {
     "name": "stdout",
     "output_type": "stream",
     "text": [
      "\n",
      "Saved Model\n"
     ]
    },
    {
     "name": "stderr",
     "output_type": "stream",
     "text": [
      "Loss: 0.9245:   7%|▋         | 701/10000 [10:47<2:10:44,  1.19it/s]"
     ]
    },
    {
     "name": "stdout",
     "output_type": "stream",
     "text": [
      "\n",
      "Saved Model\n"
     ]
    },
    {
     "name": "stderr",
     "output_type": "stream",
     "text": [
      "Loss: 0.7778:   8%|▊         | 801/10000 [12:17<2:11:11,  1.17it/s]"
     ]
    },
    {
     "name": "stdout",
     "output_type": "stream",
     "text": [
      "\n",
      "Saved Model\n"
     ]
    },
    {
     "name": "stderr",
     "output_type": "stream",
     "text": [
      "Loss: 0.5498:   9%|▉         | 901/10000 [13:48<2:41:31,  1.07s/it]"
     ]
    },
    {
     "name": "stdout",
     "output_type": "stream",
     "text": [
      "\n",
      "Saved Model\n"
     ]
    },
    {
     "name": "stderr",
     "output_type": "stream",
     "text": [
      "Loss: 1.0063:  10%|█         | 1001/10000 [15:17<2:18:58,  1.08it/s]"
     ]
    },
    {
     "name": "stdout",
     "output_type": "stream",
     "text": [
      "\n",
      "Saved Model\n"
     ]
    },
    {
     "name": "stderr",
     "output_type": "stream",
     "text": [
      "Loss: 0.7832:  11%|█         | 1101/10000 [16:49<2:03:18,  1.20it/s]"
     ]
    },
    {
     "name": "stdout",
     "output_type": "stream",
     "text": [
      "\n",
      "Saved Model\n"
     ]
    },
    {
     "name": "stderr",
     "output_type": "stream",
     "text": [
      "Loss: 0.6470:  12%|█▏        | 1201/10000 [18:22<2:33:35,  1.05s/it]"
     ]
    },
    {
     "name": "stdout",
     "output_type": "stream",
     "text": [
      "\n",
      "Saved Model\n"
     ]
    },
    {
     "name": "stderr",
     "output_type": "stream",
     "text": [
      "Loss: 6.4815:  13%|█▎        | 1301/10000 [19:53<2:20:03,  1.04it/s]"
     ]
    },
    {
     "name": "stdout",
     "output_type": "stream",
     "text": [
      "\n",
      "Saved Model\n"
     ]
    },
    {
     "name": "stderr",
     "output_type": "stream",
     "text": [
      "Loss: 0.7968:  14%|█▍        | 1401/10000 [21:23<1:53:56,  1.26it/s]"
     ]
    },
    {
     "name": "stdout",
     "output_type": "stream",
     "text": [
      "\n",
      "Saved Model\n"
     ]
    },
    {
     "name": "stderr",
     "output_type": "stream",
     "text": [
      "Loss: 1.1010:  15%|█▌        | 1501/10000 [22:54<2:11:26,  1.08it/s]"
     ]
    },
    {
     "name": "stdout",
     "output_type": "stream",
     "text": [
      "\n",
      "Saved Model\n"
     ]
    },
    {
     "name": "stderr",
     "output_type": "stream",
     "text": [
      "Loss: 1.9307:  16%|█▌        | 1601/10000 [24:26<2:04:20,  1.13it/s]"
     ]
    },
    {
     "name": "stdout",
     "output_type": "stream",
     "text": [
      "\n",
      "Saved Model\n"
     ]
    },
    {
     "name": "stderr",
     "output_type": "stream",
     "text": [
      "Loss: 0.6431:  17%|█▋        | 1701/10000 [25:58<2:09:54,  1.06it/s]"
     ]
    },
    {
     "name": "stdout",
     "output_type": "stream",
     "text": [
      "\n",
      "Saved Model\n"
     ]
    },
    {
     "name": "stderr",
     "output_type": "stream",
     "text": [
      "Loss: 1.5876:  18%|█▊        | 1801/10000 [27:26<1:50:06,  1.24it/s]"
     ]
    },
    {
     "name": "stdout",
     "output_type": "stream",
     "text": [
      "\n",
      "Saved Model\n"
     ]
    },
    {
     "name": "stderr",
     "output_type": "stream",
     "text": [
      "Loss: 1.0383:  19%|█▉        | 1901/10000 [28:55<2:02:58,  1.10it/s]"
     ]
    },
    {
     "name": "stdout",
     "output_type": "stream",
     "text": [
      "\n",
      "Saved Model\n"
     ]
    },
    {
     "name": "stderr",
     "output_type": "stream",
     "text": [
      "Loss: 2.6342:  20%|██        | 2001/10000 [30:27<2:08:42,  1.04it/s]"
     ]
    },
    {
     "name": "stdout",
     "output_type": "stream",
     "text": [
      "\n",
      "Saved Model\n"
     ]
    },
    {
     "name": "stderr",
     "output_type": "stream",
     "text": [
      "Loss: 0.5535:  21%|██        | 2101/10000 [31:57<2:20:11,  1.06s/it]"
     ]
    },
    {
     "name": "stdout",
     "output_type": "stream",
     "text": [
      "\n",
      "Saved Model\n"
     ]
    },
    {
     "name": "stderr",
     "output_type": "stream",
     "text": [
      "Loss: 0.8529:  22%|██▏       | 2201/10000 [33:29<2:03:30,  1.05it/s]"
     ]
    },
    {
     "name": "stdout",
     "output_type": "stream",
     "text": [
      "\n",
      "Saved Model\n"
     ]
    },
    {
     "name": "stderr",
     "output_type": "stream",
     "text": [
      "Loss: 1.1879:  23%|██▎       | 2301/10000 [35:04<1:59:24,  1.07it/s]"
     ]
    },
    {
     "name": "stdout",
     "output_type": "stream",
     "text": [
      "\n",
      "Saved Model\n"
     ]
    },
    {
     "name": "stderr",
     "output_type": "stream",
     "text": [
      "Loss: 1.4640:  24%|██▍       | 2401/10000 [36:36<2:11:40,  1.04s/it]"
     ]
    },
    {
     "name": "stdout",
     "output_type": "stream",
     "text": [
      "\n",
      "Saved Model\n"
     ]
    },
    {
     "name": "stderr",
     "output_type": "stream",
     "text": [
      "Loss: 0.5413:  25%|██▌       | 2501/10000 [38:07<2:09:08,  1.03s/it]"
     ]
    },
    {
     "name": "stdout",
     "output_type": "stream",
     "text": [
      "\n",
      "Saved Model\n"
     ]
    },
    {
     "name": "stderr",
     "output_type": "stream",
     "text": [
      "Loss: 0.7380:  26%|██▌       | 2601/10000 [39:35<1:47:02,  1.15it/s]"
     ]
    },
    {
     "name": "stdout",
     "output_type": "stream",
     "text": [
      "\n",
      "Saved Model\n"
     ]
    },
    {
     "name": "stderr",
     "output_type": "stream",
     "text": [
      "Loss: 2.2787:  27%|██▋       | 2701/10000 [41:08<1:56:51,  1.04it/s]"
     ]
    },
    {
     "name": "stdout",
     "output_type": "stream",
     "text": [
      "\n",
      "Saved Model\n"
     ]
    },
    {
     "name": "stderr",
     "output_type": "stream",
     "text": [
      "Loss: 0.5960:  28%|██▊       | 2801/10000 [42:40<1:54:45,  1.05it/s]"
     ]
    },
    {
     "name": "stdout",
     "output_type": "stream",
     "text": [
      "\n",
      "Saved Model\n"
     ]
    },
    {
     "name": "stderr",
     "output_type": "stream",
     "text": [
      "Loss: 0.7318:  29%|██▉       | 2901/10000 [44:09<1:55:22,  1.03it/s]"
     ]
    },
    {
     "name": "stdout",
     "output_type": "stream",
     "text": [
      "\n",
      "Saved Model\n"
     ]
    },
    {
     "name": "stderr",
     "output_type": "stream",
     "text": [
      "Loss: 2.8989:  30%|███       | 3001/10000 [45:43<1:47:22,  1.09it/s]"
     ]
    },
    {
     "name": "stdout",
     "output_type": "stream",
     "text": [
      "\n",
      "Saved Model\n"
     ]
    },
    {
     "name": "stderr",
     "output_type": "stream",
     "text": [
      "Loss: 2.4744:  31%|███       | 3101/10000 [47:12<1:57:51,  1.03s/it]"
     ]
    },
    {
     "name": "stdout",
     "output_type": "stream",
     "text": [
      "\n",
      "Saved Model\n"
     ]
    },
    {
     "name": "stderr",
     "output_type": "stream",
     "text": [
      "Loss: 0.9035:  32%|███▏      | 3201/10000 [48:43<1:55:41,  1.02s/it]"
     ]
    },
    {
     "name": "stdout",
     "output_type": "stream",
     "text": [
      "\n",
      "Saved Model\n"
     ]
    },
    {
     "name": "stderr",
     "output_type": "stream",
     "text": [
      "Loss: 0.7651:  33%|███▎      | 3301/10000 [50:15<1:38:48,  1.13it/s]"
     ]
    },
    {
     "name": "stdout",
     "output_type": "stream",
     "text": [
      "\n",
      "Saved Model\n"
     ]
    },
    {
     "name": "stderr",
     "output_type": "stream",
     "text": [
      "Loss: 0.5597:  34%|███▍      | 3401/10000 [51:45<1:33:03,  1.18it/s]"
     ]
    },
    {
     "name": "stdout",
     "output_type": "stream",
     "text": [
      "\n",
      "Saved Model\n"
     ]
    },
    {
     "name": "stderr",
     "output_type": "stream",
     "text": [
      "Loss: 0.5590:  35%|███▌      | 3501/10000 [53:18<1:30:40,  1.19it/s]"
     ]
    },
    {
     "name": "stdout",
     "output_type": "stream",
     "text": [
      "\n",
      "Saved Model\n"
     ]
    },
    {
     "name": "stderr",
     "output_type": "stream",
     "text": [
      "Loss: 1.2809:  36%|███▌      | 3601/10000 [54:49<1:25:32,  1.25it/s]"
     ]
    },
    {
     "name": "stdout",
     "output_type": "stream",
     "text": [
      "\n",
      "Saved Model\n"
     ]
    },
    {
     "name": "stderr",
     "output_type": "stream",
     "text": [
      "Loss: 0.5946:  37%|███▋      | 3701/10000 [56:15<1:25:50,  1.22it/s]"
     ]
    },
    {
     "name": "stdout",
     "output_type": "stream",
     "text": [
      "\n",
      "Saved Model\n"
     ]
    },
    {
     "name": "stderr",
     "output_type": "stream",
     "text": [
      "Loss: 0.7210:  38%|███▊      | 3801/10000 [57:46<1:25:57,  1.20it/s]"
     ]
    },
    {
     "name": "stdout",
     "output_type": "stream",
     "text": [
      "\n",
      "Saved Model\n"
     ]
    },
    {
     "name": "stderr",
     "output_type": "stream",
     "text": [
      "Loss: 0.6097:  39%|███▉      | 3901/10000 [59:17<1:31:37,  1.11it/s]"
     ]
    },
    {
     "name": "stdout",
     "output_type": "stream",
     "text": [
      "\n",
      "Saved Model\n"
     ]
    },
    {
     "name": "stderr",
     "output_type": "stream",
     "text": [
      "Loss: 0.7838:  40%|████      | 4001/10000 [1:00:47<1:17:23,  1.29it/s]"
     ]
    },
    {
     "name": "stdout",
     "output_type": "stream",
     "text": [
      "\n",
      "Saved Model\n"
     ]
    },
    {
     "name": "stderr",
     "output_type": "stream",
     "text": [
      "Loss: 1.0776:  41%|████      | 4101/10000 [1:02:16<1:27:25,  1.12it/s]"
     ]
    },
    {
     "name": "stdout",
     "output_type": "stream",
     "text": [
      "\n",
      "Saved Model\n"
     ]
    },
    {
     "name": "stderr",
     "output_type": "stream",
     "text": [
      "Loss: 1.0488:  42%|████▏     | 4201/10000 [1:03:47<1:23:10,  1.16it/s]"
     ]
    },
    {
     "name": "stdout",
     "output_type": "stream",
     "text": [
      "\n",
      "Saved Model\n"
     ]
    },
    {
     "name": "stderr",
     "output_type": "stream",
     "text": [
      "Loss: 0.6943:  43%|████▎     | 4301/10000 [1:05:16<1:35:33,  1.01s/it]"
     ]
    },
    {
     "name": "stdout",
     "output_type": "stream",
     "text": [
      "\n",
      "Saved Model\n"
     ]
    },
    {
     "name": "stderr",
     "output_type": "stream",
     "text": [
      "Loss: 0.6323:  44%|████▍     | 4401/10000 [1:06:49<1:23:17,  1.12it/s]"
     ]
    },
    {
     "name": "stdout",
     "output_type": "stream",
     "text": [
      "\n",
      "Saved Model\n"
     ]
    },
    {
     "name": "stderr",
     "output_type": "stream",
     "text": [
      "Loss: 0.7138:  45%|████▌     | 4501/10000 [1:08:18<1:34:34,  1.03s/it]"
     ]
    },
    {
     "name": "stdout",
     "output_type": "stream",
     "text": [
      "\n",
      "Saved Model\n"
     ]
    },
    {
     "name": "stderr",
     "output_type": "stream",
     "text": [
      "Loss: 1.3607:  46%|████▌     | 4601/10000 [1:09:46<1:09:23,  1.30it/s]"
     ]
    },
    {
     "name": "stdout",
     "output_type": "stream",
     "text": [
      "\n",
      "Saved Model\n"
     ]
    },
    {
     "name": "stderr",
     "output_type": "stream",
     "text": [
      "Loss: 1.2788:  47%|████▋     | 4701/10000 [1:11:16<1:25:04,  1.04it/s]"
     ]
    },
    {
     "name": "stdout",
     "output_type": "stream",
     "text": [
      "\n",
      "Saved Model\n"
     ]
    },
    {
     "name": "stderr",
     "output_type": "stream",
     "text": [
      "Loss: 0.7292:  48%|████▊     | 4801/10000 [1:12:47<1:19:25,  1.09it/s]"
     ]
    },
    {
     "name": "stdout",
     "output_type": "stream",
     "text": [
      "\n",
      "Saved Model\n"
     ]
    },
    {
     "name": "stderr",
     "output_type": "stream",
     "text": [
      "Loss: 0.6798:  49%|████▉     | 4901/10000 [1:14:16<1:25:57,  1.01s/it]"
     ]
    },
    {
     "name": "stdout",
     "output_type": "stream",
     "text": [
      "\n",
      "Saved Model\n"
     ]
    },
    {
     "name": "stderr",
     "output_type": "stream",
     "text": [
      "Loss: 0.6550:  50%|█████     | 5001/10000 [1:15:45<1:33:44,  1.13s/it]"
     ]
    },
    {
     "name": "stdout",
     "output_type": "stream",
     "text": [
      "\n",
      "Saved Model\n"
     ]
    },
    {
     "name": "stderr",
     "output_type": "stream",
     "text": [
      "Loss: 0.7064:  51%|█████     | 5101/10000 [1:17:13<1:23:23,  1.02s/it]"
     ]
    },
    {
     "name": "stdout",
     "output_type": "stream",
     "text": [
      "\n",
      "Saved Model\n"
     ]
    },
    {
     "name": "stderr",
     "output_type": "stream",
     "text": [
      "Loss: 1.2253:  52%|█████▏    | 5201/10000 [1:18:44<1:09:08,  1.16it/s]"
     ]
    },
    {
     "name": "stdout",
     "output_type": "stream",
     "text": [
      "\n",
      "Saved Model\n"
     ]
    },
    {
     "name": "stderr",
     "output_type": "stream",
     "text": [
      "Loss: 0.9010:  53%|█████▎    | 5301/10000 [1:20:13<1:07:01,  1.17it/s]"
     ]
    },
    {
     "name": "stdout",
     "output_type": "stream",
     "text": [
      "\n",
      "Saved Model\n"
     ]
    },
    {
     "name": "stderr",
     "output_type": "stream",
     "text": [
      "Loss: 0.5731:  54%|█████▍    | 5401/10000 [1:21:45<1:19:02,  1.03s/it]"
     ]
    },
    {
     "name": "stdout",
     "output_type": "stream",
     "text": [
      "\n",
      "Saved Model\n"
     ]
    },
    {
     "name": "stderr",
     "output_type": "stream",
     "text": [
      "Loss: 0.8846:  55%|█████▌    | 5501/10000 [1:23:14<1:16:28,  1.02s/it]"
     ]
    },
    {
     "name": "stdout",
     "output_type": "stream",
     "text": [
      "\n",
      "Saved Model\n"
     ]
    },
    {
     "name": "stderr",
     "output_type": "stream",
     "text": [
      "Loss: 0.7041:  56%|█████▌    | 5601/10000 [1:24:46<1:19:56,  1.09s/it]"
     ]
    },
    {
     "name": "stdout",
     "output_type": "stream",
     "text": [
      "\n",
      "Saved Model\n"
     ]
    },
    {
     "name": "stderr",
     "output_type": "stream",
     "text": [
      "Loss: 5.7265:  57%|█████▋    | 5701/10000 [1:26:18<1:17:45,  1.09s/it]"
     ]
    },
    {
     "name": "stdout",
     "output_type": "stream",
     "text": [
      "\n",
      "Saved Model\n"
     ]
    },
    {
     "name": "stderr",
     "output_type": "stream",
     "text": [
      "Loss: 1.1278:  58%|█████▊    | 5801/10000 [1:27:47<49:48,  1.40it/s]"
     ]
    },
    {
     "name": "stdout",
     "output_type": "stream",
     "text": [
      "\n",
      "Saved Model\n"
     ]
    },
    {
     "name": "stderr",
     "output_type": "stream",
     "text": [
      "Loss: 0.6132:  59%|█████▉    | 5901/10000 [1:29:17<1:04:46,  1.05it/s]"
     ]
    },
    {
     "name": "stdout",
     "output_type": "stream",
     "text": [
      "\n",
      "Saved Model\n"
     ]
    },
    {
     "name": "stderr",
     "output_type": "stream",
     "text": [
      "Loss: 0.8232:  60%|██████    | 6001/10000 [1:30:48<1:05:37,  1.02it/s]"
     ]
    },
    {
     "name": "stdout",
     "output_type": "stream",
     "text": [
      "\n",
      "Saved Model\n"
     ]
    },
    {
     "name": "stderr",
     "output_type": "stream",
     "text": [
      "Loss: 2.5898:  61%|██████    | 6101/10000 [1:32:16<1:03:36,  1.02it/s]"
     ]
    },
    {
     "name": "stdout",
     "output_type": "stream",
     "text": [
      "\n",
      "Saved Model\n"
     ]
    },
    {
     "name": "stderr",
     "output_type": "stream",
     "text": [
      "Loss: 0.7578:  62%|██████▏   | 6201/10000 [1:33:48<55:02,  1.15it/s]"
     ]
    },
    {
     "name": "stdout",
     "output_type": "stream",
     "text": [
      "\n",
      "Saved Model\n"
     ]
    },
    {
     "name": "stderr",
     "output_type": "stream",
     "text": [
      "Loss: 1.1521:  63%|██████▎   | 6301/10000 [1:35:20<1:07:38,  1.10s/it]"
     ]
    },
    {
     "name": "stdout",
     "output_type": "stream",
     "text": [
      "\n",
      "Saved Model\n"
     ]
    },
    {
     "name": "stderr",
     "output_type": "stream",
     "text": [
      "Loss: 0.8892:  64%|██████▍   | 6401/10000 [1:36:50<54:53,  1.09it/s]"
     ]
    },
    {
     "name": "stdout",
     "output_type": "stream",
     "text": [
      "\n",
      "Saved Model\n"
     ]
    },
    {
     "name": "stderr",
     "output_type": "stream",
     "text": [
      "Loss: 2.2623:  65%|██████▌   | 6501/10000 [1:38:21<58:18,  1.00it/s]"
     ]
    },
    {
     "name": "stdout",
     "output_type": "stream",
     "text": [
      "\n",
      "Saved Model\n"
     ]
    },
    {
     "name": "stderr",
     "output_type": "stream",
     "text": [
      "Loss: 0.6194:  66%|██████▌   | 6601/10000 [1:39:56<56:43,  1.00s/it]  "
     ]
    },
    {
     "name": "stdout",
     "output_type": "stream",
     "text": [
      "\n",
      "Saved Model\n"
     ]
    },
    {
     "name": "stderr",
     "output_type": "stream",
     "text": [
      "Loss: 0.6884:  67%|██████▋   | 6701/10000 [1:41:28<48:38,  1.13it/s]"
     ]
    },
    {
     "name": "stdout",
     "output_type": "stream",
     "text": [
      "\n",
      "Saved Model\n"
     ]
    },
    {
     "name": "stderr",
     "output_type": "stream",
     "text": [
      "Loss: 0.6825:  68%|██████▊   | 6801/10000 [1:42:59<44:57,  1.19it/s]"
     ]
    },
    {
     "name": "stdout",
     "output_type": "stream",
     "text": [
      "\n",
      "Saved Model\n"
     ]
    },
    {
     "name": "stderr",
     "output_type": "stream",
     "text": [
      "Loss: 2.7184:  69%|██████▉   | 6901/10000 [1:44:29<43:04,  1.20it/s]"
     ]
    },
    {
     "name": "stdout",
     "output_type": "stream",
     "text": [
      "\n",
      "Saved Model\n"
     ]
    },
    {
     "name": "stderr",
     "output_type": "stream",
     "text": [
      "Loss: 0.7195:  70%|███████   | 7001/10000 [1:45:59<40:11,  1.24it/s]"
     ]
    },
    {
     "name": "stdout",
     "output_type": "stream",
     "text": [
      "\n",
      "Saved Model\n"
     ]
    },
    {
     "name": "stderr",
     "output_type": "stream",
     "text": [
      "Loss: 2.1470:  71%|███████   | 7101/10000 [1:47:31<45:16,  1.07it/s]"
     ]
    },
    {
     "name": "stdout",
     "output_type": "stream",
     "text": [
      "\n",
      "Saved Model\n"
     ]
    },
    {
     "name": "stderr",
     "output_type": "stream",
     "text": [
      "Loss: 0.7246:  72%|███████▏  | 7201/10000 [1:49:04<39:54,  1.17it/s]"
     ]
    },
    {
     "name": "stdout",
     "output_type": "stream",
     "text": [
      "\n",
      "Saved Model\n"
     ]
    },
    {
     "name": "stderr",
     "output_type": "stream",
     "text": [
      "Loss: 0.7800:  73%|███████▎  | 7301/10000 [1:50:35<41:09,  1.09it/s]"
     ]
    },
    {
     "name": "stdout",
     "output_type": "stream",
     "text": [
      "\n",
      "Saved Model\n"
     ]
    },
    {
     "name": "stderr",
     "output_type": "stream",
     "text": [
      "Loss: 2.7129:  74%|███████▍  | 7401/10000 [1:52:05<39:45,  1.09it/s]"
     ]
    },
    {
     "name": "stdout",
     "output_type": "stream",
     "text": [
      "\n",
      "Saved Model\n"
     ]
    },
    {
     "name": "stderr",
     "output_type": "stream",
     "text": [
      "Loss: 1.1188:  75%|███████▌  | 7501/10000 [1:53:37<41:42,  1.00s/it]"
     ]
    },
    {
     "name": "stdout",
     "output_type": "stream",
     "text": [
      "\n",
      "Saved Model\n"
     ]
    },
    {
     "name": "stderr",
     "output_type": "stream",
     "text": [
      "Loss: 1.4031:  76%|███████▌  | 7601/10000 [1:55:08<35:43,  1.12it/s]"
     ]
    },
    {
     "name": "stdout",
     "output_type": "stream",
     "text": [
      "\n",
      "Saved Model\n"
     ]
    },
    {
     "name": "stderr",
     "output_type": "stream",
     "text": [
      "Loss: 0.5504:  77%|███████▋  | 7701/10000 [1:56:39<32:18,  1.19it/s]"
     ]
    },
    {
     "name": "stdout",
     "output_type": "stream",
     "text": [
      "\n",
      "Saved Model\n"
     ]
    },
    {
     "name": "stderr",
     "output_type": "stream",
     "text": [
      "Loss: 0.5732:  78%|███████▊  | 7801/10000 [1:58:10<31:49,  1.15it/s]"
     ]
    },
    {
     "name": "stdout",
     "output_type": "stream",
     "text": [
      "\n",
      "Saved Model\n"
     ]
    },
    {
     "name": "stderr",
     "output_type": "stream",
     "text": [
      "Loss: 1.3473:  79%|███████▉  | 7901/10000 [1:59:43<36:27,  1.04s/it]"
     ]
    },
    {
     "name": "stdout",
     "output_type": "stream",
     "text": [
      "\n",
      "Saved Model\n"
     ]
    },
    {
     "name": "stderr",
     "output_type": "stream",
     "text": [
      "Loss: 10.3791:  80%|████████  | 8001/10000 [2:01:13<30:43,  1.08it/s]"
     ]
    },
    {
     "name": "stdout",
     "output_type": "stream",
     "text": [
      "\n",
      "Saved Model\n"
     ]
    },
    {
     "name": "stderr",
     "output_type": "stream",
     "text": [
      "Loss: 2.9449:  81%|████████  | 8101/10000 [2:02:43<27:22,  1.16it/s]"
     ]
    },
    {
     "name": "stdout",
     "output_type": "stream",
     "text": [
      "\n",
      "Saved Model\n"
     ]
    },
    {
     "name": "stderr",
     "output_type": "stream",
     "text": [
      "Loss: 0.6112:  82%|████████▏ | 8201/10000 [2:04:14<28:04,  1.07it/s]"
     ]
    },
    {
     "name": "stdout",
     "output_type": "stream",
     "text": [
      "\n",
      "Saved Model\n"
     ]
    },
    {
     "name": "stderr",
     "output_type": "stream",
     "text": [
      "Loss: 1.2212:  83%|████████▎ | 8301/10000 [2:05:44<23:52,  1.19it/s]"
     ]
    },
    {
     "name": "stdout",
     "output_type": "stream",
     "text": [
      "\n",
      "Saved Model\n"
     ]
    },
    {
     "name": "stderr",
     "output_type": "stream",
     "text": [
      "Loss: 1.2318:  84%|████████▍ | 8401/10000 [2:07:15<26:07,  1.02it/s]"
     ]
    },
    {
     "name": "stdout",
     "output_type": "stream",
     "text": [
      "\n",
      "Saved Model\n"
     ]
    },
    {
     "name": "stderr",
     "output_type": "stream",
     "text": [
      "Loss: 2.6495:  85%|████████▌ | 8501/10000 [2:08:43<20:30,  1.22it/s]"
     ]
    },
    {
     "name": "stdout",
     "output_type": "stream",
     "text": [
      "\n",
      "Saved Model\n"
     ]
    },
    {
     "name": "stderr",
     "output_type": "stream",
     "text": [
      "Loss: 1.0485:  86%|████████▌ | 8601/10000 [2:10:13<23:01,  1.01it/s]"
     ]
    },
    {
     "name": "stdout",
     "output_type": "stream",
     "text": [
      "\n",
      "Saved Model\n"
     ]
    },
    {
     "name": "stderr",
     "output_type": "stream",
     "text": [
      "Loss: 0.5985:  87%|████████▋ | 8701/10000 [2:11:44<18:29,  1.17it/s]"
     ]
    },
    {
     "name": "stdout",
     "output_type": "stream",
     "text": [
      "\n",
      "Saved Model\n"
     ]
    },
    {
     "name": "stderr",
     "output_type": "stream",
     "text": [
      "Loss: 1.0597:  88%|████████▊ | 8801/10000 [2:13:12<19:02,  1.05it/s]"
     ]
    },
    {
     "name": "stdout",
     "output_type": "stream",
     "text": [
      "\n",
      "Saved Model\n"
     ]
    },
    {
     "name": "stderr",
     "output_type": "stream",
     "text": [
      "Loss: 0.5983:  89%|████████▉ | 8901/10000 [2:14:47<15:38,  1.17it/s]"
     ]
    },
    {
     "name": "stdout",
     "output_type": "stream",
     "text": [
      "\n",
      "Saved Model\n"
     ]
    },
    {
     "name": "stderr",
     "output_type": "stream",
     "text": [
      "Loss: 1.1701:  90%|█████████ | 9001/10000 [2:16:18<14:14,  1.17it/s]"
     ]
    },
    {
     "name": "stdout",
     "output_type": "stream",
     "text": [
      "\n",
      "Saved Model\n"
     ]
    },
    {
     "name": "stderr",
     "output_type": "stream",
     "text": [
      "Loss: 2.3157:  91%|█████████ | 9101/10000 [2:17:51<15:32,  1.04s/it]"
     ]
    },
    {
     "name": "stdout",
     "output_type": "stream",
     "text": [
      "\n",
      "Saved Model\n"
     ]
    },
    {
     "name": "stderr",
     "output_type": "stream",
     "text": [
      "Loss: 1.3100:  92%|█████████▏| 9201/10000 [2:19:24<13:02,  1.02it/s]"
     ]
    },
    {
     "name": "stdout",
     "output_type": "stream",
     "text": [
      "\n",
      "Saved Model\n"
     ]
    },
    {
     "name": "stderr",
     "output_type": "stream",
     "text": [
      "Loss: 2.8601:  93%|█████████▎| 9301/10000 [2:20:55<11:26,  1.02it/s]"
     ]
    },
    {
     "name": "stdout",
     "output_type": "stream",
     "text": [
      "\n",
      "Saved Model\n"
     ]
    },
    {
     "name": "stderr",
     "output_type": "stream",
     "text": [
      "Loss: 1.0815:  94%|█████████▍| 9401/10000 [2:22:25<07:38,  1.31it/s]"
     ]
    },
    {
     "name": "stdout",
     "output_type": "stream",
     "text": [
      "\n",
      "Saved Model\n"
     ]
    },
    {
     "name": "stderr",
     "output_type": "stream",
     "text": [
      "Loss: 0.6583:  95%|█████████▌| 9501/10000 [2:23:55<09:11,  1.10s/it]"
     ]
    },
    {
     "name": "stdout",
     "output_type": "stream",
     "text": [
      "\n",
      "Saved Model\n"
     ]
    },
    {
     "name": "stderr",
     "output_type": "stream",
     "text": [
      "Loss: 0.5963:  96%|█████████▌| 9601/10000 [2:25:28<06:24,  1.04it/s]"
     ]
    },
    {
     "name": "stdout",
     "output_type": "stream",
     "text": [
      "\n",
      "Saved Model\n"
     ]
    },
    {
     "name": "stderr",
     "output_type": "stream",
     "text": [
      "Loss: 0.6126:  97%|█████████▋| 9701/10000 [2:27:01<04:15,  1.17it/s]"
     ]
    },
    {
     "name": "stdout",
     "output_type": "stream",
     "text": [
      "\n",
      "Saved Model\n"
     ]
    },
    {
     "name": "stderr",
     "output_type": "stream",
     "text": [
      "Loss: 0.6234:  98%|█████████▊| 9801/10000 [2:28:33<02:47,  1.19it/s]"
     ]
    },
    {
     "name": "stdout",
     "output_type": "stream",
     "text": [
      "\n",
      "Saved Model\n"
     ]
    },
    {
     "name": "stderr",
     "output_type": "stream",
     "text": [
      "Loss: 2.3190:  99%|█████████▉| 9901/10000 [2:30:05<01:20,  1.23it/s]"
     ]
    },
    {
     "name": "stdout",
     "output_type": "stream",
     "text": [
      "\n",
      "Saved Model\n"
     ]
    },
    {
     "name": "stderr",
     "output_type": "stream",
     "text": [
      "Loss: 1.0452: 100%|██████████| 10000/10000 [2:31:39<00:00,  1.10it/s]\n"
     ]
    }
   ],
   "source": [
    "\n",
    "input_database = \"../input/35-million-chess-games/all_with_filtered_anotations_since1998.txt\"\n",
    "output_model = \"./ChessEngine.pth\"\n",
    "# line cache warmup\n",
    "linecache.getline(input_database, 0) \n",
    "\n",
    "def encode_move (move:chess.Move):\n",
    "    char_to_num = {\n",
    "        \"a\":0,\n",
    "        \"b\":1,\n",
    "        \"c\":2,\n",
    "        \"d\":3,\n",
    "        \"e\":4,\n",
    "        \"f\":5,\n",
    "        \"g\":6,\n",
    "        \"h\":7,\n",
    "    }\n",
    "\n",
    "    uci_str = move.uci()\n",
    "    first_num = char_to_num[uci_str[0]]\n",
    "    second_num = int(uci_str[1])-1\n",
    "    third_num = char_to_num[uci_str[2]]\n",
    "    fourth_num = int(uci_str[3])-1\n",
    "    \n",
    "    return torch.concat((\n",
    "        F.one_hot(torch.tensor([first_num]), num_classes=8),\n",
    "        F.one_hot(torch.tensor([second_num]), num_classes=8),\n",
    "        F.one_hot(torch.tensor([third_num]), num_classes=8),\n",
    "        F.one_hot(torch.tensor([fourth_num]), num_classes=8),\n",
    "    ), dim=1).to(torch.float)\n",
    "\n",
    "def decode_move (x:torch.tensor):\n",
    "    num_to_char = {\n",
    "        0:\"a\",\n",
    "        1:\"b\",\n",
    "        2:\"c\",\n",
    "        3:\"d\",\n",
    "        4:\"e\",\n",
    "        5:\"f\",\n",
    "        6:\"g\",\n",
    "        7:\"h\",\n",
    "    }\n",
    "    x = x.view(-1, 8)\n",
    "    x = torch.argmax(x, dim=1).cpu().tolist()\n",
    "    first_char = num_to_char[x[0]] \n",
    "    second_char = str(x[1]+1) \n",
    "    third_char = num_to_char[x[2]] \n",
    "    fourth_char = str(x[3]+1) \n",
    "    return chess.Move.from_uci(first_char+second_char+third_char+fourth_char)\n",
    "\n",
    "def encode_board (board):\n",
    "    x = 0\n",
    "    y = 0\n",
    "    return_tensor = torch.zeros(1,13,8,8)\n",
    "    for char in board.__str__():\n",
    "        if char == \" \": continue\n",
    "        if char == \"r\":   return_tensor[0][0][x][y] = 1\n",
    "        elif char == \"n\": return_tensor[0][1][x][y] = 1\n",
    "        elif char == \"b\": return_tensor[0][2][x][y] = 1\n",
    "        elif char == \"q\": return_tensor[0][3][x][y] = 1\n",
    "        elif char == \"k\": return_tensor[0][4][x][y] = 1\n",
    "        elif char == \"k\": return_tensor[0][5][x][y] = 1\n",
    "        elif char == \"P\": return_tensor[0][6][x][y] = 1\n",
    "        elif char == \"R\": return_tensor[0][7][x][y] = 1\n",
    "        elif char == \"N\": return_tensor[0][8][x][y] = 1\n",
    "        elif char == \"B\": return_tensor[0][9][x][y] = 1\n",
    "        elif char == \"Q\": return_tensor[0][10][x][y] = 1\n",
    "        elif char == \"K\": return_tensor[0][11][x][y] = 1\n",
    "        if char == \"p\":   return_tensor[0][12][x][y] = 1\n",
    "\n",
    "        x += 1\n",
    "        if char == \"\\n\": \n",
    "            y += 1\n",
    "            x = 0\n",
    "    return return_tensor\n",
    "\n",
    "class ChessClassificationDatabase(torch.utils.data.Dataset):\n",
    "    def __init__(self, num_games):\n",
    "        assert num_games > 0\n",
    "        self.x = torch.tensor([]) \n",
    "        self.y = torch.tensor([])\n",
    "        self.possible_moves = []\n",
    "\n",
    "        len_lines = 3561469\n",
    "        for i in range(num_games):\n",
    "            try:\n",
    "                line = linecache.getline(input_database, randint(0, len_lines)+6) \n",
    "                board = chess.Board()\n",
    "\n",
    "                line = line.split(\"###\")[1].strip()\n",
    "                moves = line.split(\" \")\n",
    "\n",
    "                for move in moves:\n",
    "                    move = move.split(\".\")[1]\n",
    "                    tensor_board = encode_board(board)\n",
    "                    actual_move = board.parse_san(move)\n",
    "                    possible_move = torch.tensor([])\n",
    "\n",
    "                    # Encode possible moves\n",
    "                    legal_moves = board.legal_moves\n",
    "                    for move in legal_moves:\n",
    "                        move_enc = encode_move(move)\n",
    "                        if possible_move.size(0) == 0: possible_move = move_enc\n",
    "                        else: possible_move = torch.concat((possible_move, move_enc), dim=0)\n",
    "\n",
    "                    # Append to variables\n",
    "                    self.possible_moves.append(possible_move)\n",
    "                    y_enc = list(legal_moves).index(actual_move)\n",
    "                    y_enc = torch.tensor([[y_enc]])\n",
    "                    if self.x.size(0) == 0:\n",
    "                        self.x = tensor_board\n",
    "                        self.y = y_enc \n",
    "                    else:\n",
    "                        self.x = torch.vstack((self.x, tensor_board))\n",
    "                        self.y = torch.vstack((self.y, y_enc))\n",
    "\n",
    "                    board.push(actual_move)\n",
    "            except:\n",
    "                continue\n",
    "        self.x = self.x.to(device)\n",
    "        self.y = self.y.to(device)\n",
    "\n",
    "    def __len__(self):\n",
    "        return self.x.size(0)\n",
    "\n",
    "    def __getitem__(self, index):\n",
    "        return self.x[index].detach(), self.y[index].detach(), self.possible_moves[index].to(device).detach()\n",
    "\n",
    "class PolicyNeuralNetwork (nn.Module):\n",
    "    def __init__(self) -> None:\n",
    "        super().__init__()\n",
    "        self.neuralNet = nn.Sequential(\n",
    "            nn.Conv2d(13, 16, 3),\n",
    "            nn.ReLU(),\n",
    "            nn.Conv2d(16, 16, 3),\n",
    "            nn.ReLU(),\n",
    "            nn.Flatten(),\n",
    "            nn.LazyLinear(128),\n",
    "            nn.Tanh(),\n",
    "            nn.LazyLinear(64),\n",
    "        )\n",
    "\n",
    "        d_model = 16\n",
    "\n",
    "        weight_model = nn.Sequential(\n",
    "            nn.Linear(65, 16),\n",
    "            nn.Tanh(),\n",
    "            nn.Linear(16, 1),\n",
    "        ) \n",
    "\n",
    "        bias_model = nn.Sequential(\n",
    "            nn.Linear(49, 12),\n",
    "            nn.Tanh(),\n",
    "            nn.Linear(12, 1),\n",
    "        )\n",
    "\n",
    "        self.model = VNNBlock(d_model, weight_model, bias_model)\n",
    "\n",
    "    def forward (self, x, possible_moves):\n",
    "        x = self.neuralNet(x)\n",
    "        return self.model(x, possible_moves.size(1), possible_moves)\n",
    "\n",
    "if __name__ == \"__main__\":\n",
    "    # Optimizer and training parameters\n",
    "    batch_size = 16\n",
    "    validation_size = 64\n",
    "    num_games_per_itr = 4\n",
    "    lr = 0.001\n",
    "    itr = 10_000\n",
    "\n",
    "    criterion = nn.CrossEntropyLoss()\n",
    "    model = PolicyNeuralNetwork().to(device)\n",
    "    opt = torch.optim.Adam(model.parameters(), lr=lr)\n",
    "\n",
    "    # Training Loop\n",
    "    progress_bar = trange(itr)\n",
    "    itr = 0\n",
    "    mag = 1\n",
    "    for i in progress_bar:\n",
    "        # Get data\n",
    "        dataset = ChessClassificationDatabase(num_games=num_games_per_itr),\n",
    "\n",
    "        # Train on that data\n",
    "        opt.zero_grad()\n",
    "        losses = torch.tensor([])\n",
    "        for data in dataset:\n",
    "            x = data[0][0].unsqueeze(0)\n",
    "            y = data[0][1]\n",
    "            possible_moves = data[0][2].unsqueeze(0)\n",
    "            out = model(x, possible_moves) \n",
    "            data_loss = criterion(out, y)\n",
    "            data_loss = data_loss.unsqueeze(0)\n",
    "            if losses.size(0) == 0: losses = data_loss\n",
    "            else: losses = torch.concat((losses, data_loss), 0)\n",
    "        loss = torch.mean(losses)\n",
    "        loss.backward()\n",
    "        opt.step()\n",
    "\n",
    "        if i % 100 == 0 and i != 0:  \n",
    "            # Save Model\n",
    "            torch.save(model, output_model)\n",
    "            print(\"\\nSaved Model\")\n",
    "            \n",
    "        progress_bar.set_description(f\"Loss: {loss.item():.4f}\")"
   ]
  }
 ],
 "metadata": {
  "kernelspec": {
   "display_name": "Python 3.10.7 64-bit (microsoft store)",
   "language": "python",
   "name": "python3"
  },
  "language_info": {
   "codemirror_mode": {
    "name": "ipython",
    "version": 3
   },
   "file_extension": ".py",
   "mimetype": "text/x-python",
   "name": "python",
   "nbconvert_exporter": "python",
   "pygments_lexer": "ipython3",
   "version": "3.10.7"
  },
  "papermill": {
   "default_parameters": {},
   "duration": 9167.910013,
   "end_time": "2022-10-13T14:43:59.379699",
   "environment_variables": {},
   "exception": null,
   "input_path": "__notebook__.ipynb",
   "output_path": "__notebook__.ipynb",
   "parameters": {},
   "start_time": "2022-10-13T12:11:11.469686",
   "version": "2.3.4"
  },
  "vscode": {
   "interpreter": {
    "hash": "639d95488edfdc55ddccb2f409d15bacc5e558fc037d9d032accd1031f2e88a9"
   }
  }
 },
 "nbformat": 4,
 "nbformat_minor": 5
}
