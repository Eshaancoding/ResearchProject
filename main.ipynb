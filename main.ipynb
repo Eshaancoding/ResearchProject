{
 "cells": [
  {
   "cell_type": "code",
   "execution_count": 1,
   "metadata": {},
   "outputs": [
    {
     "name": "stderr",
     "output_type": "stream",
     "text": [
      "Reusing dataset mnist (C:\\Users\\eshaa\\.cache\\huggingface\\datasets\\mnist\\mnist\\1.0.0\\fda16c03c4ecfb13f165ba7e29cf38129ce035011519968cdaf74894ce91c9d4)\n"
     ]
    },
    {
     "data": {
      "application/json": {
       "ascii": false,
       "bar_format": null,
       "colour": null,
       "elapsed": 0.02003645896911621,
       "initial": 0,
       "n": 0,
       "ncols": null,
       "nrows": null,
       "postfix": null,
       "prefix": "",
       "rate": null,
       "total": 2,
       "unit": "it",
       "unit_divisor": 1000,
       "unit_scale": false
      },
      "application/vnd.jupyter.widget-view+json": {
       "model_id": "bc20610778aa430ab5e3625a71c155ac",
       "version_major": 2,
       "version_minor": 0
      },
      "text/plain": [
       "  0%|          | 0/2 [00:00<?, ?it/s]"
      ]
     },
     "metadata": {},
     "output_type": "display_data"
    }
   ],
   "source": [
    "import torch\n",
    "from datasets import load_dataset\n",
    "\n",
    "dataset = load_dataset(\"mnist\")"
   ]
  },
  {
   "cell_type": "code",
   "execution_count": 2,
   "metadata": {},
   "outputs": [
    {
     "data": {
      "text/plain": [
       "(Dataset({\n",
       "     features: ['image', 'label'],\n",
       "     num_rows: 60000\n",
       " }),\n",
       " Dataset({\n",
       "     features: ['image', 'label'],\n",
       "     num_rows: 10000\n",
       " }))"
      ]
     },
     "execution_count": 2,
     "metadata": {},
     "output_type": "execute_result"
    }
   ],
   "source": [
    "device = \"cuda\" if torch.cuda.is_available() else \"cpu\"\n",
    "dataset['train'], dataset['test']"
   ]
  },
  {
   "cell_type": "markdown",
   "metadata": {},
   "source": [
    "## Transform MNIST Dataset into variable sized images :D"
   ]
  },
  {
   "cell_type": "code",
   "execution_count": 3,
   "metadata": {},
   "outputs": [
    {
     "name": "stderr",
     "output_type": "stream",
     "text": [
      "Resizing x_train dataset: 100%|██████████| 60000/60000 [00:22<00:00, 2651.18it/s]\n",
      "Resizing x_test dataset: 100%|██████████| 10000/10000 [00:03<00:00, 2742.76it/s]"
     ]
    },
    {
     "name": "stdout",
     "output_type": "stream",
     "text": [
      "x_train shape: torch.Size([784]) orig_x_train shape: torch.Size([1, 28, 28])\n"
     ]
    },
    {
     "name": "stderr",
     "output_type": "stream",
     "text": [
      "\n"
     ]
    }
   ],
   "source": [
    "from PIL import Image\n",
    "from tqdm import tqdm\n",
    "import numpy as np\n",
    "\n",
    "orig_x_train = []\n",
    "orig_y_train = []\n",
    "\n",
    "x_train = []\n",
    "y_train = []\n",
    "\n",
    "for value in tqdm(dataset['train'], desc=\"Resizing x_train dataset\"):\n",
    "    moreUpscaleImage = value['image'].resize((64, 64), resample=Image.BOX)\n",
    "    upscaleImage = value['image'].resize((48, 48), resample=Image.BOX)\n",
    "    regularImage = value['image']\n",
    "\n",
    "    moreUpscaleImage = torch.from_numpy(np.uint8(moreUpscaleImage)).to(torch.float)\n",
    "    upscaleImage = torch.from_numpy(np.uint8(upscaleImage)).to(torch.float)\n",
    "    regularImage = torch.from_numpy(np.uint8(regularImage)).to(torch.float)\n",
    "\n",
    "    x_train.extend([regularImage.flatten(), upscaleImage.flatten(), moreUpscaleImage.flatten()]) \n",
    "    y_train.extend([value['label'], value['label'], value['label']])\n",
    "\n",
    "    orig_x_train.append(regularImage.unsqueeze(0))\n",
    "    orig_y_train.append(value['label'])\n",
    "\n",
    "orig_x_test = []\n",
    "orig_y_test = []\n",
    "\n",
    "x_test = []\n",
    "y_test = []\n",
    "\n",
    "for value in tqdm(dataset['test'], desc=\"Resizing x_test dataset\"):\n",
    "    moreUpscaleImage = value['image'].resize((64, 64), resample=Image.BOX)\n",
    "    upscaleImage = value['image'].resize((48, 48), resample=Image.BOX)\n",
    "    regularImage = value['image']\n",
    "\n",
    "    moreUpscaleImage = torch.from_numpy(np.uint8(moreUpscaleImage)).to(torch.float)\n",
    "    upscaleImage = torch.from_numpy(np.uint8(upscaleImage)).to(torch.float)\n",
    "    regularImage = torch.from_numpy(np.uint8(regularImage)).to(torch.float)\n",
    "\n",
    "    x_test.extend([regularImage.flatten(), upscaleImage.flatten(), moreUpscaleImage.flatten()]) \n",
    "    y_test.extend([value['label'], value['label'], value['label']])\n",
    "\n",
    "    orig_x_test.append(regularImage.unsqueeze(0))\n",
    "    orig_y_test.append(value['label'])\n",
    "\n",
    "print(f\"x_train shape: {x_train[0].shape} orig_x_train shape: {orig_x_train[0].shape}\")"
   ]
  },
  {
   "cell_type": "markdown",
   "metadata": {},
   "source": [
    "## Declaring Positional Encoding (used for VNN)"
   ]
  },
  {
   "cell_type": "code",
   "execution_count": 17,
   "metadata": {},
   "outputs": [],
   "source": [
    "from copy import deepcopy\n",
    "import torch\n",
    "from torch import nn\n",
    "from torch import Tensor\n",
    "import math\n",
    "\n",
    "class PositionalEncoding(nn.Module):\n",
    "\n",
    "    def __init__(self, d_model: int, dropout: float = 0.1, max_len: int = 5000):\n",
    "        super().__init__()\n",
    "        self.dropout = nn.Dropout(p=dropout)\n",
    "\n",
    "        position = torch.arange(max_len).unsqueeze(1)\n",
    "        div_term = torch.exp(torch.arange(0, d_model, 2) * (-math.log(10000.0) / d_model))\n",
    "        pe = torch.zeros(max_len, 1, d_model)\n",
    "        pe[:, 0, 0::2] = torch.sin(position * div_term)\n",
    "        pe[:, 0, 1::2] = torch.cos(position * div_term)\n",
    "        self.register_buffer('pe', pe)\n",
    "\n",
    "    def forward(self, x: Tensor) -> Tensor:\n",
    "        \"\"\"\n",
    "        Args:\n",
    "            x: Tensor, shape [seq_len, batch_size, embedding_dim]\n",
    "        \"\"\"\n",
    "        return self.pe[x]\n",
    "\n",
    "class VNN (nn.Module):\n",
    "    def __init__(self, dense_nn, weight_nn, bias_nn) -> None:\n",
    "        super().__init__()\n",
    "        self.d_model = (weight_nn[0].in_features-1)//2\n",
    "        self.first_input = dense_nn[0].in_features\n",
    "\n",
    "        self.dense_nn = dense_nn\n",
    "        self.weight_nn = weight_nn \n",
    "        self.bias_nn = bias_nn \n",
    "        self.pos_enc = PositionalEncoding(self.d_model, dropout=0.1, max_len=5000)\n",
    "\n",
    "    def generate_weight_vector (self, x, output_size):\n",
    "        input_size = x.size(0)\n",
    "\n",
    "        #* Weight Generation\n",
    "\n",
    "        # Generate the weight vector\n",
    "        argument_one = torch.arange(input_size).unsqueeze(1)\n",
    "        \n",
    "        argument_two = torch.arange(output_size)\n",
    "        bias_argument = deepcopy(argument_two) \n",
    "        # Generate the repeat\n",
    "        argument_one = argument_one.repeat(1, output_size).flatten()\n",
    "        argument_two = argument_two.repeat(input_size)\n",
    "\n",
    "        x_concat = x[argument_one].unsqueeze(1)\n",
    "    \n",
    "        # Positional Encoding + Concat\n",
    "        argument_one = self.pos_enc(argument_one)\n",
    "        argument_two = self.pos_enc(argument_two)\n",
    "        bias_argument = self.pos_enc(bias_argument) \n",
    "        argument = torch.concat((argument_one, argument_two, x_concat), dim=1)\n",
    "\n",
    "        # Send through the weight neural network\n",
    "        weights = self.weight_nn(argument).view(input_size, output_size)\n",
    "\n",
    "        out = torch.matmul(x, weights).unsqueeze(1)\n",
    "\n",
    "        #* Bias Generation \n",
    "        argument = torch.concat((bias_argument, out), dim=1)\n",
    "        bias = self.bias_nn(argument)\n",
    "        out += bias\n",
    "\n",
    "        return out.squeeze(1)\n",
    "\n",
    "    def forward (self, x):\n",
    "        x = self.generate_weight_vector(x, self.first_input)\n",
    "        x = self.dense_nn(x)\n",
    "        return x"
   ]
  },
  {
   "cell_type": "markdown",
   "metadata": {},
   "source": [
    "## Control Initialization"
   ]
  },
  {
   "cell_type": "code",
   "execution_count": 16,
   "metadata": {},
   "outputs": [
    {
     "name": "stdout",
     "output_type": "stream",
     "text": [
      "torch.Size([1, 1, 28, 28])\n",
      "torch.Size([1, 1152])\n"
     ]
    },
    {
     "ename": "RuntimeError",
     "evalue": "CUDA error: device-side assert triggered\nCUDA kernel errors might be asynchronously reported at some other API call,so the stacktrace below might be incorrect.\nFor debugging consider passing CUDA_LAUNCH_BLOCKING=1.",
     "output_type": "error",
     "traceback": [
      "\u001b[1;31m---------------------------------------------------------------------------\u001b[0m",
      "\u001b[1;31mRuntimeError\u001b[0m                              Traceback (most recent call last)",
      "\u001b[1;32mc:\\Users\\eshaa\\OneDrive\\Desktop\\Coding\\ResearchProject\\main.ipynb Cell 8\u001b[0m in \u001b[0;36m<cell line: 97>\u001b[1;34m()\u001b[0m\n\u001b[0;32m     <a href='vscode-notebook-cell:/c%3A/Users/eshaa/OneDrive/Desktop/Coding/ResearchProject/main.ipynb#W6sZmlsZQ%3D%3D?line=94'>95</a>\u001b[0m inp \u001b[39m=\u001b[39m orig_x_train[index]\u001b[39m.\u001b[39munsqueeze(\u001b[39m0\u001b[39m)\n\u001b[0;32m     <a href='vscode-notebook-cell:/c%3A/Users/eshaa/OneDrive/Desktop/Coding/ResearchProject/main.ipynb#W6sZmlsZQ%3D%3D?line=95'>96</a>\u001b[0m \u001b[39mprint\u001b[39m(inp\u001b[39m.\u001b[39mshape)\n\u001b[1;32m---> <a href='vscode-notebook-cell:/c%3A/Users/eshaa/OneDrive/Desktop/Coding/ResearchProject/main.ipynb#W6sZmlsZQ%3D%3D?line=96'>97</a>\u001b[0m y \u001b[39m=\u001b[39m model(inp\u001b[39m.\u001b[39;49mto(device))\n\u001b[0;32m     <a href='vscode-notebook-cell:/c%3A/Users/eshaa/OneDrive/Desktop/Coding/ResearchProject/main.ipynb#W6sZmlsZQ%3D%3D?line=97'>98</a>\u001b[0m y\n",
      "File \u001b[1;32m~\\AppData\\Local\\Programs\\Python\\Python310\\lib\\site-packages\\torch\\nn\\modules\\module.py:1130\u001b[0m, in \u001b[0;36mModule._call_impl\u001b[1;34m(self, *input, **kwargs)\u001b[0m\n\u001b[0;32m   1126\u001b[0m \u001b[39m# If we don't have any hooks, we want to skip the rest of the logic in\u001b[39;00m\n\u001b[0;32m   1127\u001b[0m \u001b[39m# this function, and just call forward.\u001b[39;00m\n\u001b[0;32m   1128\u001b[0m \u001b[39mif\u001b[39;00m \u001b[39mnot\u001b[39;00m (\u001b[39mself\u001b[39m\u001b[39m.\u001b[39m_backward_hooks \u001b[39mor\u001b[39;00m \u001b[39mself\u001b[39m\u001b[39m.\u001b[39m_forward_hooks \u001b[39mor\u001b[39;00m \u001b[39mself\u001b[39m\u001b[39m.\u001b[39m_forward_pre_hooks \u001b[39mor\u001b[39;00m _global_backward_hooks\n\u001b[0;32m   1129\u001b[0m         \u001b[39mor\u001b[39;00m _global_forward_hooks \u001b[39mor\u001b[39;00m _global_forward_pre_hooks):\n\u001b[1;32m-> 1130\u001b[0m     \u001b[39mreturn\u001b[39;00m forward_call(\u001b[39m*\u001b[39m\u001b[39minput\u001b[39m, \u001b[39m*\u001b[39m\u001b[39m*\u001b[39mkwargs)\n\u001b[0;32m   1131\u001b[0m \u001b[39m# Do not call functions when jit is used\u001b[39;00m\n\u001b[0;32m   1132\u001b[0m full_backward_hooks, non_full_backward_hooks \u001b[39m=\u001b[39m [], []\n",
      "\u001b[1;32mc:\\Users\\eshaa\\OneDrive\\Desktop\\Coding\\ResearchProject\\main.ipynb Cell 8\u001b[0m in \u001b[0;36mModel.forward\u001b[1;34m(self, X)\u001b[0m\n\u001b[0;32m     <a href='vscode-notebook-cell:/c%3A/Users/eshaa/OneDrive/Desktop/Coding/ResearchProject/main.ipynb#W6sZmlsZQ%3D%3D?line=83'>84</a>\u001b[0m X \u001b[39m=\u001b[39m \u001b[39mself\u001b[39m\u001b[39m.\u001b[39mflatten(X)\n\u001b[0;32m     <a href='vscode-notebook-cell:/c%3A/Users/eshaa/OneDrive/Desktop/Coding/ResearchProject/main.ipynb#W6sZmlsZQ%3D%3D?line=84'>85</a>\u001b[0m \u001b[39mprint\u001b[39m(X\u001b[39m.\u001b[39mshape)\n\u001b[1;32m---> <a href='vscode-notebook-cell:/c%3A/Users/eshaa/OneDrive/Desktop/Coding/ResearchProject/main.ipynb#W6sZmlsZQ%3D%3D?line=85'>86</a>\u001b[0m X \u001b[39m=\u001b[39m \u001b[39mself\u001b[39;49m\u001b[39m.\u001b[39;49mlinear(X)\n\u001b[0;32m     <a href='vscode-notebook-cell:/c%3A/Users/eshaa/OneDrive/Desktop/Coding/ResearchProject/main.ipynb#W6sZmlsZQ%3D%3D?line=87'>88</a>\u001b[0m \u001b[39mreturn\u001b[39;00m X\n",
      "File \u001b[1;32m~\\AppData\\Local\\Programs\\Python\\Python310\\lib\\site-packages\\torch\\nn\\modules\\module.py:1130\u001b[0m, in \u001b[0;36mModule._call_impl\u001b[1;34m(self, *input, **kwargs)\u001b[0m\n\u001b[0;32m   1126\u001b[0m \u001b[39m# If we don't have any hooks, we want to skip the rest of the logic in\u001b[39;00m\n\u001b[0;32m   1127\u001b[0m \u001b[39m# this function, and just call forward.\u001b[39;00m\n\u001b[0;32m   1128\u001b[0m \u001b[39mif\u001b[39;00m \u001b[39mnot\u001b[39;00m (\u001b[39mself\u001b[39m\u001b[39m.\u001b[39m_backward_hooks \u001b[39mor\u001b[39;00m \u001b[39mself\u001b[39m\u001b[39m.\u001b[39m_forward_hooks \u001b[39mor\u001b[39;00m \u001b[39mself\u001b[39m\u001b[39m.\u001b[39m_forward_pre_hooks \u001b[39mor\u001b[39;00m _global_backward_hooks\n\u001b[0;32m   1129\u001b[0m         \u001b[39mor\u001b[39;00m _global_forward_hooks \u001b[39mor\u001b[39;00m _global_forward_pre_hooks):\n\u001b[1;32m-> 1130\u001b[0m     \u001b[39mreturn\u001b[39;00m forward_call(\u001b[39m*\u001b[39m\u001b[39minput\u001b[39m, \u001b[39m*\u001b[39m\u001b[39m*\u001b[39mkwargs)\n\u001b[0;32m   1131\u001b[0m \u001b[39m# Do not call functions when jit is used\u001b[39;00m\n\u001b[0;32m   1132\u001b[0m full_backward_hooks, non_full_backward_hooks \u001b[39m=\u001b[39m [], []\n",
      "\u001b[1;32mc:\\Users\\eshaa\\OneDrive\\Desktop\\Coding\\ResearchProject\\main.ipynb Cell 8\u001b[0m in \u001b[0;36mVNN.forward\u001b[1;34m(self, x)\u001b[0m\n\u001b[0;32m     <a href='vscode-notebook-cell:/c%3A/Users/eshaa/OneDrive/Desktop/Coding/ResearchProject/main.ipynb#W6sZmlsZQ%3D%3D?line=73'>74</a>\u001b[0m \u001b[39mdef\u001b[39;00m \u001b[39mforward\u001b[39m (\u001b[39mself\u001b[39m, x):\n\u001b[1;32m---> <a href='vscode-notebook-cell:/c%3A/Users/eshaa/OneDrive/Desktop/Coding/ResearchProject/main.ipynb#W6sZmlsZQ%3D%3D?line=74'>75</a>\u001b[0m     x \u001b[39m=\u001b[39m \u001b[39mself\u001b[39;49m\u001b[39m.\u001b[39;49mgenerate_weight_vector(x, \u001b[39mself\u001b[39;49m\u001b[39m.\u001b[39;49mfirst_input)\n\u001b[0;32m     <a href='vscode-notebook-cell:/c%3A/Users/eshaa/OneDrive/Desktop/Coding/ResearchProject/main.ipynb#W6sZmlsZQ%3D%3D?line=75'>76</a>\u001b[0m     x \u001b[39m=\u001b[39m \u001b[39mself\u001b[39m\u001b[39m.\u001b[39mdense_nn(x)\n\u001b[0;32m     <a href='vscode-notebook-cell:/c%3A/Users/eshaa/OneDrive/Desktop/Coding/ResearchProject/main.ipynb#W6sZmlsZQ%3D%3D?line=76'>77</a>\u001b[0m     \u001b[39mreturn\u001b[39;00m x\n",
      "\u001b[1;32mc:\\Users\\eshaa\\OneDrive\\Desktop\\Coding\\ResearchProject\\main.ipynb Cell 8\u001b[0m in \u001b[0;36mVNN.generate_weight_vector\u001b[1;34m(self, x, output_size)\u001b[0m\n\u001b[0;32m     <a href='vscode-notebook-cell:/c%3A/Users/eshaa/OneDrive/Desktop/Coding/ResearchProject/main.ipynb#W6sZmlsZQ%3D%3D?line=53'>54</a>\u001b[0m x_concat \u001b[39m=\u001b[39m x[argument_one]\u001b[39m.\u001b[39munsqueeze(\u001b[39m1\u001b[39m)\n\u001b[0;32m     <a href='vscode-notebook-cell:/c%3A/Users/eshaa/OneDrive/Desktop/Coding/ResearchProject/main.ipynb#W6sZmlsZQ%3D%3D?line=55'>56</a>\u001b[0m \u001b[39m# Positional Encoding + Concat\u001b[39;00m\n\u001b[1;32m---> <a href='vscode-notebook-cell:/c%3A/Users/eshaa/OneDrive/Desktop/Coding/ResearchProject/main.ipynb#W6sZmlsZQ%3D%3D?line=56'>57</a>\u001b[0m argument_one \u001b[39m=\u001b[39m \u001b[39mself\u001b[39;49m\u001b[39m.\u001b[39;49mpos_enc(argument_one)\n\u001b[0;32m     <a href='vscode-notebook-cell:/c%3A/Users/eshaa/OneDrive/Desktop/Coding/ResearchProject/main.ipynb#W6sZmlsZQ%3D%3D?line=57'>58</a>\u001b[0m argument_two \u001b[39m=\u001b[39m \u001b[39mself\u001b[39m\u001b[39m.\u001b[39mpos_enc(argument_two)\n\u001b[0;32m     <a href='vscode-notebook-cell:/c%3A/Users/eshaa/OneDrive/Desktop/Coding/ResearchProject/main.ipynb#W6sZmlsZQ%3D%3D?line=58'>59</a>\u001b[0m bias_argument \u001b[39m=\u001b[39m \u001b[39mself\u001b[39m\u001b[39m.\u001b[39mpos_enc(bias_argument) \n",
      "File \u001b[1;32m~\\AppData\\Local\\Programs\\Python\\Python310\\lib\\site-packages\\torch\\nn\\modules\\module.py:1130\u001b[0m, in \u001b[0;36mModule._call_impl\u001b[1;34m(self, *input, **kwargs)\u001b[0m\n\u001b[0;32m   1126\u001b[0m \u001b[39m# If we don't have any hooks, we want to skip the rest of the logic in\u001b[39;00m\n\u001b[0;32m   1127\u001b[0m \u001b[39m# this function, and just call forward.\u001b[39;00m\n\u001b[0;32m   1128\u001b[0m \u001b[39mif\u001b[39;00m \u001b[39mnot\u001b[39;00m (\u001b[39mself\u001b[39m\u001b[39m.\u001b[39m_backward_hooks \u001b[39mor\u001b[39;00m \u001b[39mself\u001b[39m\u001b[39m.\u001b[39m_forward_hooks \u001b[39mor\u001b[39;00m \u001b[39mself\u001b[39m\u001b[39m.\u001b[39m_forward_pre_hooks \u001b[39mor\u001b[39;00m _global_backward_hooks\n\u001b[0;32m   1129\u001b[0m         \u001b[39mor\u001b[39;00m _global_forward_hooks \u001b[39mor\u001b[39;00m _global_forward_pre_hooks):\n\u001b[1;32m-> 1130\u001b[0m     \u001b[39mreturn\u001b[39;00m forward_call(\u001b[39m*\u001b[39m\u001b[39minput\u001b[39m, \u001b[39m*\u001b[39m\u001b[39m*\u001b[39mkwargs)\n\u001b[0;32m   1131\u001b[0m \u001b[39m# Do not call functions when jit is used\u001b[39;00m\n\u001b[0;32m   1132\u001b[0m full_backward_hooks, non_full_backward_hooks \u001b[39m=\u001b[39m [], []\n",
      "\u001b[1;32mc:\\Users\\eshaa\\OneDrive\\Desktop\\Coding\\ResearchProject\\main.ipynb Cell 8\u001b[0m in \u001b[0;36mPositionalEncoding.forward\u001b[1;34m(self, x)\u001b[0m\n\u001b[0;32m     <a href='vscode-notebook-cell:/c%3A/Users/eshaa/OneDrive/Desktop/Coding/ResearchProject/main.ipynb#W6sZmlsZQ%3D%3D?line=19'>20</a>\u001b[0m \u001b[39mdef\u001b[39;00m \u001b[39mforward\u001b[39m(\u001b[39mself\u001b[39m, x: Tensor) \u001b[39m-\u001b[39m\u001b[39m>\u001b[39m Tensor:\n\u001b[0;32m     <a href='vscode-notebook-cell:/c%3A/Users/eshaa/OneDrive/Desktop/Coding/ResearchProject/main.ipynb#W6sZmlsZQ%3D%3D?line=20'>21</a>\u001b[0m     \u001b[39m\"\"\"\u001b[39;00m\n\u001b[0;32m     <a href='vscode-notebook-cell:/c%3A/Users/eshaa/OneDrive/Desktop/Coding/ResearchProject/main.ipynb#W6sZmlsZQ%3D%3D?line=21'>22</a>\u001b[0m \u001b[39m    Args:\u001b[39;00m\n\u001b[0;32m     <a href='vscode-notebook-cell:/c%3A/Users/eshaa/OneDrive/Desktop/Coding/ResearchProject/main.ipynb#W6sZmlsZQ%3D%3D?line=22'>23</a>\u001b[0m \u001b[39m        x: Tensor, shape [seq_len, batch_size, embedding_dim]\u001b[39;00m\n\u001b[0;32m     <a href='vscode-notebook-cell:/c%3A/Users/eshaa/OneDrive/Desktop/Coding/ResearchProject/main.ipynb#W6sZmlsZQ%3D%3D?line=23'>24</a>\u001b[0m \u001b[39m    \"\"\"\u001b[39;00m\n\u001b[1;32m---> <a href='vscode-notebook-cell:/c%3A/Users/eshaa/OneDrive/Desktop/Coding/ResearchProject/main.ipynb#W6sZmlsZQ%3D%3D?line=24'>25</a>\u001b[0m     \u001b[39mreturn\u001b[39;00m \u001b[39mself\u001b[39;49m\u001b[39m.\u001b[39;49mpe[x]\u001b[39m.\u001b[39msqueeze(\u001b[39m1\u001b[39m)\n",
      "\u001b[1;31mRuntimeError\u001b[0m: CUDA error: device-side assert triggered\nCUDA kernel errors might be asynchronously reported at some other API call,so the stacktrace below might be incorrect.\nFor debugging consider passing CUDA_LAUNCH_BLOCKING=1."
     ]
    }
   ],
   "source": [
    "# d_model = 32\n",
    "# weight_model = nn.Sequential(\n",
    "#     nn.Linear(65, 32),\n",
    "#     nn.Tanh(),\n",
    "#     nn.Linear(32, 1)\n",
    "# ) \n",
    "\n",
    "# bias_model = nn.Sequential(\n",
    "#     nn.Linear(33, 10),\n",
    "#     nn.Tanh(),\n",
    "#     nn.Linear(10, 1)\n",
    "# )\n",
    "\n",
    "# dense_model = nn.Sequential(\n",
    "#     nn.Linear(128, 64),\n",
    "#     nn.Tanh(),\n",
    "#     nn.Linear(64,  10),\n",
    "# )\n",
    "\n",
    "# policy = VNN(dense_model, weight_model, bias_model)\n",
    "# policy(torch.randn(128).to(device))\n",
    "\n",
    "from random import randint\n",
    "\n",
    "\n",
    "class Model(nn.Module):\n",
    "    def __init__(self, use_VNN=False):\n",
    "        super().__init__()\n",
    "        self.conv = nn.Sequential(\n",
    "            nn.Conv2d(1, 32, kernel_size=5, stride=1, padding=1),\n",
    "            nn.BatchNorm2d(32),\n",
    "            nn.ReLU(),\n",
    "            nn.Conv2d(32, 64, kernel_size=5, stride=1, padding=1),\n",
    "            nn.BatchNorm2d(64),\n",
    "            nn.ReLU(),\n",
    "            nn.MaxPool2d(kernel_size=2),\n",
    "            \n",
    "            nn.Conv2d(64, 64, kernel_size=3, stride=1, padding=1),\n",
    "            nn.BatchNorm2d(64),\n",
    "            nn.ReLU(),\n",
    "            nn.Conv2d(64, 128, kernel_size=3, stride=1, padding=1),\n",
    "            nn.BatchNorm2d(128),\n",
    "            nn.ReLU(),\n",
    "            nn.MaxPool2d(kernel_size=2),\n",
    "            \n",
    "            nn.Conv2d(128, 128, kernel_size=3, stride=1, padding=1),\n",
    "            nn.BatchNorm2d(128),\n",
    "            nn.ReLU(),\n",
    "            nn.MaxPool2d(kernel_size=2),\n",
    "        )\n",
    "        self.flatten = nn.Flatten()\n",
    "\n",
    "        if use_VNN:\n",
    "            d_model = 32\n",
    "            weight_model = nn.Sequential(\n",
    "                nn.Linear(65, 32),\n",
    "                nn.Tanh(),\n",
    "                nn.Linear(32, 1)\n",
    "            ) \n",
    "\n",
    "            bias_model = nn.Sequential(\n",
    "                nn.Linear(33, 10),\n",
    "                nn.Tanh(),\n",
    "                nn.Linear(10, 1)\n",
    "            )\n",
    "\n",
    "            dense_model = nn.Sequential(\n",
    "                nn.Linear(128, 64),\n",
    "                nn.Tanh(),\n",
    "                nn.Linear(64,  10),\n",
    "            )\n",
    "            self.linear = VNN(dense_model, weight_model, bias_model)\n",
    "        else:\n",
    "            self.linear = nn.Sequential(\n",
    "                nn.Linear(3*3*128, 256),\n",
    "                nn.ReLU(),\n",
    "                nn.Dropout(p=0.4),\n",
    "                nn.Linear(256, 10),\n",
    "                nn.Softmax(dim=1)\n",
    "            )\n",
    "\n",
    "    def forward(self, X):\n",
    "        X = self.conv(X)\n",
    "        X = self.flatten(X)\n",
    "        print(X.shape)\n",
    "        X = self.linear(X)\n",
    "        \n",
    "        return X\n",
    "\n",
    "model = Model(use_VNN=True).to(device)\n",
    "criterion = nn.CrossEntropyLoss()\n",
    "optimizer = torch.optim.SGD(params=model.parameters(), lr=1e-3)\n",
    "\n",
    "index = randint(0, len(orig_x_train))\n",
    "inp = orig_x_train[index].unsqueeze(0)\n",
    "print(inp.shape)\n",
    "y = model(inp.to(device))\n",
    "y"
   ]
  },
  {
   "cell_type": "markdown",
   "metadata": {},
   "source": [
    "## Training!"
   ]
  },
  {
   "cell_type": "code",
   "execution_count": 9,
   "metadata": {},
   "outputs": [
    {
     "name": "stderr",
     "output_type": "stream",
     "text": [
      "Epoch: 0 Loss: 1.4616:   2%|▏         | 1348/60000 [00:15<11:21, 86.02it/s]\n"
     ]
    },
    {
     "ename": "KeyboardInterrupt",
     "evalue": "",
     "output_type": "error",
     "traceback": [
      "\u001b[1;31m---------------------------------------------------------------------------\u001b[0m",
      "\u001b[1;31mKeyboardInterrupt\u001b[0m                         Traceback (most recent call last)",
      "\u001b[1;32mc:\\Users\\eshaa\\OneDrive\\Desktop\\Coding\\ResearchProject\\main.ipynb Cell 10\u001b[0m in \u001b[0;36m<cell line: 7>\u001b[1;34m()\u001b[0m\n\u001b[0;32m     <a href='vscode-notebook-cell:/c%3A/Users/eshaa/OneDrive/Desktop/Coding/ResearchProject/main.ipynb#X11sZmlsZQ%3D%3D?line=11'>12</a>\u001b[0m exp_out \u001b[39m=\u001b[39m torch\u001b[39m.\u001b[39mtensor(orig_y_train[index])\u001b[39m.\u001b[39munsqueeze(\u001b[39m0\u001b[39m)\u001b[39m.\u001b[39mto(device)\n\u001b[0;32m     <a href='vscode-notebook-cell:/c%3A/Users/eshaa/OneDrive/Desktop/Coding/ResearchProject/main.ipynb#X11sZmlsZQ%3D%3D?line=13'>14</a>\u001b[0m optimizer\u001b[39m.\u001b[39mzero_grad()\n\u001b[1;32m---> <a href='vscode-notebook-cell:/c%3A/Users/eshaa/OneDrive/Desktop/Coding/ResearchProject/main.ipynb#X11sZmlsZQ%3D%3D?line=14'>15</a>\u001b[0m out \u001b[39m=\u001b[39m model(inp)\n\u001b[0;32m     <a href='vscode-notebook-cell:/c%3A/Users/eshaa/OneDrive/Desktop/Coding/ResearchProject/main.ipynb#X11sZmlsZQ%3D%3D?line=15'>16</a>\u001b[0m loss \u001b[39m=\u001b[39m criterion(out, exp_out)\n\u001b[0;32m     <a href='vscode-notebook-cell:/c%3A/Users/eshaa/OneDrive/Desktop/Coding/ResearchProject/main.ipynb#X11sZmlsZQ%3D%3D?line=16'>17</a>\u001b[0m loss\u001b[39m.\u001b[39mbackward()\n",
      "File \u001b[1;32m~\\AppData\\Local\\Programs\\Python\\Python310\\lib\\site-packages\\torch\\nn\\modules\\module.py:1130\u001b[0m, in \u001b[0;36mModule._call_impl\u001b[1;34m(self, *input, **kwargs)\u001b[0m\n\u001b[0;32m   1126\u001b[0m \u001b[39m# If we don't have any hooks, we want to skip the rest of the logic in\u001b[39;00m\n\u001b[0;32m   1127\u001b[0m \u001b[39m# this function, and just call forward.\u001b[39;00m\n\u001b[0;32m   1128\u001b[0m \u001b[39mif\u001b[39;00m \u001b[39mnot\u001b[39;00m (\u001b[39mself\u001b[39m\u001b[39m.\u001b[39m_backward_hooks \u001b[39mor\u001b[39;00m \u001b[39mself\u001b[39m\u001b[39m.\u001b[39m_forward_hooks \u001b[39mor\u001b[39;00m \u001b[39mself\u001b[39m\u001b[39m.\u001b[39m_forward_pre_hooks \u001b[39mor\u001b[39;00m _global_backward_hooks\n\u001b[0;32m   1129\u001b[0m         \u001b[39mor\u001b[39;00m _global_forward_hooks \u001b[39mor\u001b[39;00m _global_forward_pre_hooks):\n\u001b[1;32m-> 1130\u001b[0m     \u001b[39mreturn\u001b[39;00m forward_call(\u001b[39m*\u001b[39m\u001b[39minput\u001b[39m, \u001b[39m*\u001b[39m\u001b[39m*\u001b[39mkwargs)\n\u001b[0;32m   1131\u001b[0m \u001b[39m# Do not call functions when jit is used\u001b[39;00m\n\u001b[0;32m   1132\u001b[0m full_backward_hooks, non_full_backward_hooks \u001b[39m=\u001b[39m [], []\n",
      "\u001b[1;32mc:\\Users\\eshaa\\OneDrive\\Desktop\\Coding\\ResearchProject\\main.ipynb Cell 10\u001b[0m in \u001b[0;36mModel.forward\u001b[1;34m(self, X)\u001b[0m\n\u001b[0;32m     <a href='vscode-notebook-cell:/c%3A/Users/eshaa/OneDrive/Desktop/Coding/ResearchProject/main.ipynb#X11sZmlsZQ%3D%3D?line=59'>60</a>\u001b[0m \u001b[39mdef\u001b[39;00m \u001b[39mforward\u001b[39m(\u001b[39mself\u001b[39m, X):\n\u001b[1;32m---> <a href='vscode-notebook-cell:/c%3A/Users/eshaa/OneDrive/Desktop/Coding/ResearchProject/main.ipynb#X11sZmlsZQ%3D%3D?line=60'>61</a>\u001b[0m     X \u001b[39m=\u001b[39m \u001b[39mself\u001b[39;49m\u001b[39m.\u001b[39;49mconv(X)\n\u001b[0;32m     <a href='vscode-notebook-cell:/c%3A/Users/eshaa/OneDrive/Desktop/Coding/ResearchProject/main.ipynb#X11sZmlsZQ%3D%3D?line=61'>62</a>\u001b[0m     X \u001b[39m=\u001b[39m \u001b[39mself\u001b[39m\u001b[39m.\u001b[39mflatten(X)\n\u001b[0;32m     <a href='vscode-notebook-cell:/c%3A/Users/eshaa/OneDrive/Desktop/Coding/ResearchProject/main.ipynb#X11sZmlsZQ%3D%3D?line=62'>63</a>\u001b[0m     X \u001b[39m=\u001b[39m \u001b[39mself\u001b[39m\u001b[39m.\u001b[39mlinear(X)\n",
      "File \u001b[1;32m~\\AppData\\Local\\Programs\\Python\\Python310\\lib\\site-packages\\torch\\nn\\modules\\module.py:1130\u001b[0m, in \u001b[0;36mModule._call_impl\u001b[1;34m(self, *input, **kwargs)\u001b[0m\n\u001b[0;32m   1126\u001b[0m \u001b[39m# If we don't have any hooks, we want to skip the rest of the logic in\u001b[39;00m\n\u001b[0;32m   1127\u001b[0m \u001b[39m# this function, and just call forward.\u001b[39;00m\n\u001b[0;32m   1128\u001b[0m \u001b[39mif\u001b[39;00m \u001b[39mnot\u001b[39;00m (\u001b[39mself\u001b[39m\u001b[39m.\u001b[39m_backward_hooks \u001b[39mor\u001b[39;00m \u001b[39mself\u001b[39m\u001b[39m.\u001b[39m_forward_hooks \u001b[39mor\u001b[39;00m \u001b[39mself\u001b[39m\u001b[39m.\u001b[39m_forward_pre_hooks \u001b[39mor\u001b[39;00m _global_backward_hooks\n\u001b[0;32m   1129\u001b[0m         \u001b[39mor\u001b[39;00m _global_forward_hooks \u001b[39mor\u001b[39;00m _global_forward_pre_hooks):\n\u001b[1;32m-> 1130\u001b[0m     \u001b[39mreturn\u001b[39;00m forward_call(\u001b[39m*\u001b[39m\u001b[39minput\u001b[39m, \u001b[39m*\u001b[39m\u001b[39m*\u001b[39mkwargs)\n\u001b[0;32m   1131\u001b[0m \u001b[39m# Do not call functions when jit is used\u001b[39;00m\n\u001b[0;32m   1132\u001b[0m full_backward_hooks, non_full_backward_hooks \u001b[39m=\u001b[39m [], []\n",
      "File \u001b[1;32m~\\AppData\\Local\\Programs\\Python\\Python310\\lib\\site-packages\\torch\\nn\\modules\\container.py:139\u001b[0m, in \u001b[0;36mSequential.forward\u001b[1;34m(self, input)\u001b[0m\n\u001b[0;32m    137\u001b[0m \u001b[39mdef\u001b[39;00m \u001b[39mforward\u001b[39m(\u001b[39mself\u001b[39m, \u001b[39minput\u001b[39m):\n\u001b[0;32m    138\u001b[0m     \u001b[39mfor\u001b[39;00m module \u001b[39min\u001b[39;00m \u001b[39mself\u001b[39m:\n\u001b[1;32m--> 139\u001b[0m         \u001b[39minput\u001b[39m \u001b[39m=\u001b[39m module(\u001b[39minput\u001b[39;49m)\n\u001b[0;32m    140\u001b[0m     \u001b[39mreturn\u001b[39;00m \u001b[39minput\u001b[39m\n",
      "File \u001b[1;32m~\\AppData\\Local\\Programs\\Python\\Python310\\lib\\site-packages\\torch\\nn\\modules\\module.py:1130\u001b[0m, in \u001b[0;36mModule._call_impl\u001b[1;34m(self, *input, **kwargs)\u001b[0m\n\u001b[0;32m   1126\u001b[0m \u001b[39m# If we don't have any hooks, we want to skip the rest of the logic in\u001b[39;00m\n\u001b[0;32m   1127\u001b[0m \u001b[39m# this function, and just call forward.\u001b[39;00m\n\u001b[0;32m   1128\u001b[0m \u001b[39mif\u001b[39;00m \u001b[39mnot\u001b[39;00m (\u001b[39mself\u001b[39m\u001b[39m.\u001b[39m_backward_hooks \u001b[39mor\u001b[39;00m \u001b[39mself\u001b[39m\u001b[39m.\u001b[39m_forward_hooks \u001b[39mor\u001b[39;00m \u001b[39mself\u001b[39m\u001b[39m.\u001b[39m_forward_pre_hooks \u001b[39mor\u001b[39;00m _global_backward_hooks\n\u001b[0;32m   1129\u001b[0m         \u001b[39mor\u001b[39;00m _global_forward_hooks \u001b[39mor\u001b[39;00m _global_forward_pre_hooks):\n\u001b[1;32m-> 1130\u001b[0m     \u001b[39mreturn\u001b[39;00m forward_call(\u001b[39m*\u001b[39m\u001b[39minput\u001b[39m, \u001b[39m*\u001b[39m\u001b[39m*\u001b[39mkwargs)\n\u001b[0;32m   1131\u001b[0m \u001b[39m# Do not call functions when jit is used\u001b[39;00m\n\u001b[0;32m   1132\u001b[0m full_backward_hooks, non_full_backward_hooks \u001b[39m=\u001b[39m [], []\n",
      "File \u001b[1;32m~\\AppData\\Local\\Programs\\Python\\Python310\\lib\\site-packages\\torch\\nn\\modules\\conv.py:457\u001b[0m, in \u001b[0;36mConv2d.forward\u001b[1;34m(self, input)\u001b[0m\n\u001b[0;32m    456\u001b[0m \u001b[39mdef\u001b[39;00m \u001b[39mforward\u001b[39m(\u001b[39mself\u001b[39m, \u001b[39minput\u001b[39m: Tensor) \u001b[39m-\u001b[39m\u001b[39m>\u001b[39m Tensor:\n\u001b[1;32m--> 457\u001b[0m     \u001b[39mreturn\u001b[39;00m \u001b[39mself\u001b[39;49m\u001b[39m.\u001b[39;49m_conv_forward(\u001b[39minput\u001b[39;49m, \u001b[39mself\u001b[39;49m\u001b[39m.\u001b[39;49mweight, \u001b[39mself\u001b[39;49m\u001b[39m.\u001b[39;49mbias)\n",
      "File \u001b[1;32m~\\AppData\\Local\\Programs\\Python\\Python310\\lib\\site-packages\\torch\\nn\\modules\\conv.py:453\u001b[0m, in \u001b[0;36mConv2d._conv_forward\u001b[1;34m(self, input, weight, bias)\u001b[0m\n\u001b[0;32m    449\u001b[0m \u001b[39mif\u001b[39;00m \u001b[39mself\u001b[39m\u001b[39m.\u001b[39mpadding_mode \u001b[39m!=\u001b[39m \u001b[39m'\u001b[39m\u001b[39mzeros\u001b[39m\u001b[39m'\u001b[39m:\n\u001b[0;32m    450\u001b[0m     \u001b[39mreturn\u001b[39;00m F\u001b[39m.\u001b[39mconv2d(F\u001b[39m.\u001b[39mpad(\u001b[39minput\u001b[39m, \u001b[39mself\u001b[39m\u001b[39m.\u001b[39m_reversed_padding_repeated_twice, mode\u001b[39m=\u001b[39m\u001b[39mself\u001b[39m\u001b[39m.\u001b[39mpadding_mode),\n\u001b[0;32m    451\u001b[0m                     weight, bias, \u001b[39mself\u001b[39m\u001b[39m.\u001b[39mstride,\n\u001b[0;32m    452\u001b[0m                     _pair(\u001b[39m0\u001b[39m), \u001b[39mself\u001b[39m\u001b[39m.\u001b[39mdilation, \u001b[39mself\u001b[39m\u001b[39m.\u001b[39mgroups)\n\u001b[1;32m--> 453\u001b[0m \u001b[39mreturn\u001b[39;00m F\u001b[39m.\u001b[39;49mconv2d(\u001b[39minput\u001b[39;49m, weight, bias, \u001b[39mself\u001b[39;49m\u001b[39m.\u001b[39;49mstride,\n\u001b[0;32m    454\u001b[0m                 \u001b[39mself\u001b[39;49m\u001b[39m.\u001b[39;49mpadding, \u001b[39mself\u001b[39;49m\u001b[39m.\u001b[39;49mdilation, \u001b[39mself\u001b[39;49m\u001b[39m.\u001b[39;49mgroups)\n",
      "\u001b[1;31mKeyboardInterrupt\u001b[0m: "
     ]
    }
   ],
   "source": [
    "from tqdm import trange\n",
    "from random import randint\n",
    "import numpy as np\n",
    "\n",
    "losses = []\n",
    "loss_avg = 0\n",
    "for epochs in range(5):\n",
    "    progress_bar = trange(len(orig_x_train))\n",
    "    for i in progress_bar:\n",
    "        index = randint(0, len(orig_x_train)-1)\n",
    "        inp = orig_x_train[index].unsqueeze(0).to(device)\n",
    "        exp_out = torch.tensor(orig_y_train[index]).unsqueeze(0).to(device)\n",
    "\n",
    "        optimizer.zero_grad()\n",
    "        out = model(inp)\n",
    "        loss = criterion(out, exp_out)\n",
    "        loss.backward()\n",
    "        optimizer.step()\n",
    "\n",
    "        loss_avg += loss.item()\n",
    "        if i % 100 == 0: \n",
    "            if i == 0:\n",
    "                losses.append(loss.item())\n",
    "            else:\n",
    "                losses.append(loss_avg / 100)\n",
    "                loss_avg = 0\n",
    "        progress_bar.set_description(f\"Epoch: {epochs} Loss: {loss.item():.4f}\")\n",
    "     "
   ]
  },
  {
   "cell_type": "code",
   "execution_count": null,
   "metadata": {},
   "outputs": [],
   "source": [
    "import matplotlib.pyplot as plt\n",
    "\n",
    "plt.plot(losses)"
   ]
  }
 ],
 "metadata": {
  "kernelspec": {
   "display_name": "Python 3.10.5 64-bit",
   "language": "python",
   "name": "python3"
  },
  "language_info": {
   "codemirror_mode": {
    "name": "ipython",
    "version": 3
   },
   "file_extension": ".py",
   "mimetype": "text/x-python",
   "name": "python",
   "nbconvert_exporter": "python",
   "pygments_lexer": "ipython3",
   "version": "3.10.5"
  },
  "orig_nbformat": 4,
  "vscode": {
   "interpreter": {
    "hash": "369f2c481f4da34e4445cda3fffd2e751bd1c4d706f27375911949ba6bb62e1c"
   }
  }
 },
 "nbformat": 4,
 "nbformat_minor": 2
}
